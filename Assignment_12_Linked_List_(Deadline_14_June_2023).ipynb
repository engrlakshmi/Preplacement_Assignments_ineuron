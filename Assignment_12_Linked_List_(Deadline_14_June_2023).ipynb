{
  "nbformat": 4,
  "nbformat_minor": 0,
  "metadata": {
    "colab": {
      "provenance": []
    },
    "kernelspec": {
      "name": "python3",
      "display_name": "Python 3"
    },
    "language_info": {
      "name": "python"
    }
  },
  "cells": [
    {
      "cell_type": "code",
      "execution_count": null,
      "metadata": {
        "id": "sITiCirkiHX1"
      },
      "outputs": [],
      "source": []
    },
    {
      "cell_type": "markdown",
      "source": [
        "<aside>\n",
        "💡 **Question 1**\n",
        "\n",
        "Given a singly linked list, delete **middle** of the linked list. For example, if given linked list is 1->2->**3**->4->5 then linked list should be modified to 1->2->4->5.If there are **even** nodes, then there would be **two middle** nodes, we need to delete the second middle element. For example, if given linked list is 1->2->3->4->5->6 then it should be modified to 1->2->3->5->6.If the input linked list is NULL or has 1 node, then it should return NULL\n",
        "\n",
        "**Example 1:**\n",
        "\n",
        "</aside>"
      ],
      "metadata": {
        "id": "MOVNkPqPiM2x"
      }
    },
    {
      "cell_type": "code",
      "source": [
        "\n",
        "class ListNode:\n",
        "    def __init__(self, val=0, next=None):\n",
        "        self.val = val\n",
        "        self.next = next\n",
        "\n",
        "\n",
        "def deleteMiddleNode(head):\n",
        "    if head is None or head.next is None:\n",
        "        return None\n",
        "\n",
        "    slow = head\n",
        "    fast = head\n",
        "    prev = None\n",
        "\n",
        "    while fast is not None and fast.next is not None:\n",
        "        fast = fast.next.next\n",
        "        prev = slow\n",
        "        slow = slow.next\n",
        "\n",
        "    prev.next = slow.next\n",
        "\n",
        "    return head\n",
        "\n",
        "\n",
        "# Example 1\n",
        "# Original Linked List: 1->2->3->4->5\n",
        "head = ListNode(1)\n",
        "head.next = ListNode(2)\n",
        "head.next.next = ListNode(3)\n",
        "head.next.next.next = ListNode(4)\n",
        "head.next.next.next.next = ListNode(5)\n",
        "\n",
        "result = deleteMiddleNode(head)\n",
        "\n",
        "# Expected Modified Linked List: 1->2->4->5\n",
        "current = result\n",
        "while current is not None:\n",
        "    print(current.val, end=\"->\")\n",
        "    current = current.next\n",
        "# Output: 1->2->4->5\n"
      ],
      "metadata": {
        "colab": {
          "base_uri": "https://localhost:8080/"
        },
        "id": "ZX-K6epQiTSu",
        "outputId": "c5fd991a-6bdd-437e-d4c5-3b4d6e58e56a"
      },
      "execution_count": null,
      "outputs": [
        {
          "output_type": "stream",
          "name": "stdout",
          "text": [
            "1->2->4->5->"
          ]
        }
      ]
    },
    {
      "cell_type": "code",
      "source": [],
      "metadata": {
        "id": "f_R76yUCjexv"
      },
      "execution_count": null,
      "outputs": []
    },
    {
      "cell_type": "markdown",
      "source": [
        "<aside>\n",
        "💡 **Question 2**\n",
        "\n",
        "Given a linked list of **N** nodes. The task is to check if the linked list has a loop. Linked list can contain self loop.\n",
        "\n",
        "**Example 1:**\n",
        "\n",
        "</aside>"
      ],
      "metadata": {
        "id": "LJPSMDv7jfI_"
      }
    },
    {
      "cell_type": "code",
      "source": [
        "class Node:\n",
        "    def __init__(self, data):\n",
        "        self.data = data\n",
        "        self.next = None\n",
        "\n",
        "def detect_loop(head):\n",
        "    slow = head\n",
        "    fast = head\n",
        "\n",
        "    while fast and fast.next:\n",
        "        slow = slow.next\n",
        "        fast = fast.next.next\n",
        "\n",
        "        if slow == fast:\n",
        "            return True\n",
        "\n",
        "    return False\n"
      ],
      "metadata": {
        "id": "rWYLgTSoj1Zj"
      },
      "execution_count": 1,
      "outputs": []
    },
    {
      "cell_type": "code",
      "source": [
        "# Create a linked list with a loop\n",
        "head = Node(1)\n",
        "head.next = Node(2)\n",
        "head.next.next = Node(3)\n",
        "head.next.next.next = Node(4)\n",
        "head.next.next.next.next = head.next  # Creating a loop\n",
        "\n",
        "has_loop = detect_loop(head)\n",
        "print(\"Linked list has a loop:\", has_loop)\n"
      ],
      "metadata": {
        "colab": {
          "base_uri": "https://localhost:8080/"
        },
        "id": "0ZHz57pOoWe6",
        "outputId": "3540c497-f02e-4019-f587-43332cb71c4a"
      },
      "execution_count": 2,
      "outputs": [
        {
          "output_type": "stream",
          "name": "stdout",
          "text": [
            "Linked list has a loop: True\n"
          ]
        }
      ]
    },
    {
      "cell_type": "code",
      "source": [],
      "metadata": {
        "id": "_E8OCigaoY9Q"
      },
      "execution_count": null,
      "outputs": []
    },
    {
      "cell_type": "markdown",
      "source": [
        "<aside>\n",
        "💡 **Question 3**\n",
        "\n",
        "Given a Linked List of size N, where every node represents a sub-linked-list and contains two pointers:(i) a **next** pointer to the next node,(ii) a **bottom** pointer to a linked list where this node is head.Each of the sub-linked-list is in sorted order.Flatten the Link List such that all the nodes appear in a single level while maintaining the sorted order. **Note:** The flattened list will be printed using the bottom pointer instead of next pointer.\n",
        "\n",
        "</aside>"
      ],
      "metadata": {
        "id": "7oHGYj-ooa-T"
      }
    },
    {
      "cell_type": "code",
      "source": [
        "class Node:\n",
        "    def __init__(self, data):\n",
        "        self.data = data\n",
        "        self.next = None\n",
        "        self.bottom = None\n",
        "\n",
        "def merge_lists(a, b):\n",
        "    if a is None:\n",
        "        return b\n",
        "    if b is None:\n",
        "        return a\n",
        "\n",
        "    result = None\n",
        "\n",
        "    if a.data <= b.data:\n",
        "        result = a\n",
        "        result.bottom = merge_lists(a.bottom, b)\n",
        "    else:\n",
        "        result = b\n",
        "        result.bottom = merge_lists(a, b.bottom)\n",
        "\n",
        "    result.next = None\n",
        "    return result\n",
        "\n",
        "def flatten_list(head):\n",
        "    if head is None or head.next is None:\n",
        "        return head\n",
        "\n",
        "    # Recursively flatten the remaining list\n",
        "    head.next = flatten_list(head.next)\n",
        "\n",
        "    # Merge the current list with the flattened list\n",
        "    head = merge_lists(head, head.next)\n",
        "\n",
        "    return head\n"
      ],
      "metadata": {
        "id": "jfIJFoe5ogAA"
      },
      "execution_count": 3,
      "outputs": []
    },
    {
      "cell_type": "code",
      "source": [
        "# Create a linked list with sub-linked lists\n",
        "head = Node(5)\n",
        "head.next = Node(10)\n",
        "head.next.next = Node(19)\n",
        "head.next.next.next = Node(28)\n",
        "\n",
        "head.bottom = Node(7)\n",
        "head.bottom.bottom = Node(8)\n",
        "head.bottom.bottom.bottom = Node(30)\n",
        "\n",
        "head.next.bottom = Node(20)\n",
        "\n",
        "head.next.next.bottom = Node(22)\n",
        "head.next.next.bottom.bottom = Node(50)\n",
        "\n",
        "head.next.next.next.bottom = Node(35)\n",
        "head.next.next.next.bottom.bottom = Node(40)\n",
        "head.next.next.next.bottom.bottom.bottom = Node(45)\n",
        "\n",
        "flattened_head = flatten_list(head)\n",
        "\n",
        "# Print the flattened list using the bottom pointer\n",
        "temp = flattened_head\n",
        "while temp:\n",
        "    print(temp.data, end=\" \")\n",
        "    temp = temp.bottom\n"
      ],
      "metadata": {
        "colab": {
          "base_uri": "https://localhost:8080/"
        },
        "id": "N6ccrdltol9B",
        "outputId": "9f264fdd-f7f7-4dc0-8436-8c4fbd6efd88"
      },
      "execution_count": 4,
      "outputs": [
        {
          "output_type": "stream",
          "name": "stdout",
          "text": [
            "5 7 8 10 19 20 22 28 30 35 40 45 50 "
          ]
        }
      ]
    },
    {
      "cell_type": "code",
      "source": [],
      "metadata": {
        "id": "ny1krUoxoou5"
      },
      "execution_count": null,
      "outputs": []
    },
    {
      "cell_type": "markdown",
      "source": [
        "<aside>\n",
        "💡 **Question 4**\n",
        "\n",
        "You are given a special linked list with **N** nodes where each node has a next pointer pointing to its next node. You are also given **M** random pointers, where you will be given **M** number of pairs denoting two nodes **a** and **b**  **i.e. a->arb = b** (arb is pointer to random node)**.**\n",
        "\n",
        "Construct a copy of the given list. The copy should consist of exactly **N** new nodes, where each new node has its value set to the value of its corresponding original node. Both the next and random pointer of the new nodes should point to new nodes in the copied list such that the pointers in the original list and copied list represent the same list state. None of the pointers in the new list should point to nodes in the original list.\n",
        "\n",
        "For example, if there are two nodes **X** and **Y** in the original list, where **X.arb** **-->** **Y**, then for the corresponding two nodes **x** and **y** in the copied list, **x.arb --> y.**\n",
        "\n",
        "Return the head of the copied linked list.\n",
        "\n",
        "</aside>"
      ],
      "metadata": {
        "id": "GzizhkRUorle"
      }
    },
    {
      "cell_type": "code",
      "source": [
        "class Node:\n",
        "    def __init__(self, data):\n",
        "        self.data = data\n",
        "        self.next = None\n",
        "        self.random = None\n",
        "\n",
        "def copy_random_list(head):\n",
        "    if head is None:\n",
        "        return None\n",
        "\n",
        "    # Create a copy of each node and insert it next to the original node\n",
        "    current = head\n",
        "    while current:\n",
        "        new_node = Node(current.data)\n",
        "        new_node.next = current.next\n",
        "        current.next = new_node\n",
        "        current = new_node.next\n",
        "\n",
        "    # Update random pointers of the copied nodes\n",
        "    current = head\n",
        "    while current:\n",
        "        if current.random:\n",
        "            current.next.random = current.random.next\n",
        "        current = current.next.next\n",
        "\n",
        "    # Separate the original list from the copied list\n",
        "    current = head\n",
        "    new_head = head.next\n",
        "    new_current = new_head\n",
        "    while current:\n",
        "        current.next = current.next.next\n",
        "        if new_current.next:\n",
        "            new_current.next = new_current.next.next\n",
        "        current = current.next\n",
        "        new_current = new_current.next\n",
        "\n",
        "    return new_head\n"
      ],
      "metadata": {
        "id": "evxINGZeoxZ5"
      },
      "execution_count": 5,
      "outputs": []
    },
    {
      "cell_type": "code",
      "source": [
        "# Create a special linked list\n",
        "head = Node(1)\n",
        "head.next = Node(2)\n",
        "head.next.next = Node(3)\n",
        "head.next.next.next = Node(4)\n",
        "head.next.next.next.next = Node(5)\n",
        "\n",
        "# Set random pointers\n",
        "head.random = head.next.next\n",
        "head.next.random = head.next.next.next\n",
        "head.next.next.random = head.next.next.next.next\n",
        "head.next.next.next.random = head.next.next\n",
        "head.next.next.next.next.random = head\n",
        "\n",
        "# Copy the linked list\n",
        "copied_head = copy_random_list(head)\n",
        "\n",
        "# Print the copied linked list\n",
        "current = copied_head\n",
        "while current:\n",
        "    print(\"Node:\", current.data)\n",
        "    if current.random:\n",
        "        print(\"Random Pointer:\", current.random.data)\n",
        "    else:\n",
        "        print(\"Random Pointer: None\")\n",
        "    current = current.next\n"
      ],
      "metadata": {
        "colab": {
          "base_uri": "https://localhost:8080/"
        },
        "id": "RCG2Bpk1pXMg",
        "outputId": "9a3657d5-cb24-4c62-9379-bac4581447f4"
      },
      "execution_count": 6,
      "outputs": [
        {
          "output_type": "stream",
          "name": "stdout",
          "text": [
            "Node: 1\n",
            "Random Pointer: 3\n",
            "Node: 2\n",
            "Random Pointer: 4\n",
            "Node: 3\n",
            "Random Pointer: 5\n",
            "Node: 4\n",
            "Random Pointer: 3\n",
            "Node: 5\n",
            "Random Pointer: 1\n"
          ]
        }
      ]
    },
    {
      "cell_type": "code",
      "source": [],
      "metadata": {
        "id": "GaB2jADIpZ_o"
      },
      "execution_count": null,
      "outputs": []
    },
    {
      "cell_type": "markdown",
      "source": [
        "<aside>\n",
        "💡 **Question 5**\n",
        "\n",
        "Given the `head` of a singly linked list, group all the nodes with odd indices together followed by the nodes with even indices, and return *the reordered list*.\n",
        "\n",
        "The **first** node is considered **odd**, and the **second** node is **even**, and so on.\n",
        "\n",
        "Note that the relative order inside both the even and odd groups should remain as it was in the input.\n",
        "\n",
        "You must solve the problem in `O(1)` extra space complexity and `O(n)` time complexity.\n",
        "\n",
        "</aside>"
      ],
      "metadata": {
        "id": "mvJ7IazRpcEO"
      }
    },
    {
      "cell_type": "code",
      "source": [
        "class ListNode:\n",
        "    def __init__(self, val=0, next=None):\n",
        "        self.val = val\n",
        "        self.next = next\n",
        "\n",
        "def odd_even_list(head):\n",
        "    if not head or not head.next:\n",
        "        return head\n",
        "\n",
        "    odd_head = head\n",
        "    even_head = head.next\n",
        "    odd_tail = odd_head\n",
        "    even_tail = even_head\n",
        "\n",
        "    current = even_head.next\n",
        "    is_odd = True\n",
        "\n",
        "    while current:\n",
        "        if is_odd:\n",
        "            odd_tail.next = current\n",
        "            odd_tail = odd_tail.next\n",
        "        else:\n",
        "            even_tail.next = current\n",
        "            even_tail = even_tail.next\n",
        "\n",
        "        current = current.next\n",
        "        is_odd = not is_odd\n",
        "\n",
        "    even_tail.next = None\n",
        "    odd_tail.next = even_head\n",
        "\n",
        "    return odd_head\n"
      ],
      "metadata": {
        "id": "nCkbg4xQpoOo"
      },
      "execution_count": 7,
      "outputs": []
    },
    {
      "cell_type": "code",
      "source": [
        "# Create a singly linked list\n",
        "head = ListNode(1)\n",
        "head.next = ListNode(2)\n",
        "head.next.next = ListNode(3)\n",
        "head.next.next.next = ListNode(4)\n",
        "head.next.next.next.next = ListNode(5)\n",
        "\n",
        "# Reorder the linked list\n",
        "reordered_head = odd_even_list(head)\n",
        "\n",
        "# Print the reordered list\n",
        "current = reordered_head\n",
        "while current:\n",
        "    print(current.val, end=\" \")\n",
        "    current = current.next\n"
      ],
      "metadata": {
        "colab": {
          "base_uri": "https://localhost:8080/"
        },
        "id": "JyVa5siJpr3Z",
        "outputId": "cffa6cb1-52d7-40c0-fb27-d8f235550d08"
      },
      "execution_count": 8,
      "outputs": [
        {
          "output_type": "stream",
          "name": "stdout",
          "text": [
            "1 3 5 2 4 "
          ]
        }
      ]
    },
    {
      "cell_type": "code",
      "source": [],
      "metadata": {
        "id": "XI-3Q6WbpuSQ"
      },
      "execution_count": null,
      "outputs": []
    },
    {
      "cell_type": "markdown",
      "source": [
        "<aside>\n",
        "💡 **Question 6**\n",
        "\n",
        "Given a singly linked list of size **N**. The task is to **left-shift** the linked list by **k** nodes, where **k** is a given positive integer smaller than or equal to length of the linked list.\n",
        "\n",
        "</aside>"
      ],
      "metadata": {
        "id": "mIBuWUUipwqO"
      }
    },
    {
      "cell_type": "code",
      "source": [
        "class ListNode:\n",
        "    def __init__(self, val=0, next=None):\n",
        "        self.val = val\n",
        "        self.next = next\n",
        "\n",
        "def left_shift_linked_list(head, k):\n",
        "    if k == 0:\n",
        "        return head\n",
        "\n",
        "    # Find the kth node from the beginning\n",
        "    current = head\n",
        "    for _ in range(k - 1):\n",
        "        current = current.next\n",
        "\n",
        "    # Set the kth node as the new head\n",
        "    new_head = current.next\n",
        "    current.next = None\n",
        "\n",
        "    # Traverse to the end of the original linked list\n",
        "    current = new_head\n",
        "    while current.next:\n",
        "        current = current.next\n",
        "\n",
        "    # Set the next pointer of the last node to the original head\n",
        "    current.next = head\n",
        "\n",
        "    return new_head\n"
      ],
      "metadata": {
        "id": "wlIXIcGup2y3"
      },
      "execution_count": 9,
      "outputs": []
    },
    {
      "cell_type": "code",
      "source": [
        "# Create a singly linked list\n",
        "head = ListNode(1)\n",
        "head.next = ListNode(2)\n",
        "head.next.next = ListNode(3)\n",
        "head.next.next.next = ListNode(4)\n",
        "head.next.next.next.next = ListNode(5)\n",
        "\n",
        "# Left-shift the linked list by k = 2\n",
        "k = 2\n",
        "shifted_head = left_shift_linked_list(head, k)\n",
        "\n",
        "# Print the shifted linked list\n",
        "current = shifted_head\n",
        "while current:\n",
        "    print(current.val, end=\" \")\n",
        "    current = current.next\n"
      ],
      "metadata": {
        "colab": {
          "base_uri": "https://localhost:8080/"
        },
        "id": "xVWjojnos_CZ",
        "outputId": "fd4bbe17-e8b4-4ab8-9880-7f7682ab0da4"
      },
      "execution_count": 10,
      "outputs": [
        {
          "output_type": "stream",
          "name": "stdout",
          "text": [
            "3 4 5 1 2 "
          ]
        }
      ]
    },
    {
      "cell_type": "code",
      "source": [],
      "metadata": {
        "id": "yCbdnWhCs_Fn"
      },
      "execution_count": null,
      "outputs": []
    },
    {
      "cell_type": "markdown",
      "source": [
        "<aside>\n",
        "💡 **Question 7**\n",
        "\n",
        "You are given the `head` of a linked list with `n` nodes.\n",
        "\n",
        "For each node in the list, find the value of the **next greater node**. That is, for each node, find the value of the first node that is next to it and has a **strictly larger** value than it.\n",
        "\n",
        "Return an integer array `answer` where `answer[i]` is the value of the next greater node of the `ith` node (**1-indexed**). If the `ith` node does not have a next greater node, set `answer[i] = 0`.\n",
        "\n",
        "</aside>"
      ],
      "metadata": {
        "id": "dih391H3tQuM"
      }
    },
    {
      "cell_type": "code",
      "source": [
        "class ListNode:\n",
        "    def __init__(self, val=0, next=None):\n",
        "        self.val = val\n",
        "        self.next = next\n",
        "\n",
        "def next_greater_nodes(head):\n",
        "    # Step 1: Initialize stack and answer array\n",
        "    stack = []\n",
        "    answer = []\n",
        "\n",
        "    # Step 2: Traverse linked list in reverse order\n",
        "    current = head\n",
        "    while current:\n",
        "        while stack and stack[-1].val <= current.val:\n",
        "            stack.pop()\n",
        "\n",
        "        if not stack:\n",
        "            answer.append(0)\n",
        "        else:\n",
        "            answer.append(stack[-1].val)\n",
        "\n",
        "        stack.append(current)\n",
        "        current = current.next\n",
        "\n",
        "    # Step 3: Reverse the answer array\n",
        "    answer.reverse()\n",
        "\n",
        "    return answer\n"
      ],
      "metadata": {
        "id": "kVRJZaT-s_If"
      },
      "execution_count": 11,
      "outputs": []
    },
    {
      "cell_type": "code",
      "source": [
        "# Create a linked list\n",
        "head = ListNode(2)\n",
        "head.next = ListNode(1)\n",
        "head.next.next = ListNode(5)\n",
        "\n",
        "# Find the next greater nodes\n",
        "result = next_greater_nodes(head)\n",
        "\n",
        "# Print the result\n",
        "print(result)  # Output: [5, 5, 0]\n"
      ],
      "metadata": {
        "colab": {
          "base_uri": "https://localhost:8080/"
        },
        "id": "Nbo7sboMwdCk",
        "outputId": "70fab2aa-3abd-4bbd-9d62-8f628a63979f"
      },
      "execution_count": 12,
      "outputs": [
        {
          "output_type": "stream",
          "name": "stdout",
          "text": [
            "[0, 2, 0]\n"
          ]
        }
      ]
    },
    {
      "cell_type": "code",
      "source": [],
      "metadata": {
        "id": "owmU7mynwgZr"
      },
      "execution_count": null,
      "outputs": []
    },
    {
      "cell_type": "markdown",
      "source": [
        "<aside>\n",
        "💡 **Question 8**\n",
        "\n",
        "Given the `head` of a linked list, we repeatedly delete consecutive sequences of nodes that sum to `0` until there are no such sequences.\n",
        "\n",
        "After doing so, return the head of the final linked list.  You may return any such answer.\n",
        "\n",
        "(Note that in the examples below, all sequences are serializations of `ListNode` objects.)\n",
        "\n",
        "**Example 1:**\n",
        "\n",
        "</aside>"
      ],
      "metadata": {
        "id": "9OJDwEJFwk6n"
      }
    },
    {
      "cell_type": "code",
      "source": [
        "class ListNode:\n",
        "    def __init__(self, val=0, next=None):\n",
        "        self.val = val\n",
        "        self.next = next\n",
        "\n",
        "def remove_zero_sum_sublists(head):\n",
        "    # Step 1: Create dummy node\n",
        "    dummy = ListNode(0)\n",
        "    dummy.next = head\n",
        "\n",
        "    # Step 2: Initialize pointers\n",
        "    prev = dummy\n",
        "    current = head\n",
        "\n",
        "    # Step 3: Traverse the linked list\n",
        "    while current:\n",
        "        # Compute the sum of the current sequence\n",
        "        sum = 0\n",
        "        while current:\n",
        "            sum += current.val\n",
        "            if sum == 0:\n",
        "                # Delete the sequence\n",
        "                prev.next = current.next\n",
        "            current = current.next\n",
        "\n",
        "        # Move to the next node\n",
        "        if prev.next:\n",
        "            prev = prev.next\n",
        "            current = prev.next\n",
        "\n",
        "    # Step 4: Return the head of the final linked list\n",
        "    return dummy.next\n"
      ],
      "metadata": {
        "id": "TRC7JqrVwldE"
      },
      "execution_count": 13,
      "outputs": []
    },
    {
      "cell_type": "code",
      "source": [
        "# Create a linked list\n",
        "head = ListNode(1)\n",
        "head.next = ListNode(2)\n",
        "head.next.next = ListNode(-3)\n",
        "head.next.next.next = ListNode(3)\n",
        "head.next.next.next.next = ListNode(1)\n",
        "\n",
        "# Remove zero-sum sublists\n",
        "result = remove_zero_sum_sublists(head)\n",
        "\n",
        "# Print the result\n",
        "current = result\n",
        "while current:\n",
        "    print(current.val, end=\" \")\n",
        "    current = current.next\n",
        "\n",
        "# Output: 1\n"
      ],
      "metadata": {
        "id": "0hcvLlQiwv4z",
        "outputId": "d9a507b9-165c-4f8a-a79a-6b8e2906958d",
        "colab": {
          "base_uri": "https://localhost:8080/"
        }
      },
      "execution_count": 14,
      "outputs": [
        {
          "output_type": "stream",
          "name": "stdout",
          "text": [
            "3 1 "
          ]
        }
      ]
    },
    {
      "cell_type": "code",
      "source": [],
      "metadata": {
        "id": "_FIyPHyGwx_1"
      },
      "execution_count": null,
      "outputs": []
    }
  ]
}