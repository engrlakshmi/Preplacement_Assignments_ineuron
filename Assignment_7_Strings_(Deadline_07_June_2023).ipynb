{
  "nbformat": 4,
  "nbformat_minor": 0,
  "metadata": {
    "colab": {
      "provenance": []
    },
    "kernelspec": {
      "name": "python3",
      "display_name": "Python 3"
    },
    "language_info": {
      "name": "python"
    }
  },
  "cells": [
    {
      "cell_type": "code",
      "execution_count": null,
      "metadata": {
        "id": "odqReH4srh6v"
      },
      "outputs": [],
      "source": []
    },
    {
      "cell_type": "markdown",
      "source": [
        "<aside>\n",
        "💡 **Question 1**\n",
        "\n",
        "Given two strings s and t, *determine if they are isomorphic*.\n",
        "\n",
        "Two strings s and t are isomorphic if the characters in s can be replaced to get t.\n",
        "\n",
        "All occurrences of a character must be replaced with another character while preserving the order of characters. No two characters may map to the same character, but a character may map to itself.\n",
        "\n",
        "**Example 1:**\n",
        "\n",
        "**Input:** s = \"egg\", t = \"add\"\n",
        "\n",
        "**Output:** true\n",
        "\n",
        "</aside>"
      ],
      "metadata": {
        "id": "QvYc3yD9rkID"
      }
    },
    {
      "cell_type": "code",
      "source": [
        "def isismorphic(s,t):\n",
        "  if len(s)!=len(t):\n",
        "    return False\n",
        "  mapping_dic={}\n",
        "  for i in range(len(s)):\n",
        "    if s[i] not in mapping_dic:\n",
        "      mapping_dic[s[i]]=t[i]# a-e,d-g\n",
        "    elif s[i]!=t[i]:\n",
        "      return False\n",
        "  return True"
      ],
      "metadata": {
        "id": "nPcSQ0FermSA"
      },
      "execution_count": 2,
      "outputs": []
    },
    {
      "cell_type": "code",
      "source": [
        "s = \"egg\"\n",
        "t = \"add\"\n"
      ],
      "metadata": {
        "id": "Eq3yuoYWvjzr"
      },
      "execution_count": 3,
      "outputs": []
    },
    {
      "cell_type": "markdown",
      "source": [
        "<aside>\n",
        "💡 **Question 2**\n",
        "\n",
        "Given a string num which represents an integer, return true *if* num *is a **strobogrammatic number***.\n",
        "\n",
        "A **strobogrammatic number** is a number that looks the same when rotated 180 degrees (looked at upside down).\n",
        "\n",
        "**Example 1:**\n",
        "\n",
        "**Input:** num = \"69\"\n",
        "\n",
        "**Output:**\n",
        "\n",
        "true\n",
        "\n",
        "</aside>"
      ],
      "metadata": {
        "id": "eRvfMJHfvmzW"
      }
    },
    {
      "cell_type": "code",
      "source": [
        "def strobogrammatic_number(num):\n",
        "  left,right=0,len(num)-1\n",
        "  strobogrammatic_pairs=['00','11','69','88','96'] \n",
        "  while left<right:\n",
        "    pair=num[left] +num[right]\n",
        "    if pair not in strobogrammatic_pairs:\n",
        "      return False\n",
        "    left=left+1\n",
        "    right=right-1\n",
        "\n",
        "  return True"
      ],
      "metadata": {
        "id": "91X8MzKGvne1"
      },
      "execution_count": 4,
      "outputs": []
    },
    {
      "cell_type": "code",
      "source": [
        "num = \"69\"\n",
        "result=strobogrammatic_number(num)\n",
        "print(result)"
      ],
      "metadata": {
        "id": "tJv_Z0Gcvn5H",
        "colab": {
          "base_uri": "https://localhost:8080/"
        },
        "outputId": "339d83ce-923f-4047-8038-08f4f2c8410e"
      },
      "execution_count": 5,
      "outputs": [
        {
          "output_type": "stream",
          "name": "stdout",
          "text": [
            "True\n"
          ]
        }
      ]
    },
    {
      "cell_type": "code",
      "source": [],
      "metadata": {
        "id": "eoN_54ievn-y"
      },
      "execution_count": null,
      "outputs": []
    },
    {
      "cell_type": "markdown",
      "source": [
        "<aside>\n",
        "💡 **Question 3**\n",
        "\n",
        "Given two non-negative integers, num1 and num2 represented as string, return *the sum of* num1 *and* num2 *as a string*.\n",
        "\n",
        "You must solve the problem without using any built-in library for handling large integers (such as BigInteger). You must also not convert the inputs to integers directly.\n",
        "\n",
        "**Example 1:**\n",
        "\n",
        "**Input:** num1 = \"11\", num2 = \"123\"\n",
        "\n",
        "**Output:**\n",
        "\n",
        "\"134\"\n",
        "\n",
        "</aside>"
      ],
      "metadata": {
        "id": "V5PzQpF9vojH"
      }
    },
    {
      "cell_type": "code",
      "source": [
        "num1 = \"11\"\n",
        "num2 = \"123\""
      ],
      "metadata": {
        "id": "RYIEb9eSvtxe"
      },
      "execution_count": null,
      "outputs": []
    },
    {
      "cell_type": "code",
      "source": [
        "def add_strings(num1,num2):\n",
        "  i,j=len(num1)-1,len(num2)-1\n",
        "  carry=0\n",
        "  result=\" \"\n",
        "  while i>=0 or j>=0:\n",
        "    digit_sum=carry\n",
        "  if i>=0:\n",
        "    digit_sum=digit_sum+1\n",
        "  if j >= 0:\n",
        "    digit_sum += int(num2[j])\n",
        "    j -= 1\n",
        "\n",
        "    carry = digit_sum // 10\n",
        "    result = str(digit_sum % 10) + result\n",
        "\n",
        "    if carry:\n",
        "        result = str(carry) + result\n",
        "\n",
        "    return result"
      ],
      "metadata": {
        "id": "JoatKEDavuRo"
      },
      "execution_count": null,
      "outputs": []
    },
    {
      "cell_type": "code",
      "source": [
        "s='AeI123'\n",
        "r=s[ 2 : ]+s[0]\n",
        "r"
      ],
      "metadata": {
        "colab": {
          "base_uri": "https://localhost:8080/",
          "height": 35
        },
        "id": "KMnKni1qzlV9",
        "outputId": "1ee81555-83c8-445d-8daa-25cbdc9381a0"
      },
      "execution_count": null,
      "outputs": [
        {
          "output_type": "execute_result",
          "data": {
            "text/plain": [
              "'I123A'"
            ],
            "application/vnd.google.colaboratory.intrinsic+json": {
              "type": "string"
            }
          },
          "metadata": {},
          "execution_count": 1
        }
      ]
    },
    {
      "cell_type": "code",
      "source": [
        "nums = [0,1,0,3,12]\n",
        "nums.sort(reverse=True)"
      ],
      "metadata": {
        "id": "v4CFssk0vucd"
      },
      "execution_count": null,
      "outputs": []
    },
    {
      "cell_type": "code",
      "source": [
        "nums"
      ],
      "metadata": {
        "colab": {
          "base_uri": "https://localhost:8080/"
        },
        "id": "Ojy8SW874FKX",
        "outputId": "b7afadb1-50e1-4e52-8855-ce03c9f35874"
      },
      "execution_count": null,
      "outputs": [
        {
          "output_type": "execute_result",
          "data": {
            "text/plain": [
              "[12, 3, 1, 0, 0]"
            ]
          },
          "metadata": {},
          "execution_count": 3
        }
      ]
    },
    {
      "cell_type": "markdown",
      "source": [
        "<aside>\n",
        "💡 **Question 4**\n",
        "\n",
        "Given a string s, reverse the order of characters in each word within a sentence while still preserving whitespace and initial word order.\n",
        "\n",
        "**Example 1:**\n",
        "\n",
        "**Input:** s = \"Let's take LeetCode contest\"\n",
        "\n",
        "**Output:** \"s'teL ekat edoCteeL tsetnoc\"\n",
        "\n",
        "</aside>"
      ],
      "metadata": {
        "id": "A76fZklavu6A"
      }
    },
    {
      "cell_type": "code",
      "source": [
        "s = \"Let's take LeetCode contest\"\n",
        "\n",
        "def reverse_order(s):\n",
        "  words=s.split()\n",
        "  reverse_s=[word[::-1] for word in words ]\n",
        "  return ' ' .join(reverse_s)\n",
        "print(reverse_order(s))  "
      ],
      "metadata": {
        "colab": {
          "base_uri": "https://localhost:8080/"
        },
        "id": "dw49l2VbvzUG",
        "outputId": "bbbce0d2-d806-4c66-f1a3-4a4c65456a6f"
      },
      "execution_count": null,
      "outputs": [
        {
          "output_type": "stream",
          "name": "stdout",
          "text": [
            "s'teL ekat edoCteeL tsetnoc\n"
          ]
        }
      ]
    },
    {
      "cell_type": "code",
      "source": [],
      "metadata": {
        "id": "52xEKPLvvzwb"
      },
      "execution_count": null,
      "outputs": []
    },
    {
      "cell_type": "code",
      "source": [],
      "metadata": {
        "id": "Bwm1kGyFvz57"
      },
      "execution_count": null,
      "outputs": []
    },
    {
      "cell_type": "markdown",
      "source": [
        "<aside>\n",
        "💡 **Question 5**\n",
        "\n",
        "Given a string s and an integer k, reverse the first k characters for every 2k characters counting from the start of the string.\n",
        "\n",
        "If there are fewer than k characters left, reverse all of them. If there are less than 2k but greater than or equal to k characters, then reverse the first k characters and leave the other as original.\n",
        "\n",
        "**Example 1:**\n",
        "\n",
        "**Input:** s = \"abcdefg\", k = 2\n",
        "\n",
        "**Output:**\n",
        "\n",
        "\"bacdfeg\"\n",
        "\n",
        "</aside>"
      ],
      "metadata": {
        "id": "L3QbBpECv1Ie"
      }
    },
    {
      "cell_type": "code",
      "source": [
        "s = \"abcdefg\"\n",
        "k=2\n",
        "print(reverse_string(s,k))"
      ],
      "metadata": {
        "colab": {
          "base_uri": "https://localhost:8080/"
        },
        "id": "Hmoa22nev7KW",
        "outputId": "76760307-99e6-4653-ed5b-8141fae456a9"
      },
      "execution_count": null,
      "outputs": [
        {
          "output_type": "stream",
          "name": "stdout",
          "text": [
            "bacdfeg\n"
          ]
        }
      ]
    },
    {
      "cell_type": "code",
      "source": [
        "def reverse_string(s,k):\n",
        "  s=list(s)\n",
        "  for i in range(0,len(s),2*k):\n",
        "    s[i:i+k]=reversed(s[i:i+k])\n",
        "  return ''.join(s)\n"
      ],
      "metadata": {
        "id": "N8BYcWIKv7tr"
      },
      "execution_count": null,
      "outputs": []
    },
    {
      "cell_type": "code",
      "source": [],
      "metadata": {
        "id": "EgwwYqOQv738"
      },
      "execution_count": null,
      "outputs": []
    },
    {
      "cell_type": "markdown",
      "source": [
        "<aside>\n",
        "💡 **Question 6**\n",
        "\n",
        "Given two strings s and goal, return true *if and only if* s *can become* goal *after some number of **shifts** on* s.\n",
        "\n",
        "A **shift** on s consists of moving the leftmost character of s to the rightmost position.\n",
        "\n",
        "- For example, if s = \"abcde\", then it will be \"bcdea\" after one shift.\n",
        "\n",
        "**Example 1:**\n",
        "\n",
        "**Input:** s = \"abcde\", goal = \"cdeab\"\n",
        "\n",
        "**Output:**\n",
        "\n",
        "true\n",
        "\n",
        "</aside>"
      ],
      "metadata": {
        "id": "3N1MBiTBv8I5"
      }
    },
    {
      "cell_type": "code",
      "source": [
        "def can_shift(s,goal):\n",
        "  if len(s)!=len(goal):\n",
        "    return False\n",
        "  s2=s+s\n",
        "\n",
        "  return goal in s2"
      ],
      "metadata": {
        "id": "RZf_Y52x2vr6"
      },
      "execution_count": null,
      "outputs": []
    },
    {
      "cell_type": "code",
      "source": [
        "s = \"abcde\"\n",
        "goal =\"cdeab\"\n",
        "print(can_shift(s,goal))"
      ],
      "metadata": {
        "colab": {
          "base_uri": "https://localhost:8080/"
        },
        "id": "HIM3x6zD4bw0",
        "outputId": "d1602db1-92b3-4ca4-f8aa-bac71816f442"
      },
      "execution_count": null,
      "outputs": [
        {
          "output_type": "stream",
          "name": "stdout",
          "text": [
            "True\n"
          ]
        }
      ]
    },
    {
      "cell_type": "code",
      "source": [
        "def reverse_string(s,k):\n",
        "  s=list(s)\n",
        "  for i in range(0,len(s),2*k):\n",
        "    s[i:i+k]=reversed(s[i:i+k])\n",
        "  return ''.join(s)"
      ],
      "metadata": {
        "id": "s2aJUlMowATj"
      },
      "execution_count": null,
      "outputs": []
    },
    {
      "cell_type": "code",
      "source": [],
      "metadata": {
        "id": "ZttwNFPDwAdp"
      },
      "execution_count": null,
      "outputs": []
    },
    {
      "cell_type": "markdown",
      "source": [
        "<aside>\n",
        "💡 **Question 7**\n",
        "\n",
        "Given two strings s and t, return true *if they are equal when both are typed into empty text editors*. '#' means a backspace character.\n",
        "\n",
        "Note that after backspacing an empty text, the text will continue empty.\n",
        "\n",
        "**Example 1:**\n",
        "\n",
        "**Input:** s = \"ab#c\", t = \"ad#c\"\n",
        "\n",
        "**Output:** true\n",
        "\n",
        "**Explanation:**\n",
        "\n",
        "Both s and t become \"ac\".\n",
        "\n",
        "</aside>"
      ],
      "metadata": {
        "id": "fhr75gUXwA5s"
      }
    },
    {
      "cell_type": "code",
      "source": [
        "\n",
        "def compare_strings(s,t):\n",
        "  def processstring(string):\n",
        "    stack=[]\n",
        "    for c in string:\n",
        "      if c!='#':\n",
        "        stack.append(c)\n",
        "      elif stack:\n",
        "        stack.pop()\n",
        "    return ''.join(stack)\n",
        "  return processstring(s) == processstring(t)\n"
      ],
      "metadata": {
        "id": "IHQfHSX9wFx-"
      },
      "execution_count": 2,
      "outputs": []
    },
    {
      "cell_type": "code",
      "source": [
        "# Example usage:\n",
        "s = \"ab#c\"\n",
        "t = \"ad#c\"\n",
        "print(compare_strings(s,t))"
      ],
      "metadata": {
        "id": "W6V2sWZ6wGSp",
        "colab": {
          "base_uri": "https://localhost:8080/"
        },
        "outputId": "b2a7e496-4345-4ee7-fc37-e174e05c1a58"
      },
      "execution_count": 4,
      "outputs": [
        {
          "output_type": "stream",
          "name": "stdout",
          "text": [
            "True\n"
          ]
        }
      ]
    },
    {
      "cell_type": "code",
      "source": [],
      "metadata": {
        "id": "-ZORDZIlwGX8"
      },
      "execution_count": null,
      "outputs": []
    },
    {
      "cell_type": "markdown",
      "source": [
        "<aside>\n",
        "💡 **Question 8**\n",
        "\n",
        "You are given an array coordinates, coordinates[i] = [x, y], where [x, y] represents the coordinate of a point. Check if these points make a straight line in the XY plane.\n",
        "\n",
        "**Example 1:**\n",
        "\n",
        "</aside>\n",
        "**Input:** coordinates = [[1,2],[2,3],[3,4],[4,5],[5,6],[6,7]]\n",
        "\n",
        "**Output:** true"
      ],
      "metadata": {
        "id": "AjNKFjwowGl3"
      }
    },
    {
      "cell_type": "code",
      "source": [
        "def checkStraightLine(coordinates):\n",
        "    x0, y0 = coordinates[0]  # Initial point\n",
        "    n = len(coordinates)\n",
        "    \n",
        "    for i in range(1, n):\n",
        "        x, y = coordinates[i]\n",
        "        if (y - y0) * (x - x0) != (x - x0) * (y0 - coordinates[0][1]):\n",
        "            return False\n",
        "    \n",
        "    return True\n",
        "\n",
        "# Example usage:\n",
        "coordinates = [[1, 2], [2, 3], [3, 4], [4, 5], [5, 6], [6, 7]]\n",
        "print(checkStraightLine(coordinates))\n"
      ],
      "metadata": {
        "id": "nr1cnMZ4wNaH",
        "colab": {
          "base_uri": "https://localhost:8080/"
        },
        "outputId": "df019359-555f-4dbe-a631-ef92484c2c41"
      },
      "execution_count": 1,
      "outputs": [
        {
          "output_type": "stream",
          "name": "stdout",
          "text": [
            "False\n"
          ]
        }
      ]
    }
  ]
}