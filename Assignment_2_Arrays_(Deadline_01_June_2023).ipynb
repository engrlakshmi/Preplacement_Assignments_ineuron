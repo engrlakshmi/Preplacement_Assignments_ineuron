{
  "nbformat": 4,
  "nbformat_minor": 0,
  "metadata": {
    "colab": {
      "provenance": []
    },
    "kernelspec": {
      "name": "python3",
      "display_name": "Python 3"
    },
    "language_info": {
      "name": "python"
    }
  },
  "cells": [
    {
      "cell_type": "markdown",
      "source": [
        "<aside>\n",
        "💡 **Question 1**\n",
        "Given an integer array nums of 2n integers, group these integers into n pairs (a1, b1), (a2, b2),..., (an, bn) such that the sum of min(ai, bi) for all i is maximized. Return the maximized sum.\n",
        "\n",
        "**Example 1:**\n",
        "Input: nums = [1,4,3,2]\n",
        "Output: 4\n",
        "\n",
        "**Explanation:** All possible pairings (ignoring the ordering of elements) are:\n",
        "\n",
        "1. (1, 4), (2, 3) -> min(1, 4) + min(2, 3) = 1 + 2 = 3\n",
        "2. (1, 3), (2, 4) -> min(1, 3) + min(2, 4) = 1 + 2 = 3\n",
        "3. (1, 2), (3, 4) -> min(1, 2) + min(3, 4) = 1 + 3 = 4\n",
        "So the maximum possible sum is 4\n",
        "</aside>"
      ],
      "metadata": {
        "id": "l1FAypysxHlr"
      }
    },
    {
      "cell_type": "code",
      "source": [
        "\n",
        "def arrayPairSum(nums):\n",
        "  nums.sort()#[1,2,3,4]\n",
        "  max_sum=0 #initalize the sum\n",
        "  for i in range(0,len(nums),2):#1,3\n",
        "    max_sum=max_sum+nums[i]\n",
        "  return max_sum\n",
        "\n",
        "nums=[1,4,3,2]\n",
        "result=arrayPairSum(nums)\n",
        "print(\"The minimum sum of array pair  is : \", result)"
      ],
      "metadata": {
        "colab": {
          "base_uri": "https://localhost:8080/"
        },
        "id": "gfAdNcQuxIxZ",
        "outputId": "ae864ac0-7a9f-420d-8ed7-bea36dad0687"
      },
      "execution_count": null,
      "outputs": [
        {
          "output_type": "stream",
          "name": "stdout",
          "text": [
            "The minimum sum of array pair  is :  4\n"
          ]
        }
      ]
    },
    {
      "cell_type": "code",
      "source": [],
      "metadata": {
        "id": "wt6WudPsQXTa"
      },
      "execution_count": null,
      "outputs": []
    },
    {
      "cell_type": "markdown",
      "source": [
        "Question 2\n",
        "Alice has n candies, where the ith candy is of type candyType[i]. Alice noticed that she started to gain weight, so she visited a doctor. \n",
        "\n",
        "The doctor advised Alice to only eat n / 2 of the candies she has (n is always even). Alice likes her candies very much, and she wants to eat the maximum number of different types of candies while still following the doctor's advice. \n",
        "\n",
        "Given the integer array candyType of length n, return the maximum number of different types of candies she can eat if she only eats n / 2 of them.\n",
        "\n",
        "Example 1:\n",
        "Input: candyType = [1,1,2,2,3,3]\n",
        "Output: 3\n",
        "\n",
        "Explanation: Alice can only eat 6 / 2 = 3 candies. Since there are only 3 types, she can eat one of each type."
      ],
      "metadata": {
        "id": "Rvyx_80Kaxgu"
      }
    },
    {
      "cell_type": "code",
      "source": [
        "\n",
        "def MaxCandyNumber(candyType):\n",
        "  s=set()\n",
        "  for candy in candyType:\n",
        "        if candy not in s:\n",
        "            s.add(candy)\n",
        "  return len(s)"
      ],
      "metadata": {
        "id": "mE6yFNNda9Gj"
      },
      "execution_count": null,
      "outputs": []
    },
    {
      "cell_type": "code",
      "source": [
        "candyType = [1,1,2,2,3,3]\n",
        "result=MaxCandyNumber(candyType)\n",
        "print(\"The maximum number of different types of candies are : \", result)"
      ],
      "metadata": {
        "colab": {
          "base_uri": "https://localhost:8080/"
        },
        "id": "1Y9xQ_Rsc0Oh",
        "outputId": "83d189da-dd4a-4911-8868-bf3c70fdead9"
      },
      "execution_count": null,
      "outputs": [
        {
          "output_type": "stream",
          "name": "stdout",
          "text": [
            "The maximum number of different types of candies are :  3\n"
          ]
        }
      ]
    },
    {
      "cell_type": "code",
      "source": [],
      "metadata": {
        "id": "sVXXPrYyhjNx"
      },
      "execution_count": null,
      "outputs": []
    },
    {
      "cell_type": "markdown",
      "source": [
        "Question 3\n",
        "We define a harmonious array as an array where the difference between its maximum value\n",
        "and its minimum value is exactly 1.\n",
        "\n",
        "Given an integer array nums, return the length of its longest harmonious subsequence\n",
        "among all its possible subsequences.\n",
        "\n",
        "A subsequence of an array is a sequence that can be derived from the array by deleting some or no elements without changing the order of the remaining elements.\n",
        "\n",
        "Example 1:\n",
        "Input: nums = [1,3,2,2,5,2,3,7]\n",
        "Output: 5\n",
        "\n",
        "Explanation: The longest harmonious subsequence is [3,2,2,2,3]."
      ],
      "metadata": {
        "id": "DbEbouhohj1u"
      }
    },
    {
      "cell_type": "code",
      "source": [
        "def findLHF(nums):\n",
        "  num_counts={}\n",
        "  max_length=0\n",
        "  #Count the occurence of each number\n",
        "  for num in nums:\n",
        "      if num in num_counts:\n",
        "       num_counts[num]=num_counts[num]+1\n",
        "      else:\n",
        "       num_counts[num] =1\n",
        "    #check for harmonic subsequence\n",
        "  for num in num_counts:\n",
        "   if num+1 in num_counts:\n",
        "     length=num_counts[num]+num_counts[num+1]\n",
        "     max_length=max(length,max_length)\n",
        "  return max_length\n",
        "\n",
        "\n",
        "\n"
      ],
      "metadata": {
        "id": "z5OIR81th0U5"
      },
      "execution_count": null,
      "outputs": []
    },
    {
      "cell_type": "code",
      "source": [
        "nums = [1,3,2,2,5,2,3,7]\n",
        "result=findLHF(nums)\n",
        "print(\"The maximum length of harmonic array is :\",result)"
      ],
      "metadata": {
        "colab": {
          "base_uri": "https://localhost:8080/"
        },
        "id": "DT6adJnEybdz",
        "outputId": "22336a33-ce7e-4601-be34-299d098bae69"
      },
      "execution_count": null,
      "outputs": [
        {
          "output_type": "stream",
          "name": "stdout",
          "text": [
            "The maximum length of harmonic array is : 5\n"
          ]
        }
      ]
    },
    {
      "cell_type": "markdown",
      "source": [
        "q 3.You have a long flowerbed in which some of the plots are planted, and some are not.\n",
        "However, flowers cannot be planted in adjacent plots.\n",
        "Given an integer array flowerbed containing 0's and 1's, where 0 means empty and 1 means not empty, and an integer n, return true if n new flowers can be planted in the flowerbed without violating the no-adjacent-flowers rule and false otherwise.\n",
        "\n",
        "Example 1:\n",
        "Input: flowerbed = [1,0,0,0,1], n = 1\n",
        "Output: true"
      ],
      "metadata": {
        "id": "RfxhbQvdNOtA"
      }
    },
    {
      "cell_type": "code",
      "source": [
        "#flowerbed=[1,0,0,0,1]\n",
        "def FlowerbedArray(flowerbed,n):\n",
        "  bed=[]\n",
        "  c=0\n",
        "  for flower in flowerbed:\n",
        "          if flower not in bed:\n",
        "              bed.append(flower)\n",
        "          if flower==0:\n",
        "               c +=1\n",
        "          else:\n",
        "              if flower==1:\n",
        "               c-=1\n",
        "  return c>=n\n"
      ],
      "metadata": {
        "id": "2CMk8EtYNQ4G"
      },
      "execution_count": null,
      "outputs": []
    },
    {
      "cell_type": "code",
      "source": [
        "flowerbed=[1,0,0,0,1]\n",
        "n=1\n",
        "result=FlowerbedArray(flowerbed,n)\n",
        "print(\"The ARRANGEMENT OF FLOWER BED is :\",result)"
      ],
      "metadata": {
        "colab": {
          "base_uri": "https://localhost:8080/"
        },
        "id": "jxILmz0kT5NY",
        "outputId": "10f62ad4-66de-486b-ac5e-2af6af07ed29"
      },
      "execution_count": null,
      "outputs": [
        {
          "output_type": "stream",
          "name": "stdout",
          "text": [
            "The ARRANGEMENT OF FLOWER BED is : True\n"
          ]
        }
      ]
    },
    {
      "cell_type": "markdown",
      "source": [],
      "metadata": {
        "id": "LoOBJqcaaWy1"
      }
    },
    {
      "cell_type": "code",
      "source": [],
      "metadata": {
        "id": "IJLQoJJYYoxe"
      },
      "execution_count": null,
      "outputs": []
    },
    {
      "cell_type": "markdown",
      "source": [
        "Question 5\n",
        "Given an integer array nums, find three numbers whose product is maximum and return the maximum product.\n",
        "\n",
        "Example 1:\n",
        "Input: nums = [1,2,3]\n",
        "Output: 6"
      ],
      "metadata": {
        "id": "0Kr5YiNHYxB3"
      }
    },
    {
      "cell_type": "code",
      "source": [
        "def max_product(nums):\n",
        "  max_output=float('-inf')\n",
        "  output=0\n",
        "  size=len(nums)\n",
        "  for num in range(size-1):\n",
        "    output=nums[num]*nums[num+1]\n",
        "    max_output=max(output, max_output)\n",
        "  return max_output\n",
        "\n",
        "\n"
      ],
      "metadata": {
        "id": "ceI3gaJ0Yo1w"
      },
      "execution_count": null,
      "outputs": []
    },
    {
      "cell_type": "code",
      "source": [
        "nums = [1,2,3]\n",
        "result=max_product(nums)\n",
        "print(\"maximum product :\",result)"
      ],
      "metadata": {
        "colab": {
          "base_uri": "https://localhost:8080/"
        },
        "id": "mSUBcSPleBt2",
        "outputId": "ff8c1265-cd66-4012-e07d-335fac5b0093"
      },
      "execution_count": null,
      "outputs": [
        {
          "output_type": "stream",
          "name": "stdout",
          "text": [
            "maximum product : 6\n"
          ]
        }
      ]
    },
    {
      "cell_type": "markdown",
      "source": [
        "Question 6\n",
        "Given an array of integers nums which is sorted in ascending order, and an integer target,\n",
        "write a function to search target in nums. If target exists, then return its index. Otherwise,\n",
        "return -1.\n",
        "\n",
        "You must write an algorithm with O(log n) runtime complexity.\n",
        "\n",
        "Input: nums = [-1,0,3,5,9,12], target = 9\n",
        "Output: 4\n",
        "\n",
        "Explanation: 9 exists in nums and its index is 4"
      ],
      "metadata": {
        "id": "STe946YbY2ZX"
      }
    },
    {
      "cell_type": "code",
      "source": [
        "\n",
        "def sort_ascend(nums, target):\n",
        "  for index, num in enumerate(nums):\n",
        "    if num == target:\n",
        "      return index\n",
        "  return -1 #If no match is found, the function returns -1."
      ],
      "metadata": {
        "id": "I-f7A3W9YpEN"
      },
      "execution_count": 12,
      "outputs": []
    },
    {
      "cell_type": "code",
      "source": [
        "nums=[-1,0,3,5,9,12]\n",
        "target=9\n",
        "result=sort_ascend(nums,target)\n",
        "print(result)"
      ],
      "metadata": {
        "id": "Xd4GkB8eY6zF",
        "colab": {
          "base_uri": "https://localhost:8080/"
        },
        "outputId": "60bea82e-bb04-42d3-b21b-c83f1146a642"
      },
      "execution_count": 13,
      "outputs": [
        {
          "output_type": "stream",
          "name": "stdout",
          "text": [
            "4\n"
          ]
        }
      ]
    },
    {
      "cell_type": "markdown",
      "source": [
        "Question 7\n",
        "An array is monotonic if it is either monotone increasing or monotone decreasing.\n",
        "\n",
        "An array nums is monotone increasing if for all i <= j, nums[i] <= nums[j]. An array nums is\n",
        "monotone decreasing if for all i <= j, nums[i] >= nums[j].\n",
        "\n",
        "Given an integer array nums, return true if the given array is monotonic, or false otherwise.\n",
        "\n",
        "Example 1:\n",
        "Input: nums = [1,2,2,3]\n",
        "Output: true"
      ],
      "metadata": {
        "id": "WY99mnvdY6-r"
      }
    },
    {
      "cell_type": "code",
      "source": [],
      "metadata": {
        "id": "9rnzaHiBY9nm"
      },
      "execution_count": null,
      "outputs": []
    },
    {
      "cell_type": "code",
      "source": [
        "def monotonic(nums):\n",
        "    for i in range(len(nums) - 1):\n",
        "        if nums[i] > nums[i + 1]:\n",
        "            return False\n",
        "    return True\n"
      ],
      "metadata": {
        "id": "S75DDxj1aFBX"
      },
      "execution_count": 18,
      "outputs": []
    },
    {
      "cell_type": "code",
      "source": [
        "nums = [1,2,2,3] \n",
        "result=monotonic(nums)\n",
        "print(result)"
      ],
      "metadata": {
        "id": "1x3ZLFxzaFK6",
        "colab": {
          "base_uri": "https://localhost:8080/"
        },
        "outputId": "c33253ad-a811-4666-af8c-52a09835328a"
      },
      "execution_count": 20,
      "outputs": [
        {
          "output_type": "stream",
          "name": "stdout",
          "text": [
            "True\n"
          ]
        }
      ]
    },
    {
      "cell_type": "markdown",
      "source": [
        "Question 8\n",
        "You are given an integer array nums and an integer k.\n",
        "\n",
        "In one operation, you can choose any index i where 0 <= i < nums.length and change nums[i] to nums[i] + x where x is an integer from the range [-k, k]. You can apply this operation at most once for each index i.\n",
        "\n",
        "The score of nums is the difference between the maximum and minimum elements in nums.\n",
        "\n",
        "Return the minimum score of nums after applying the mentioned operation at most once for each index in it.\n",
        "\n",
        "Example 1:\n",
        "Input: nums = [1], k = 0\n",
        "Output: 0\n",
        "\n",
        "Explanation: The score is max(nums) - min(nums) = 1 - 1 = 0."
      ],
      "metadata": {
        "id": "uFBkPECeaHkX"
      }
    },
    {
      "cell_type": "code",
      "source": [
        "def minscore(nums,k):\n",
        "  minimum = min(nums)\n",
        "  maximum = min(nums)\n",
        "  if maximum-minimum <= 2*k:\n",
        "    return 0\n",
        "  else:\n",
        "    scene1=(maximum-k)-(minimum+k)\n",
        "    scene2=(maximum+k)-(minimum-k)\n",
        "    return min(scene1,scene2)\n"
      ],
      "metadata": {
        "id": "XQ3MKSkvaIq-"
      },
      "execution_count": 40,
      "outputs": []
    },
    {
      "cell_type": "code",
      "source": [
        "nums = [1]\n",
        "k = 0\n",
        "result = minscore(nums, k)\n",
        "print(result)"
      ],
      "metadata": {
        "colab": {
          "base_uri": "https://localhost:8080/"
        },
        "id": "q_SAZmjXH0Lm",
        "outputId": "72de97c5-b246-4dfd-aac3-89820f0580ad"
      },
      "execution_count": 41,
      "outputs": [
        {
          "output_type": "stream",
          "name": "stdout",
          "text": [
            "0\n"
          ]
        }
      ]
    }
  ]
}