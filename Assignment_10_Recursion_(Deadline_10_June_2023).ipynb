{
  "nbformat": 4,
  "nbformat_minor": 0,
  "metadata": {
    "colab": {
      "provenance": []
    },
    "kernelspec": {
      "name": "python3",
      "display_name": "Python 3"
    },
    "language_info": {
      "name": "python"
    }
  },
  "cells": [
    {
      "cell_type": "code",
      "execution_count": null,
      "metadata": {
        "id": "pz0mDU8zIXbN"
      },
      "outputs": [],
      "source": []
    },
    {
      "cell_type": "markdown",
      "source": [
        "<aside>\n",
        "💡 **Question 1**\n",
        "\n",
        "Given an integer `n`, return *`true` if it is a power of three. Otherwise, return `false`*.\n",
        "\n",
        "An integer `n` is a power of three, if there exists an integer `x` such that `n == 3x`.\n",
        "\n",
        "**Example 1:**\n",
        "\n",
        "```\n",
        "Input: n = 27\n",
        "Output: true\n",
        "Explanation: 27 = 33\n",
        "```\n",
        "\n",
        "**Example 2:**\n",
        "\n",
        "</aside>"
      ],
      "metadata": {
        "id": "YoMXxxpTIgxE"
      }
    },
    {
      "cell_type": "code",
      "source": [
        "def is_power_of_three(n):\n",
        "    # Base case: if n is 1, it is a power of three\n",
        "    if n == 1:\n",
        "        return True\n",
        "    \n",
        "    # Base case: if n is less than 3 or not divisible by 3, it is not a power of three\n",
        "    if n < 3 or n % 3 != 0:\n",
        "        return False\n",
        "    \n",
        "    # Recurse on the quotient of n divided by 3\n",
        "    return is_power_of_three(n // 3)\n",
        "\n",
        "# Example usage:\n",
        "input_n = 27\n",
        "result = is_power_of_three(input_n)\n",
        "print(result)\n"
      ],
      "metadata": {
        "colab": {
          "base_uri": "https://localhost:8080/"
        },
        "id": "C_rShtAyIhgl",
        "outputId": "58659458-a372-415e-8450-3172d9d765f6"
      },
      "execution_count": 35,
      "outputs": [
        {
          "output_type": "stream",
          "name": "stdout",
          "text": [
            "True\n"
          ]
        }
      ]
    },
    {
      "cell_type": "code",
      "source": [],
      "metadata": {
        "id": "GOHnsH_vIh-I"
      },
      "execution_count": null,
      "outputs": []
    },
    {
      "cell_type": "code",
      "source": [],
      "metadata": {
        "id": "F4hJQZM6IiBx"
      },
      "execution_count": null,
      "outputs": []
    },
    {
      "cell_type": "markdown",
      "source": [
        "<aside>\n",
        "💡 **Question 2**\n",
        "\n",
        "You have a list `arr` of all integers in the range `[1, n]` sorted in a strictly increasing order. Apply the following algorithm on `arr`:\n",
        "\n",
        "- Starting from left to right, remove the first number and every other number afterward until you reach the end of the list.\n",
        "- Repeat the previous step again, but this time from right to left, remove the rightmost number and every other number from the remaining numbers.\n",
        "- Keep repeating the steps again, alternating left to right and right to left, until a single number remains.\n",
        "\n",
        "Given the integer `n`, return *the last number that remains in* `arr`.\n",
        "\n",
        "**Example 1:**\n",
        "\n",
        "</aside>"
      ],
      "metadata": {
        "id": "QjfbqaeAIiPm"
      }
    },
    {
      "cell_type": "code",
      "source": [
        "def last_remaining_number(n):\n",
        "    # Base case: if n is 1, the last remaining number is 1\n",
        "    if n == 1:\n",
        "        return 1\n",
        "    \n",
        "    # If n is odd, the next recursion starts from the next odd number\n",
        "    if n % 2 != 0:\n",
        "        n -= 1\n",
        "    \n",
        "    # Recurse on the remaining numbers after removing every other number\n",
        "    return 2 * (n // 2 + 1 - last_remaining_number(n // 2))\n",
        "\n",
        "# Example usage:\n",
        "input_n = 9\n",
        "result = last_remaining_number(input_n)\n",
        "print(\"Last remaining number:\", result)\n"
      ],
      "metadata": {
        "colab": {
          "base_uri": "https://localhost:8080/"
        },
        "id": "BHJk7Mb_Im4U",
        "outputId": "a02830b4-e979-4bca-d224-10c4d208f518"
      },
      "execution_count": 34,
      "outputs": [
        {
          "output_type": "stream",
          "name": "stdout",
          "text": [
            "Last remaining number: 6\n"
          ]
        }
      ]
    },
    {
      "cell_type": "code",
      "source": [],
      "metadata": {
        "id": "K9DntpBBI6hH"
      },
      "execution_count": null,
      "outputs": []
    },
    {
      "cell_type": "code",
      "source": [],
      "metadata": {
        "id": "oTkf6g4oI6lo"
      },
      "execution_count": null,
      "outputs": []
    },
    {
      "cell_type": "code",
      "source": [],
      "metadata": {
        "id": "thGsy-eOI-G7"
      },
      "execution_count": null,
      "outputs": []
    },
    {
      "cell_type": "markdown",
      "source": [
        "<aside>\n",
        "💡 **Question 3**\n",
        "\n",
        "****Given a set represented as a string, write a recursive code to print all subsets of it. The subsets can be printed in any order.\n",
        "\n",
        "**Example 1:**\n",
        "\n",
        "Input :  set = “abc”\n",
        "\n",
        "Output : { “”, “a”, “b”, “c”, “ab”, “ac”, “bc”, “abc”}\n",
        "\n",
        "**Example 2:**\n",
        "\n",
        "Input : set = “abcd”\n",
        "\n",
        "Output : { “”, “a” ,”ab” ,”abc” ,”abcd”, “abd” ,”ac” ,”acd”, “ad” ,”b”, “bc” ,”bcd” ,”bd” ,”c” ,”cd” ,”d” }\n",
        "\n",
        "</aside>"
      ],
      "metadata": {
        "id": "Tp5gKuZ1I-sm"
      }
    },
    {
      "cell_type": "code",
      "source": [
        "def print_subsets(string, current_subset, index):\n",
        "    # Base case: if all characters have been considered\n",
        "    if index == len(string):\n",
        "        print(current_subset)\n",
        "        return\n",
        "    \n",
        "    # Recursive case: include the current character in the subset\n",
        "    print_subsets(string, current_subset + string[index], index + 1)\n",
        "    \n",
        "    # Recursive case: exclude the current character from the subset\n",
        "    print_subsets(string, current_subset, index + 1)\n",
        "\n",
        "# Function to print all subsets of a set represented as a string\n",
        "def print_all_subsets(set_string):\n",
        "    print_subsets(set_string, '', 0)\n",
        "\n",
        "# Example usage:\n",
        "input_set = 'abcd'\n",
        "print(\"All subsets of the set:\")\n",
        "print_all_subsets(input_set)\n"
      ],
      "metadata": {
        "colab": {
          "base_uri": "https://localhost:8080/"
        },
        "id": "S6pifmseI_Is",
        "outputId": "0b8cf208-cb1e-4084-baae-a550574b5208"
      },
      "execution_count": 33,
      "outputs": [
        {
          "output_type": "stream",
          "name": "stdout",
          "text": [
            "All subsets of the set:\n",
            "abcd\n",
            "abc\n",
            "abd\n",
            "ab\n",
            "acd\n",
            "ac\n",
            "ad\n",
            "a\n",
            "bcd\n",
            "bc\n",
            "bd\n",
            "b\n",
            "cd\n",
            "c\n",
            "d\n",
            "\n"
          ]
        }
      ]
    },
    {
      "cell_type": "code",
      "source": [],
      "metadata": {
        "id": "M-JNzCYAI_hg"
      },
      "execution_count": null,
      "outputs": []
    },
    {
      "cell_type": "code",
      "source": [],
      "metadata": {
        "id": "4TZZtMF5I_k-"
      },
      "execution_count": null,
      "outputs": []
    },
    {
      "cell_type": "code",
      "source": [],
      "metadata": {
        "id": "61fxY96rI_nw"
      },
      "execution_count": null,
      "outputs": []
    },
    {
      "cell_type": "markdown",
      "source": [
        "<aside>\n",
        "💡 **Question 4**\n",
        "\n",
        "Given a string calculate length of the string using recursion.\n",
        "\n",
        "**Examples:**\n",
        "\n",
        "</aside>"
      ],
      "metadata": {
        "id": "BjFZ-qRqI_5O"
      }
    },
    {
      "cell_type": "code",
      "source": [
        "def rec_stringlen(string):\n",
        "    # Base case: an empty string has no substrings\n",
        "    if string == '':\n",
        "        return 0\n",
        "    return 1+rec_stringlen(string[1:])\n",
        "    "
      ],
      "metadata": {
        "id": "Jz103-KhJDVg"
      },
      "execution_count": 30,
      "outputs": []
    },
    {
      "cell_type": "code",
      "source": [
        "input_string = 'Hello, World!'\n",
        "result = rec_stringlen(input_string)\n",
        "print(\"Length of the string:\", result)"
      ],
      "metadata": {
        "colab": {
          "base_uri": "https://localhost:8080/"
        },
        "id": "cZ3chftXJDyn",
        "outputId": "bde4d04b-f02b-4df6-e0a2-8843cc87737b"
      },
      "execution_count": 31,
      "outputs": [
        {
          "output_type": "stream",
          "name": "stdout",
          "text": [
            "Length of the string: 13\n"
          ]
        }
      ]
    },
    {
      "cell_type": "code",
      "source": [],
      "metadata": {
        "id": "VpMNcEwgJD69"
      },
      "execution_count": null,
      "outputs": []
    },
    {
      "cell_type": "markdown",
      "source": [
        "<aside>\n",
        "💡 **Question 5**\n",
        "\n",
        "We are given a string S, we need to find count of all contiguous substrings starting and ending with same character.\n",
        "\n",
        "**Examples :**\n",
        "\n",
        "</aside>"
      ],
      "metadata": {
        "id": "jHvJQerbJ8QQ"
      }
    },
    {
      "cell_type": "code",
      "source": [
        "def count_string(string):\n",
        "    # Base case: an empty string has no substrings\n",
        "    if string == '':\n",
        "        return 0\n",
        "    \n",
        "    # Recurse on the remaining string\n",
        "    count = count_string(string[1:])\n",
        "    \n",
        "    # Check if the first and last characters are the same\n",
        "    if string[0] == string[-1]:\n",
        "        count += 1\n",
        "    \n",
        "    return count"
      ],
      "metadata": {
        "id": "zZ5GGYplJ9d_"
      },
      "execution_count": 26,
      "outputs": []
    },
    {
      "cell_type": "code",
      "source": [
        "S = 'abcab'\n",
        "result = count_string(S)\n",
        "print(\"Count of contiguous substrings:\", result)"
      ],
      "metadata": {
        "colab": {
          "base_uri": "https://localhost:8080/"
        },
        "id": "U2U1ty1pJ_aD",
        "outputId": "c0dcb471-e4c7-4408-c4cd-16ae5837cdf5"
      },
      "execution_count": 28,
      "outputs": [
        {
          "output_type": "stream",
          "name": "stdout",
          "text": [
            "Count of contiguous substrings: 2\n"
          ]
        }
      ]
    },
    {
      "cell_type": "code",
      "source": [],
      "metadata": {
        "id": "vyGB0tZgJ_if"
      },
      "execution_count": null,
      "outputs": []
    },
    {
      "cell_type": "code",
      "source": [],
      "metadata": {
        "id": "SaI7_ZcpJ_l2"
      },
      "execution_count": null,
      "outputs": []
    },
    {
      "cell_type": "markdown",
      "source": [
        "<aside>\n",
        "💡 **uestion 6**\n",
        "\n",
        "The [tower of Hanoi](https://en.wikipedia.org/wiki/Tower_of_Hanoi) is a famous puzzle where we have three rods and **N** disks. The objective of the puzzle is to move the entire stack to another rod. You are given the number of discs **N**. Initially, these discs are in the rod 1. You need to print all the steps of discs movement so that all the discs reach the 3rd rod. Also, you need to find the total moves.**Note:** The discs are arranged such that the **top disc is numbered 1** and the **bottom-most disc is numbered N**. Also, all the discs have **different sizes** and a bigger disc **cannot** be put on the top of a smaller disc. Refer the provided link to get a better clarity about the puzzle.\n",
        "\n",
        "**Example 1:**\n",
        "\n",
        "```\n",
        "Input:\n",
        "N = 2\n",
        "Output:\n",
        "move disk 1 from rod 1 to rod 2\n",
        "move disk 2 from rod 1 to rod 3\n",
        "move disk 1 from rod 2 to rod 3\n",
        "3\n",
        "Explanation:For N=2 , steps will be\n",
        "as follows in the example and total\n",
        "3 steps will be taken.\n",
        "```\n",
        "\n",
        "**Example 2:**\n",
        "\n",
        "</aside>"
      ],
      "metadata": {
        "id": "PA5kS5VFKDue"
      }
    },
    {
      "cell_type": "code",
      "source": [],
      "metadata": {
        "id": "M4cXijxdKEXH"
      },
      "execution_count": null,
      "outputs": []
    },
    {
      "cell_type": "code",
      "source": [],
      "metadata": {
        "id": "5J5e0w7DKE3p"
      },
      "execution_count": null,
      "outputs": []
    },
    {
      "cell_type": "code",
      "source": [],
      "metadata": {
        "id": "Cd3fI1-OKE7N"
      },
      "execution_count": null,
      "outputs": []
    },
    {
      "cell_type": "markdown",
      "source": [
        "<aside>\n",
        "💡 **Question 7**\n",
        "\n",
        "Given a string **str**, the task is to print all the permutations of **str**. A **permutation** is an arrangement of all or part of a set of objects, with regard to the order of the arrangement. For instance, the words ‘bat’ and ‘tab’ represents two distinct permutation (or arrangements) of a similar three letter word.\n",
        "\n",
        "**Examples:**\n",
        "\n",
        "> Input: str = “cd”\n",
        "> \n",
        "> \n",
        "> **Output:** cd dc\n",
        "> \n",
        "> **Input:** str = “abb”\n",
        "> \n",
        "> **Output:** abb abb bab bba bab bba\n",
        "> \n",
        "</aside>"
      ],
      "metadata": {
        "id": "VDXEfU-JKFPJ"
      }
    },
    {
      "cell_type": "code",
      "source": [
        "def permute_string(string,left,right):\n",
        "  if left==right:\n",
        "    print( ''.join(string))\n",
        "  else:\n",
        "    for i in range(left,right+1):\n",
        "      string[left],string[i]=string[i], string[left]\n",
        "      permute_string(string,left+1,right)\n",
        "      string[left],string[i]=string[i],string[left]\n",
        "      \n",
        "\n",
        "\n",
        "  "
      ],
      "metadata": {
        "id": "I9zUrFwpKH2D"
      },
      "execution_count": 16,
      "outputs": []
    },
    {
      "cell_type": "code",
      "source": [
        "str = 'abb'\n",
        "string=list(str)\n",
        "n=len(string)\n",
        "permute_string(string,0,n-1)"
      ],
      "metadata": {
        "colab": {
          "base_uri": "https://localhost:8080/"
        },
        "id": "YN29qNwlKIdA",
        "outputId": "6d96c609-3cb8-490f-e89c-3df86ab76c24"
      },
      "execution_count": 17,
      "outputs": [
        {
          "output_type": "stream",
          "name": "stdout",
          "text": [
            "abb\n",
            "abb\n",
            "bab\n",
            "bba\n",
            "bba\n",
            "bab\n"
          ]
        }
      ]
    },
    {
      "cell_type": "code",
      "source": [],
      "metadata": {
        "id": "gNXzmlkoKIlF"
      },
      "execution_count": null,
      "outputs": []
    },
    {
      "cell_type": "markdown",
      "source": [
        "<aside>\n",
        "💡 **Question 8**\n",
        "\n",
        "Given a string, count total number of consonants in it. A consonant is an English alphabet character that is not vowel (a, e, i, o and u). Examples of constants are b, c, d, f, and g.\n",
        "\n",
        "**Examples :**\n",
        "\n",
        "</aside>"
      ],
      "metadata": {
        "id": "7mCsI9QAKItn"
      }
    },
    {
      "cell_type": "code",
      "source": [
        "def count_consonants(string):\n",
        "    # Base case: an empty string has no consonants\n",
        "    if string == '':\n",
        "        return 0\n",
        "\n",
        "    # Check if the first character is a consonant\n",
        "    if string[0].lower() not in 'aeiou' and string[0].isalpha():\n",
        "        return 1 + count_consonants(string[1:])  # Add 1 and recurse on the remaining string\n",
        "    else:\n",
        "        return count_consonants(string[1:])  # Recurse on the remaining string\n",
        "  \n"
      ],
      "metadata": {
        "id": "qowe1LHeKMMA"
      },
      "execution_count": 11,
      "outputs": []
    },
    {
      "cell_type": "code",
      "source": [
        "# Example usage:\n",
        "input_string = 'Hello World'\n",
        "result = count_consonants(input_string)\n",
        "print(\"Total number of consonants:\", result)"
      ],
      "metadata": {
        "colab": {
          "base_uri": "https://localhost:8080/"
        },
        "id": "FvA61wZ3Kx7a",
        "outputId": "17d34dec-fa30-4100-d3d2-0c31710b925e"
      },
      "execution_count": 13,
      "outputs": [
        {
          "output_type": "stream",
          "name": "stdout",
          "text": [
            "Total number of consonants: 7\n"
          ]
        }
      ]
    }
  ]
}