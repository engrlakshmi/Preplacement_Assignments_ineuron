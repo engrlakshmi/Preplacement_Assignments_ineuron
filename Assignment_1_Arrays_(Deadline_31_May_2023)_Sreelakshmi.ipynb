{
  "nbformat": 4,
  "nbformat_minor": 0,
  "metadata": {
    "colab": {
      "provenance": []
    },
    "kernelspec": {
      "name": "python3",
      "display_name": "Python 3"
    },
    "language_info": {
      "name": "python"
    }
  },
  "cells": [
    {
      "cell_type": "code",
      "execution_count": null,
      "metadata": {
        "id": "HaMCJS0djPoX"
      },
      "outputs": [],
      "source": []
    },
    {
      "cell_type": "markdown",
      "source": [
        "Assignment 1 Questions - Arrays | DSA"
      ],
      "metadata": {
        "id": "Ikr70s0MmutB"
      }
    },
    {
      "cell_type": "code",
      "source": [],
      "metadata": {
        "id": "LhDhb8vGmwcd"
      },
      "execution_count": null,
      "outputs": []
    },
    {
      "cell_type": "markdown",
      "source": [
        "<aside>\n",
        "💡 **Q1.** Given an array of integers nums and an integer target, return indices of the two numbers such that they add up to target.\n",
        "\n",
        "You may assume that each input would have exactly one solution, and you may not use the same element twice.\n",
        "\n",
        "You can return the answer in any order.\n",
        "\n",
        "**Example:**\n",
        "Input: nums = [2,7,11,15], target = 9\n",
        "Output0 [0,1]\n",
        "\n",
        "**Explanation:** Because nums[0] + nums[1] == 9, we return [0, 1][\n",
        "\n",
        "</aside>"
      ],
      "metadata": {
        "id": "EEqKBHtdnIDm"
      }
    },
    {
      "cell_type": "code",
      "source": [
        "\n",
        "\n",
        "#Iterate through the array from left to right.\n",
        "#For each element nums[i], calculate the complement by subtracting it from the target\n",
        "\n",
        "\n",
        "\n",
        "def twosum(nums, target):\n",
        "    d = {} #Create an empty dictionary to store the elements of the array and their indices.\n",
        "    for i in range(len(nums)):#Iterate through the array from left to right.\n",
        "        complement = target[0] - nums[i] #For each element nums[i], calculate the complement by subtracting it from the target9 (9-2=7 (7,2),9-7=2,(2,7)9-11=-2,(-2,9),9-15=-8,(-8,9))\n",
        "        if complement in d:#Check if the complement exists in the dictionary\n",
        "            print([d[complement], i]) #7,0\n",
        "            return [d[complement], i]#return the indices of the current element and its complement from the dictionary.\n",
        "        else:\n",
        "            d[nums[i]] = i#else current element to the dictionary with its index.,11,3\n",
        "\n",
        "\n",
        "\n",
        "\n",
        "\n"
      ],
      "metadata": {
        "id": "URbKrf2QnI3A"
      },
      "execution_count": 1,
      "outputs": []
    },
    {
      "cell_type": "code",
      "source": [
        "# Example usage\n",
        "nums = [2, 7, 11, 15]\n",
        "target = [9]\n",
        "result = twosum(nums, target)\n",
        "print(result)  # Output: [0, 1]"
      ],
      "metadata": {
        "colab": {
          "base_uri": "https://localhost:8080/"
        },
        "id": "Oay7WRJR3Lt6",
        "outputId": "c6037a03-5740-4f95-f2f9-3413ca50860b"
      },
      "execution_count": 2,
      "outputs": [
        {
          "output_type": "stream",
          "name": "stdout",
          "text": [
            "[0, 1]\n",
            "[0, 1]\n"
          ]
        }
      ]
    },
    {
      "cell_type": "markdown",
      "source": [],
      "metadata": {
        "id": "MpqAwyZaiINZ"
      }
    },
    {
      "cell_type": "code",
      "source": [],
      "metadata": {
        "id": "4eE7NzEpENCF"
      },
      "execution_count": 2,
      "outputs": []
    },
    {
      "cell_type": "markdown",
      "source": [
        "<aside>\n",
        "💡 **Q2.** Given an integer array nums and an integer val, remove all occurrences of val in nums in-place. The order of the elements may be changed. Then return the number of elements in nums which are not equal to val.\n",
        "\n",
        "Consider the number of elements in nums which are not equal to val be k, to get accepted, you need to do the following things:\n",
        "\n",
        "- Change the array nums such that the first k elements of nums contain the elements which are not equal to val. The remaining elements of nums are not important as well as the size of nums.\n",
        "- Return k.\n",
        "\n",
        "**Example :**\n",
        "Input: nums = [3,2,2,3], val = 3\n",
        "Output: 2, nums = [2,2,_*,_*]\n",
        "\n",
        "**Explanation:** Your function should return k = 2, with the first two elements of nums being 2. It does not matter what you leave beyond the returned k (hence they are underscores)[\n",
        "\n",
        "</aside>"
      ],
      "metadata": {
        "id": "EO0ywlLG2VRf"
      }
    },
    {
      "cell_type": "code",
      "source": [
        "nums = [3, 2, 2, 3]\n",
        "val = 3\n",
        "\n",
        "def remove_occurance(nums, val):\n",
        "    left = 0\n",
        "    for right in range(len(nums)):\n",
        "        if nums[right] != val:# 2!=3, If the element is not val\n",
        "            nums[left] = nums[right] #2 add that element to the place of left.\n",
        "            left += 1\n",
        "    return left\n",
        "\n",
        "result = remove_occurance(nums, val)\n",
        "print(result)\n",
        "\n",
        "\n",
        "\n",
        "\n"
      ],
      "metadata": {
        "colab": {
          "base_uri": "https://localhost:8080/"
        },
        "id": "cxhdThZC2V_p",
        "outputId": "22f87f2d-195c-4d59-bb62-7814bee6601e"
      },
      "execution_count": 3,
      "outputs": [
        {
          "output_type": "stream",
          "name": "stdout",
          "text": [
            "2\n"
          ]
        }
      ]
    },
    {
      "cell_type": "code",
      "source": [],
      "metadata": {
        "id": "p2KiR39xx_uN"
      },
      "execution_count": 3,
      "outputs": []
    },
    {
      "cell_type": "code",
      "source": [],
      "metadata": {
        "id": "rgu7PEmiMntN"
      },
      "execution_count": 3,
      "outputs": []
    },
    {
      "cell_type": "markdown",
      "source": [
        "<aside>\n",
        "💡 **Q3.** Given a sorted array of distinct integers and a target value, return the index if the target is found. If not, return the index where it would be if it were inserted in order.\n",
        "\n",
        "You must write an algorithm with O(log n) runtime complexity.\n",
        "\n",
        "**Example 1:**\n",
        "Input: nums = [1,3,5,6], target = 5\n",
        "\n",
        "Output: 2\n",
        "\n",
        "</aside>"
      ],
      "metadata": {
        "id": "lkfMrjEUx3_P"
      }
    },
    {
      "cell_type": "code",
      "source": [
        "nums=[1,3,5,6]\n",
        "target=5\n",
        "def target_index(nums,target):\n",
        "    right=0\n",
        "    for right in range(len(nums)):\n",
        "        if nums[right] >= target:\n",
        "          break\n",
        "        right += 1\n",
        "    return right\n",
        "\n",
        "\n",
        "result = target_index(nums,target)\n",
        "print('The index of the target is ',result)"
      ],
      "metadata": {
        "colab": {
          "base_uri": "https://localhost:8080/"
        },
        "id": "yIq33-4YyAWH",
        "outputId": "68b930c1-62ec-4c87-f162-f1fe6d554ab9"
      },
      "execution_count": 4,
      "outputs": [
        {
          "output_type": "stream",
          "name": "stdout",
          "text": [
            "The index of the target is  2\n"
          ]
        }
      ]
    },
    {
      "cell_type": "code",
      "source": [],
      "metadata": {
        "id": "RA5Qr6Ko4KPT"
      },
      "execution_count": 4,
      "outputs": []
    },
    {
      "cell_type": "markdown",
      "source": [
        "<aside>\n",
        "💡 **Q4.** You are given a large integer represented as an integer array digits, where each digits[i] is the ith digit of the integer. The digits are ordered from most significant to least significant in left-to-right order. The large integer does not contain any leading 0's.\n",
        "\n",
        "Increment the large integer by one and return the resulting array of digits.\n",
        "\n",
        "**Example 1:**\n",
        "Input: digits = [1,2,3]\n",
        "Output: [1,2,4]\n",
        "\n",
        "**Explanation:** The array represents the integer 123.\n",
        "\n",
        "Incrementing by one gives 123 + 1 = 124.\n",
        "Thus, the result should be [1,2,4].\n",
        "\n",
        "</aside>"
      ],
      "metadata": {
        "id": "g83r4LnF6npu"
      }
    },
    {
      "cell_type": "markdown",
      "source": [],
      "metadata": {
        "id": "8Gard0m54yNr"
      }
    },
    {
      "cell_type": "code",
      "source": [
        "def increment_large_integer(digits):\n",
        "  i=0\n",
        "  output=[]\n",
        "  for i in range(len(digits)):\n",
        "    if digits[i]== digits[len(digits)-1]:\n",
        "      digits[i]=digits[i]+1\n",
        "    output.append(digits[i])\n",
        "  return output\n",
        " "
      ],
      "metadata": {
        "id": "sbPQX8zkeEQU"
      },
      "execution_count": 5,
      "outputs": []
    },
    {
      "cell_type": "code",
      "source": [
        "digits = [1,2,3]\n",
        "#Output: [1,2,4]\n",
        "result = increment_large_integer(digits)\n",
        "print(result)"
      ],
      "metadata": {
        "colab": {
          "base_uri": "https://localhost:8080/"
        },
        "id": "yuNPdfVDeEYy",
        "outputId": "1860d495-5d12-48b0-bdde-86b3dedeee0a"
      },
      "execution_count": 6,
      "outputs": [
        {
          "output_type": "stream",
          "name": "stdout",
          "text": [
            "[1, 2, 4]\n"
          ]
        }
      ]
    },
    {
      "cell_type": "code",
      "source": [],
      "metadata": {
        "id": "_A8VRTPOrX4t"
      },
      "execution_count": 6,
      "outputs": []
    },
    {
      "cell_type": "markdown",
      "source": [
        "<aside>\n",
        "💡 **Q5.** You are given two integer arrays nums1 and nums2, sorted in non-decreasing order, and two integers m and n, representing the number of elements in nums1 and nums2 respectively.\n",
        "\n",
        "Merge nums1 and nums2 into a single array sorted in non-decreasing order.\n",
        "\n",
        "The final sorted array should not be returned by the function, but instead be stored inside the array nums1. To accommodate this, nums1 has a length of m + n, where the first m elements denote the elements that should be merged, and the last n elements are set to 0 and should be ignored. nums2 has a length of n.\n",
        "\n",
        "**Example 1:**\n",
        "Input: nums1 = [1,2,3,0,0,0], m = 3, nums2 = [2,5,6], n = 3\n",
        "Output: [1,2,2,3,5,6]\n",
        "\n",
        "**Explanation:** The arrays we are merging are [1,2,3] and [2,5,6].\n",
        "The result of the merge is [1,2,2,3,5,6] with the underlined elements coming from nums1.\n",
        "\n",
        "</aside>"
      ],
      "metadata": {
        "id": "Qx8JaXjGsO_h"
      }
    },
    {
      "cell_type": "code",
      "source": [
        "def merge_arrays(nums1, nums2):\n",
        "    i = 0\n",
        "    j = 0\n",
        "    while i < len(nums1) and j < len(nums2):\n",
        "        if nums1[i] == 0:\n",
        "            nums1[i] = nums2[j]\n",
        "            j += 1\n",
        "        i += 1\n",
        "    return nums1\n",
        "\n",
        "nums1 = [1, 2, 3, 0, 0, 0]\n",
        "nums2 = [2, 5, 6]\n",
        "result = merge_arrays(nums1, nums2)\n",
        "print(sorted(result))\n",
        "\n"
      ],
      "metadata": {
        "colab": {
          "base_uri": "https://localhost:8080/"
        },
        "id": "L_IxtahLsPtY",
        "outputId": "9c74ed8d-0603-4341-8c67-6d18dbc4bb3d"
      },
      "execution_count": 7,
      "outputs": [
        {
          "output_type": "stream",
          "name": "stdout",
          "text": [
            "[1, 2, 2, 3, 5, 6]\n"
          ]
        }
      ]
    },
    {
      "cell_type": "code",
      "source": [],
      "metadata": {
        "id": "xA9Vxbh7Dbl2"
      },
      "execution_count": 7,
      "outputs": []
    },
    {
      "cell_type": "markdown",
      "source": [
        "<aside>\n",
        "💡 **Q6.** Given an integer array nums, return true if any value appears at least twice in the array, and return false if every element is distinct.\n",
        "\n",
        "**Example 1:**\n",
        "Input: nums = [1,2,3,1]\n",
        "\n",
        "Output: true\n",
        "\n",
        "</aside>"
      ],
      "metadata": {
        "id": "Decs8fCXDk8V"
      }
    },
    {
      "cell_type": "markdown",
      "source": [],
      "metadata": {
        "id": "Got_DZ9Q8a57"
      }
    },
    {
      "cell_type": "code",
      "source": [
        "\n",
        "\n",
        "\n",
        "def containsDuplicate(nums):\n",
        "    seen = set()\n",
        "    for num in nums:\n",
        "        if num in seen:\n",
        "            return True\n",
        "        seen.add(num)\n",
        "    return False\n",
        "\n",
        "nums = [1, 2, 3, 1]\n",
        "result = containsDuplicate(nums)\n",
        "print(result)\n"
      ],
      "metadata": {
        "colab": {
          "base_uri": "https://localhost:8080/"
        },
        "id": "BmMJEDiXCIcx",
        "outputId": "10fec807-e4be-431d-c4af-9807043b4069"
      },
      "execution_count": 13,
      "outputs": [
        {
          "output_type": "stream",
          "name": "stdout",
          "text": [
            "True\n"
          ]
        }
      ]
    },
    {
      "cell_type": "code",
      "source": [],
      "metadata": {
        "id": "R0ichZv2NK-N"
      },
      "execution_count": null,
      "outputs": []
    },
    {
      "cell_type": "markdown",
      "source": [
        "<aside>\n",
        "💡 **Q7.** Given an integer array nums, move all 0's to the end of it while maintaining the relative order of the nonzero elements.\n",
        "\n",
        "Note that you must do this in-place without making a copy of the array.\n",
        "\n",
        "**Example 1:**\n",
        "Input: nums = [0,1,0,3,12]\n",
        "Output: [1,3,12,0,0]\n",
        "\n",
        "</aside>"
      ],
      "metadata": {
        "id": "GtfsOpKzNLlt"
      }
    },
    {
      "cell_type": "code",
      "source": [
        "#Using two pointers : left pointer to find the index of the non zero number and right pointer for iteration\n",
        "\n",
        "def moveZeros(nums):\n",
        "    left = 0\n",
        "    for right in range(len(nums)):\n",
        "        if nums[right] != 0:\n",
        "            nums[left], nums[right] = nums[right], nums[left]\n",
        "            left += 1\n",
        "\n",
        "nums = [0, 1, 0, 3, 12]\n",
        "moveZeros(nums)\n",
        "print(\"The order of the new list is:\", nums)\n"
      ],
      "metadata": {
        "colab": {
          "base_uri": "https://localhost:8080/"
        },
        "id": "-QHduGIzNVOS",
        "outputId": "54db8c50-654d-47d0-e3cc-6659e07bcd28"
      },
      "execution_count": 10,
      "outputs": [
        {
          "output_type": "stream",
          "name": "stdout",
          "text": [
            "The order of the new list is: [1, 3, 12, 0, 0]\n"
          ]
        }
      ]
    },
    {
      "cell_type": "markdown",
      "source": [
        "<aside>\n",
        "💡 **Q8.** You have a set of integers s, which originally contains all the numbers from 1 to n. Unfortunately, due to some error, one of the numbers in s got duplicated to another number in the set, which results in repetition of one number and loss of another number.\n",
        "\n",
        "You are given an integer array nums representing the data status of this set after the error.\n",
        "\n",
        "Find the number that occurs twice and the number that is missing and return them in the form of an array.\n",
        "\n",
        "**Example 1:**\n",
        "Input: nums = [1,2,2,4]\n",
        "Output: [2,3]\n",
        "\n",
        "</aside>"
      ],
      "metadata": {
        "id": "lpgT6K4vNVfe"
      }
    },
    {
      "cell_type": "code",
      "source": [
        "nums=[1,2,2,4]\n",
        "numset=set()\n",
        "duplicate=0\n",
        "totalsum=0\n",
        "for num in nums:\n",
        "  if num not in numset:\n",
        "    numset.add(num)\n",
        "  else:\n",
        "    duplicate =num\n",
        "  totalsum=totalsum+num\n",
        "#length of number\n",
        "n=len(nums)\n",
        "expected_sum=n * (n + 1) // 2\n",
        "missing_value=expected_sum-(totalsum-duplicate)\n",
        "l1= [duplicate, missing_value]\n",
        "print(l1)\n",
        "\n",
        "\n",
        "    \n",
        "\n"
      ],
      "metadata": {
        "colab": {
          "base_uri": "https://localhost:8080/"
        },
        "id": "A55tQw_ONWOW",
        "outputId": "999c11c4-3c7a-4ec4-a3f6-7e3005b61b89"
      },
      "execution_count": 57,
      "outputs": [
        {
          "output_type": "stream",
          "name": "stdout",
          "text": [
            "[2, 3]\n"
          ]
        }
      ]
    },
    {
      "cell_type": "code",
      "source": [
        "nums=[1,2,2,4]\n",
        "result=Numbertwice_NumMissing(nums)\n",
        "print(result)"
      ],
      "metadata": {
        "colab": {
          "base_uri": "https://localhost:8080/"
        },
        "id": "8FNea6GqgcG5",
        "outputId": "b2c7a66f-ea1f-4d70-da0c-97f373447278"
      },
      "execution_count": 24,
      "outputs": [
        {
          "output_type": "stream",
          "name": "stdout",
          "text": [
            "{0: 1, 1: 1, 2: 1, 3: 1}\n"
          ]
        }
      ]
    },
    {
      "cell_type": "code",
      "source": [
        "def Numbertwice_NumMissing(nums):\n",
        "  d={}\n",
        "  right=0\n",
        "  for right in range(len(nums)):\n",
        "    if nums[right] not in d:\n",
        "      d[right]=1\n",
        "    else:\n",
        "      d[right] +=1\n",
        "  return(d)"
      ],
      "metadata": {
        "id": "Y8ujI5Cph6Rj"
      },
      "execution_count": null,
      "outputs": []
    }
  ]
}