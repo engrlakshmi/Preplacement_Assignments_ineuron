{
  "nbformat": 4,
  "nbformat_minor": 0,
  "metadata": {
    "colab": {
      "provenance": []
    },
    "kernelspec": {
      "name": "python3",
      "display_name": "Python 3"
    },
    "language_info": {
      "name": "python"
    }
  },
  "cells": [
    {
      "cell_type": "code",
      "execution_count": null,
      "metadata": {
        "id": "wFHG4WnC10CV"
      },
      "outputs": [],
      "source": []
    },
    {
      "cell_type": "markdown",
      "source": [
        "17. Write a function that takes a list of numbers as input and returns a new list containing only the even numbers from the input list. Use list comprehension to solve this problem.\n",
        "\n",
        "Example:\n",
        "\n",
        "Input: [1, 2, 3, 4, 5, 6, 7, 8, 9, 10]\n",
        "\n",
        "Output: [2, 4, 6, 8, 10]"
      ],
      "metadata": {
        "id": "SQ86_At_16vP"
      }
    },
    {
      "cell_type": "code",
      "source": [
        "Input= [1, 2, 3, 4, 5, 6, 7, 8, 9, 10]\n",
        "Output=[ i for i in Input if i%2==0]\n",
        "print(Output)"
      ],
      "metadata": {
        "colab": {
          "base_uri": "https://localhost:8080/"
        },
        "id": "iHUmDYij17SQ",
        "outputId": "26f37a55-2d0d-4765-a9de-05e94dd7f91d"
      },
      "execution_count": 4,
      "outputs": [
        {
          "output_type": "stream",
          "name": "stdout",
          "text": [
            "[2, 4, 6, 8, 10]\n"
          ]
        }
      ]
    },
    {
      "cell_type": "markdown",
      "source": [
        "18. Implement a decorator function called ‘timer’ that measures the execution time of a function. The ‘timer’ decorator should print the time taken by the decorated function to execute. Use the ‘time’ module in Python to calculate the execution time."
      ],
      "metadata": {
        "id": "Cz-eQC6T236a"
      }
    },
    {
      "cell_type": "code",
      "source": [
        "import time\n",
        "\n",
        "\n",
        "def timer(func):\n",
        "  def wrapper(*args,**kwargs):\n",
        "    start_time=time.time()\n",
        "    result=func(*args,**kwargs)\n",
        "    end_time=time.time()\n",
        "    execution_time=end_time-start_time\n",
        "    print(execution_time)\n",
        "    return result\n",
        "  return wrapper\n",
        ""
      ],
      "metadata": {
        "id": "if2f6ZfX1-vh"
      },
      "execution_count": 6,
      "outputs": []
    },
    {
      "cell_type": "code",
      "source": [
        "@timer\n",
        "def my_function():\n",
        "    # Function code goes here\n",
        "    time.sleep(2)\n",
        "\n",
        "my_function()"
      ],
      "metadata": {
        "colab": {
          "base_uri": "https://localhost:8080/"
        },
        "id": "aT8RFvTe4g0f",
        "outputId": "b5e49c9d-411b-4ef9-e8d2-1fd13cd43e09"
      },
      "execution_count": 7,
      "outputs": [
        {
          "output_type": "stream",
          "name": "stdout",
          "text": [
            "2.003081798553467\n"
          ]
        }
      ]
    },
    {
      "cell_type": "code",
      "source": [],
      "metadata": {
        "id": "83Qbqgor27zJ"
      },
      "execution_count": null,
      "outputs": []
    },
    {
      "cell_type": "markdown",
      "source": [
        "19. Write a function called ‘calculate_mean’ that takes a list of numbers as input and returns the mean (average) of the numbers. The function should calculate the mean using the sum of the numbers divided by the total count.\n",
        "def calculate_mean(numbers):\n",
        "    total = sum(numbers)\n",
        "    count = len(numbers)\n",
        "    mean = total / count\n",
        "    return mean\n",
        "\n",
        "data = [10, 15, 20, 25, 30]\n",
        "mean_value = calculate_mean(data)\n",
        "print(\"Mean:\", mean_value)\n",
        "\n",
        "Output:\n",
        "Mean: 20.0\n"
      ],
      "metadata": {
        "id": "GOsk1P7R4yO2"
      }
    },
    {
      "cell_type": "code",
      "source": [
        "def calculate_mean(numbers):\n",
        "   total = sum(numbers)\n",
        "   count = len(numbers)\n",
        "   mean = total / count\n",
        "   return mean\n"
      ],
      "metadata": {
        "id": "huyNCGwt4zAP"
      },
      "execution_count": 9,
      "outputs": []
    },
    {
      "cell_type": "code",
      "source": [
        "n = int(input(\"Enter the number of elements \"))\n",
        "s=input(\"Enter the elements seperated by space: \")\n",
        "# Use map function to wrap-up them and converting to desired data type.\n",
        "data = list (int(num) for num in s.split())[0:n]\n",
        "mean_value = calculate_mean(data)\n",
        "print(\"Mean:\", mean_value)"
      ],
      "metadata": {
        "colab": {
          "base_uri": "https://localhost:8080/"
        },
        "id": "MHCTRFZI5RXk",
        "outputId": "668a83bd-be22-450e-e2b2-fb50d3e06304"
      },
      "execution_count": 16,
      "outputs": [
        {
          "output_type": "stream",
          "name": "stdout",
          "text": [
            "Enter the number of elements 4\n",
            "Enter the elements seperated by space: 2 3 4 5\n",
            "Mean: 3.5\n"
          ]
        }
      ]
    },
    {
      "cell_type": "code",
      "source": [],
      "metadata": {
        "id": "u4aJelPb6qlQ"
      },
      "execution_count": null,
      "outputs": []
    },
    {
      "cell_type": "markdown",
      "source": [
        "20. Write a function called ‘perform_hypothesis_test’ that takes two lists of numbers as input, representing two samples. The function should perform a two-sample t-test and return the p-value. Use the ‘scipy.stats’ module in Python to calculate the t-test and p-value."
      ],
      "metadata": {
        "id": "uR-acLmx82Xy"
      }
    },
    {
      "cell_type": "code",
      "source": [
        "from scipy import stats\n",
        "\n",
        "def perform_hypothesis_test(sample1, sample2):\n",
        "    t_statistic, p_value = stats.ttest_ind(sample1, sample2)\n",
        "    return p_value\n",
        "\n"
      ],
      "metadata": {
        "id": "6kSZIrDQ821X"
      },
      "execution_count": 17,
      "outputs": []
    },
    {
      "cell_type": "code",
      "source": [
        "n1=int(input(\"Enter the number of elements in sample 1\"))\n",
        "s1=input(\"enter the elements in sample 1\")\n",
        "sample1=list(int(num) for num in s1.split())[0:n1]\n",
        "n2=int(input(\"Enter the number of elements in sample 2\"))\n",
        "s2=input(\"enter the lemenets in sample 2\")\n",
        "sample2=list(int(num)for num in s2.split())[0:n2]\n",
        "p_value = perform_hypothesis_test(sample1, sample2)\n",
        "print(\"P-value:\", p_value)"
      ],
      "metadata": {
        "colab": {
          "base_uri": "https://localhost:8080/"
        },
        "id": "H29K-rxkLqxz",
        "outputId": "91e911c1-1796-413c-9c4c-7b9bf7b7e589"
      },
      "execution_count": 19,
      "outputs": [
        {
          "output_type": "stream",
          "name": "stdout",
          "text": [
            "Enter the number of elements in sample 15\n",
            "enter the elements in sample 110 15 20 25 30\n",
            "Enter the number of elements in sample 25\n",
            "enter the lemenets in sample 245 50 55 60 65\n",
            "P-value: 0.00011263854912686899\n"
          ]
        }
      ]
    }
  ]
}