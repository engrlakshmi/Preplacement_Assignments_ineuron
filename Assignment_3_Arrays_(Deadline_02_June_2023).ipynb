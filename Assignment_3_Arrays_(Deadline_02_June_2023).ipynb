{
  "nbformat": 4,
  "nbformat_minor": 0,
  "metadata": {
    "colab": {
      "provenance": []
    },
    "kernelspec": {
      "name": "python3",
      "display_name": "Python 3"
    },
    "language_info": {
      "name": "python"
    }
  },
  "cells": [
    {
      "cell_type": "code",
      "execution_count": null,
      "metadata": {
        "id": "GL5qLhbMzGH8"
      },
      "outputs": [],
      "source": []
    },
    {
      "cell_type": "markdown",
      "source": [
        "Question 1\n",
        "Given an integer array nums of length n and an integer target, find three integers\n",
        "in nums such that the sum is closest to the target.\n",
        "Return the sum of the three integers.\n",
        "\n",
        "You may assume that each input would have exactly one solution.\n",
        "\n",
        "Example 1:\n",
        "Input: nums = [-1,2,1,-4], target = 1\n",
        "Output: 2\n",
        "\n",
        "Explanation: The sum that is closest to the target is 2. (-1 + 2 + 1 = 2)."
      ],
      "metadata": {
        "id": "uTAZBmbUzPmQ"
      }
    },
    {
      "cell_type": "code",
      "source": [
        "def threeSumClosest(nums, target):\n",
        "    n = len(nums)\n",
        "    closest_sum = float('inf')\n",
        "\n",
        "    for i in range(len(nums)):#4-2,i=1\n",
        "        for j in range(i + 1, len(nums)):#2,3\n",
        "            for k in range(j + 1, len(nums)):#3,4\n",
        "                curr_sum = nums[i] + nums[j] + nums[k]\n",
        "                if abs(curr_sum - target) < abs(closest_sum - target):\n",
        "                    closest_sum = curr_sum\n",
        "\n",
        "    return closest_sum\n"
      ],
      "metadata": {
        "id": "X_eojwyqzQN3"
      },
      "execution_count": null,
      "outputs": []
    },
    {
      "cell_type": "code",
      "source": [
        "nums=[-1,2,1,-4]\n",
        "target=1\n",
        "result=threeSumClosest(nums, target)\n",
        "print(\"Closest sum of target is : \", result)"
      ],
      "metadata": {
        "colab": {
          "base_uri": "https://localhost:8080/"
        },
        "id": "tptffteuzXiI",
        "outputId": "cc8025ec-e442-4def-b92b-25c9f680601b"
      },
      "execution_count": null,
      "outputs": [
        {
          "output_type": "stream",
          "name": "stdout",
          "text": [
            "Closest sum of target is :  2\n"
          ]
        }
      ]
    },
    {
      "cell_type": "markdown",
      "source": [
        "Question 2\n",
        "Given an array nums of n integers, return an array of all the unique quadruplets\n",
        "[nums[a], nums[b], nums[c], nums[d]] such that:\n",
        "           ● 0 <= a, b, c, d < n\n",
        "           ● a, b, c, and d are distinct.\n",
        "           ● nums[a] + nums[b] + nums[c] + nums[d] == target\n",
        "\n",
        "You may return the answer in any order.\n",
        "\n",
        "Example 1:\n",
        "Input: nums = [1,0,-1,0,-2,2], target = 0\n",
        "Output: [[-2,-1,1,2],[-2,0,0,2],[-1,0,0,1]]"
      ],
      "metadata": {
        "id": "yv7eVcv5zXwh"
      }
    },
    {
      "cell_type": "code",
      "source": [
        "def unique_quadruplets(nums,target):\n",
        "  nums.sort()\n",
        "  quadruplets=set()\n",
        "  for a in range(len(nums)):\n",
        "    for b in range(a+1,len(nums)):\n",
        "      for c in range(b+1,len(nums)):\n",
        "        for d in range(c+1,len(nums)):\n",
        "          if nums[a] + nums[b] + nums[c] + nums[d] == target:\n",
        "            quadruplets.add((nums[a], nums[b], nums[c], nums[d]))  \n",
        "  return list(quadruplets)\n",
        "\n"
      ],
      "metadata": {
        "id": "x2FinkDAzYQG"
      },
      "execution_count": null,
      "outputs": []
    },
    {
      "cell_type": "code",
      "source": [
        "nums = [1,0,-1,0,-2,2]\n",
        "target = 0\n",
        "quadruplets = unique_quadruplets(nums,target)\n",
        "\n",
        "print(quadruplets)"
      ],
      "metadata": {
        "colab": {
          "base_uri": "https://localhost:8080/"
        },
        "id": "QS8qZ1kGzY01",
        "outputId": "71377b08-f324-478a-c9db-eaf2300f8f06"
      },
      "execution_count": null,
      "outputs": [
        {
          "output_type": "stream",
          "name": "stdout",
          "text": [
            "[(-2, -1, 1, 2), (-1, 0, 0, 1), (-2, 0, 0, 2)]\n"
          ]
        }
      ]
    },
    {
      "cell_type": "code",
      "source": [],
      "metadata": {
        "id": "JM-ia-vizY-9"
      },
      "execution_count": null,
      "outputs": []
    },
    {
      "cell_type": "markdown",
      "source": [
        "<aside>\n",
        "💡 **Question 3**\n",
        "A permutation of an array of integers is an arrangement of its members into a\n",
        "sequence or linear order.\n",
        "\n",
        "For example, for arr = [1,2,3], the following are all the permutations of arr:\n",
        "[1,2,3], [1,3,2], [2, 1, 3], [2, 3, 1], [3,1,2], [3,2,1].\n",
        "\n",
        "The next permutation of an array of integers is the next lexicographically greater\n",
        "permutation of its integer. More formally, if all the permutations of the array are\n",
        "sorted in one container according to their lexicographical order, then the next\n",
        "permutation of that array is the permutation that follows it in the sorted container.\n",
        "\n",
        "If such an arrangement is not possible, the array must be rearranged as the\n",
        "lowest possible order (i.e., sorted in ascending order).\n",
        "\n",
        "● For example, the next permutation of arr = [1,2,3] is [1,3,2].\n",
        "● Similarly, the next permutation of arr = [2,3,1] is [3,1,2].\n",
        "● While the next permutation of arr = [3,2,1] is [1,2,3] because [3,2,1] does not\n",
        "have a lexicographical larger rearrangement.\n",
        "\n",
        "Given an array of integers nums, find the next permutation of nums.\n",
        "The replacement must be in place and use only constant extra memory.\n",
        "\n",
        "**Example 1:**\n",
        "Input: nums = [1,2,3]\n",
        "Output: [1,3,2]\n",
        "\n",
        "</aside>"
      ],
      "metadata": {
        "id": "pzP6dzgfzeYn"
      }
    },
    {
      "cell_type": "code",
      "source": [
        "import itertools\n",
        "\n",
        "def next_permutations(nums):\n",
        "    perms=list(itertools.permutations(nums))\n",
        "    return perms\n"
      ],
      "metadata": {
        "id": "PDwlMBuheDHB"
      },
      "execution_count": null,
      "outputs": []
    },
    {
      "cell_type": "code",
      "source": [
        "nums=[1,2,3]\n",
        "result=next_permutations(nums)\n",
        "print(\"Closest sum of target is : \", result[1])"
      ],
      "metadata": {
        "colab": {
          "base_uri": "https://localhost:8080/"
        },
        "id": "IhVh2B9CzmL2",
        "outputId": "19e7544e-dfb3-4c4c-d481-9efce23196a6"
      },
      "execution_count": null,
      "outputs": [
        {
          "output_type": "stream",
          "name": "stdout",
          "text": [
            "Closest sum of target is :  (1, 3, 2)\n"
          ]
        }
      ]
    },
    {
      "cell_type": "code",
      "source": [],
      "metadata": {
        "id": "ipnzAX6czmO2"
      },
      "execution_count": null,
      "outputs": []
    },
    {
      "cell_type": "markdown",
      "source": [
        "Question 4\n",
        "Given a sorted array of distinct integers and a target value, return the index if the\n",
        "target is found. If not, return the index where it would be if it were inserted in\n",
        "order.\n",
        "\n",
        "You must write an algorithm with O(log n) runtime complexity.\n",
        "\n",
        "Example 1:\n",
        "Input: nums = [1,3,5,6], target = 5\n",
        "Output: 2"
      ],
      "metadata": {
        "id": "YPg-3IrUzmnQ"
      }
    },
    {
      "cell_type": "code",
      "source": [
        "def return_index(nums, target):\n",
        "  for index, num in enumerate(nums):\n",
        "    if num==target:\n",
        "      return index\n",
        "  return -1"
      ],
      "metadata": {
        "id": "XQ-Fyes4znP3"
      },
      "execution_count": null,
      "outputs": []
    },
    {
      "cell_type": "code",
      "source": [
        "nums=[1,3,5,6]\n",
        "target=5\n",
        "result=return_index(nums, target)\n",
        "print(result)"
      ],
      "metadata": {
        "colab": {
          "base_uri": "https://localhost:8080/"
        },
        "id": "Nhch7pe0zn9F",
        "outputId": "7ba780a9-ca81-4a57-be64-a135e4f1774b"
      },
      "execution_count": null,
      "outputs": [
        {
          "output_type": "stream",
          "name": "stdout",
          "text": [
            "2\n"
          ]
        }
      ]
    },
    {
      "cell_type": "code",
      "source": [],
      "metadata": {
        "id": "v0IqEXZHzoAB"
      },
      "execution_count": null,
      "outputs": []
    },
    {
      "cell_type": "markdown",
      "source": [
        "<aside>\n",
        "💡 **Question 5**\n",
        "You are given a large integer represented as an integer array digits, where each\n",
        "digits[i] is the ith digit of the integer. The digits are ordered from most significant\n",
        "to least significant in left-to-right order. The large integer does not contain any\n",
        "leading 0's.\n",
        "\n",
        "Increment the large integer by one and return the resulting array of digits.\n",
        "\n",
        "**Example 1:**\n",
        "Input: digits = [1,2,3]\n",
        "Output: [1,2,4]\n",
        "\n",
        "**Explanation:** The array represents the integer 123.\n",
        "Incrementing by one gives 123 + 1 = 124.\n",
        "Thus, the result should be [1,2,4].\n",
        "\n",
        "</aside>"
      ],
      "metadata": {
        "id": "EFzUgtTEzqnV"
      }
    },
    {
      "cell_type": "code",
      "source": [
        "def increment_large_integer(digits):\n",
        "  i=0\n",
        "  output=[]\n",
        "  for i in range(len(digits)):\n",
        "    if digits[i]== digits[len(digits)-1]:\n",
        "      digits[i]=digits[i]+1\n",
        "    output.append(digits[i])\n",
        "  return output"
      ],
      "metadata": {
        "id": "yjQG_LyTuvUa"
      },
      "execution_count": null,
      "outputs": []
    },
    {
      "cell_type": "code",
      "source": [
        "digits = [1,2,3]\n",
        "#Output: [1,2,4]\n",
        "result = increment_large_integer(digits)\n",
        "print(result)"
      ],
      "metadata": {
        "colab": {
          "base_uri": "https://localhost:8080/"
        },
        "id": "vnYdY04lzrgE",
        "outputId": "8201b6da-7a4f-41a0-d74b-74b7790ee44b"
      },
      "execution_count": null,
      "outputs": [
        {
          "output_type": "stream",
          "name": "stdout",
          "text": [
            "[1, 2, 4]\n"
          ]
        }
      ]
    },
    {
      "cell_type": "code",
      "source": [],
      "metadata": {
        "id": "DA91orIezrlq"
      },
      "execution_count": null,
      "outputs": []
    },
    {
      "cell_type": "markdown",
      "source": [
        "Question 6\n",
        "Given a non-empty array of integers nums, every element appears twice except\n",
        "for one. Find that single one.\n",
        "\n",
        "You must implement a solution with a linear runtime complexity and use only\n",
        "constant extra space.\n",
        "\n",
        "Example 1:\n",
        "Input: nums = [2,2,1]\n",
        "Output: 1"
      ],
      "metadata": {
        "id": "_Xg6c4RhzwKZ"
      }
    },
    {
      "cell_type": "code",
      "source": [
        "#utilise XOR ^ operations -for equal numbers it returns 0"
      ],
      "metadata": {
        "id": "4epTJtoLzwnh"
      },
      "execution_count": null,
      "outputs": []
    },
    {
      "cell_type": "code",
      "source": [
        "def find_single_number(nums):\n",
        "  result=0\n",
        "  for num in nums:\n",
        "    result=result^num\n",
        "  return result \n"
      ],
      "metadata": {
        "id": "_fToWlhQQqlU"
      },
      "execution_count": null,
      "outputs": []
    },
    {
      "cell_type": "code",
      "source": [
        "nums = [2,2,1]\n",
        "#Output: [1]\n",
        "result = find_single_number(nums)\n",
        "print(result)"
      ],
      "metadata": {
        "colab": {
          "base_uri": "https://localhost:8080/"
        },
        "id": "yxYEax_2zxJu",
        "outputId": "4d66b1c2-8482-4a1c-9b6e-fbd762d353d6"
      },
      "execution_count": null,
      "outputs": [
        {
          "output_type": "stream",
          "name": "stdout",
          "text": [
            "1\n"
          ]
        }
      ]
    },
    {
      "cell_type": "code",
      "source": [],
      "metadata": {
        "id": "W-guVSSbzxN0"
      },
      "execution_count": null,
      "outputs": []
    },
    {
      "cell_type": "markdown",
      "source": [
        "Question 7\n",
        "You are given an inclusive range [lower, upper] and a sorted unique integer array\n",
        "nums, where all elements are within the inclusive range.\n",
        "\n",
        "A number x is considered missing if x is in the range [lower, upper] and x is not in\n",
        "nums.\n",
        "\n",
        "Return the shortest sorted list of ranges that exactly covers all the missing\n",
        "numbers. That is, no element of nums is included in any of the ranges, and each\n",
        "missing number is covered by one of the ranges.\n",
        "\n",
        "Example 1:\n",
        "Input: nums = [0,1,3,50,75], lower = 0, upper = 99\n",
        "Output: [[2,2],[4,49],[51,74],[76,99]]\n",
        "\n",
        "Explanation: The ranges are:\n",
        "[2,2]\n",
        "[4,49]\n",
        "[51,74]\n",
        "[76,99]"
      ],
      "metadata": {
        "id": "FUtiqNAcz1_8"
      }
    },
    {
      "cell_type": "code",
      "source": [
        "def missing_numbers(nums,lower,upper):\n",
        "  ranges=[]\n",
        "  for num in range(lower, upper+1):\n",
        "    if num not in nums:\n",
        "      if ranges and ranges[-1][1]==num-1:\n",
        "        ranges[-1][1]=num\n",
        "      else:\n",
        "        ranges.append([num,num])\n",
        "    ranges.sort()\n",
        "  return ranges"
      ],
      "metadata": {
        "id": "enNXvSTpz2in"
      },
      "execution_count": null,
      "outputs": []
    },
    {
      "cell_type": "code",
      "source": [
        "nums = [0, 1, 3, 50, 75]\n",
        "lower = 0\n",
        "upper = 99\n",
        "\n",
        "ranges = missing_numbers(nums, lower, upper)\n",
        "\n",
        "print(ranges)"
      ],
      "metadata": {
        "colab": {
          "base_uri": "https://localhost:8080/"
        },
        "id": "V7RzjVGzz3lL",
        "outputId": "97ba692d-3522-48a3-d554-82574c64d60b"
      },
      "execution_count": null,
      "outputs": [
        {
          "output_type": "stream",
          "name": "stdout",
          "text": [
            "[[2, 2], [4, 49], [51, 74], [76, 99]]\n"
          ]
        }
      ]
    },
    {
      "cell_type": "code",
      "source": [],
      "metadata": {
        "id": "LXXekSm0z3qM"
      },
      "execution_count": null,
      "outputs": []
    },
    {
      "cell_type": "markdown",
      "source": [
        "Question 8\n",
        "Given an array of meeting time intervals where intervals[i] = [starti, endi],\n",
        "determine if a person could attend all meetings.\n",
        "\n",
        "Example 1:\n",
        "Input: intervals = [[0,30],[5,10],[15,20]]\n",
        "Output: false"
      ],
      "metadata": {
        "id": "2PPYbHrKz38Q"
      }
    },
    {
      "cell_type": "code",
      "source": [
        "def attend_all_meetings(intervals):\n",
        "  intervals.sort()\n",
        "  current_time=0\n",
        "  for interval in intervals:\n",
        "    if current_time <interval[0]:\n",
        "      current_time=interval[1]\n",
        "    else:\n",
        "      return False\n",
        "    if current_time <interval[-1][1]:\n",
        "      return True\n",
        "    else:\n",
        "      return False\n"
      ],
      "metadata": {
        "id": "IXD9ak4mz66w"
      },
      "execution_count": null,
      "outputs": []
    },
    {
      "cell_type": "code",
      "source": [
        "intervals = [[5,10],[15,20],[0,30]] \n",
        "attend_all_meetings(intervals)"
      ],
      "metadata": {
        "colab": {
          "base_uri": "https://localhost:8080/"
        },
        "id": "9a8UPds8f97K",
        "outputId": "86d29572-fdd8-4d7b-fb9b-5f9f75fef1e9"
      },
      "execution_count": null,
      "outputs": [
        {
          "output_type": "execute_result",
          "data": {
            "text/plain": [
              "False"
            ]
          },
          "metadata": {},
          "execution_count": 32
        }
      ]
    },
    {
      "cell_type": "code",
      "source": [],
      "metadata": {
        "id": "3WzQqNfgf1g-"
      },
      "execution_count": null,
      "outputs": []
    }
  ]
}