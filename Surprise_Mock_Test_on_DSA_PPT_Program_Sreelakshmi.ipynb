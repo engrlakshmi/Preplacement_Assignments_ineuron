{
  "nbformat": 4,
  "nbformat_minor": 0,
  "metadata": {
    "colab": {
      "provenance": []
    },
    "kernelspec": {
      "name": "python3",
      "display_name": "Python 3"
    },
    "language_info": {
      "name": "python"
    }
  },
  "cells": [
    {
      "cell_type": "code",
      "source": [],
      "metadata": {
        "id": "xUsUxNXg493q"
      },
      "execution_count": null,
      "outputs": []
    },
    {
      "cell_type": "markdown",
      "source": [
        "Move Zeroes\n",
        "Given an integer array nums, move all 0's to the end of it while maintaining the relative order of the non-zero elements.\n",
        "\n",
        "Note that you must do this in-place without making a copy of the array.\n",
        "\n",
        "Example 1:\n",
        "Input: nums = [0,1,0,3,12]\n",
        "Output: [1,3,12,0,0]\n",
        "\n",
        "Example 2:\n",
        "Input: nums = [0]\n",
        "Output: [0]\n",
        "\n",
        "Constraints:\n",
        "a. 1 <= nums.length <= 10^4\n",
        "b. -2^31 <= nums[i] <= 2^31 - 1\n",
        "\n",
        "Note: Create a GitHub file for the solution and add the file link the the answer section below.\n",
        "\n"
      ],
      "metadata": {
        "id": "GZw4OdL14-ce"
      }
    },
    {
      "cell_type": "code",
      "source": [
        "def movezeros(nums):\n",
        "  next_new_zeros=0\n",
        "  for num in nums:\n",
        "    if num!=0:\n",
        "      nums[next_new_zeros]=num#move the non zero elements on the front\n",
        "      next_new_zeros=next_new_zeros+1\n",
        "   #fill the remaining with zeros\n",
        "  while next_new_zeros<len(nums):\n",
        "    nums[next_new_zeros]=0\n",
        "    next_new_zeros=next_new_zeros+1\n",
        "\n",
        "  return nums"
      ],
      "metadata": {
        "id": "ivOqUTSn5DFZ"
      },
      "execution_count": 12,
      "outputs": []
    },
    {
      "cell_type": "code",
      "source": [
        "nums = [0,1,0,3,12]\n",
        "result=movezeros(nums)\n",
        "print(result)"
      ],
      "metadata": {
        "colab": {
          "base_uri": "https://localhost:8080/"
        },
        "id": "0fqWuCDqFdT3",
        "outputId": "a88ebaa6-00c8-4f37-dbcb-a3294e219320"
      },
      "execution_count": 13,
      "outputs": [
        {
          "output_type": "stream",
          "name": "stdout",
          "text": [
            "[1, 3, 12, 0, 0]\n"
          ]
        }
      ]
    },
    {
      "cell_type": "markdown",
      "source": [
        "Given a string s, find the first non-repeating character in it and return its index. If it does not exist, return -1.\n",
        "\n",
        "Example 1:\n",
        "Input: s = \"leetcode\"\n",
        "Output: 0\n",
        "\n",
        "Example 2:\n",
        "Input: s = \"loveleetcode\"\n",
        "Output: 2\n",
        "\n",
        "Example 3:\n",
        "Input: s = \"aabb\"\n",
        "Output: -1\n",
        "\n",
        "Constraints:\n",
        "a. 1 <= s.length <= 10^5\n",
        "b. s consists of only lowercase English letters."
      ],
      "metadata": {
        "id": "p2N3yeUs7WpW"
      }
    },
    {
      "cell_type": "code",
      "source": [
        "def first_nonrepeating_character(s):\n",
        "  d={}\n",
        "  \n",
        "  for ch in s:\n",
        "    d[ch]=d.get(ch,0)+1 #retrieves the value associated with the key\n",
        "  for i, ch in enumerate(s):\n",
        "    if d[ch]==1:\n",
        "      return i\n",
        "  return -1\n",
        "    \n"
      ],
      "metadata": {
        "id": "Meio0kz4DGje"
      },
      "execution_count": 17,
      "outputs": []
    },
    {
      "cell_type": "code",
      "source": [
        "s = \"leetcode\"\n",
        "print(first_nonrepeating_character(s))"
      ],
      "metadata": {
        "colab": {
          "base_uri": "https://localhost:8080/"
        },
        "id": "o0pzXCBoKuR7",
        "outputId": "85872e04-c9b0-4594-ecc5-c61ec2edae55"
      },
      "execution_count": 20,
      "outputs": [
        {
          "output_type": "stream",
          "name": "stdout",
          "text": [
            "0\n"
          ]
        }
      ]
    },
    {
      "cell_type": "code",
      "source": [
        "s=\"loveleetcode\"\n",
        "print(first_nonrepeating_character(s))"
      ],
      "metadata": {
        "colab": {
          "base_uri": "https://localhost:8080/"
        },
        "id": "rQTTz8FONtdM",
        "outputId": "de8b0585-2934-45ed-8598-bfe9813da740"
      },
      "execution_count": 19,
      "outputs": [
        {
          "output_type": "stream",
          "name": "stdout",
          "text": [
            "2\n"
          ]
        }
      ]
    }
  ]
}