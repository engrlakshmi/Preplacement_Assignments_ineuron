{
  "nbformat": 4,
  "nbformat_minor": 0,
  "metadata": {
    "colab": {
      "provenance": []
    },
    "kernelspec": {
      "name": "python3",
      "display_name": "Python 3"
    },
    "language_info": {
      "name": "python"
    }
  },
  "cells": [
    {
      "cell_type": "code",
      "execution_count": null,
      "metadata": {
        "id": "Nqo0Jtq3wEqF"
      },
      "outputs": [],
      "source": []
    },
    {
      "cell_type": "code",
      "source": [],
      "metadata": {
        "id": "qY6tMpU6wJ7e"
      },
      "execution_count": null,
      "outputs": []
    },
    {
      "cell_type": "markdown",
      "source": [
        " *1. Write a Python program to reverse a string without using any built-in string reversal functions.*\n",
        "2. Implement a function to check if a given string is a palindrome.\n",
        "3. Write a program to find the largest element in a given list.\n",
        "4. Implement a function to count the occurrence of each element in a list.\n",
        "5. Write a Python program to find the second largest number in a list.\n",
        "6. Implement a function to remove duplicate elements from a list.\n",
        "7. Write a program to calculate the factorial of a given number.\n",
        "8. Implement a function to check if a given number is prime.\n",
        "9. Write a Python program to sort a list of integers in ascending order.\n",
        "10. Implement a function to find the sum of all numbers in a list.\n",
        "11. Write a program to find the common elements between two lists.\n",
        "12. Implement a function to check if a given string is an anagram of another string.\n",
        "13. Write a Python program to generate all permutations of a given string.\n",
        "14. Implement a function to calculate the Fibonacci sequence up to a given number of terms.\n",
        "15. Write a program to find the median of a list of numbers.\n",
        "16. Implement a function to check if a given list is sorted in non-decreasing order.\n",
        "17. Write a Python program to find the intersection of two lists.\n",
        "18. Implement a function to find the maximum subarray sum in a given list.\n",
        "19. Write a program to remove all vowels from a given string.\n",
        "20. Implement a function to reverse the order of words in a given sentence.\n",
        "21. Write a Python program to check if two strings are anagrams of each other.\n",
        "22. Implement a function to find the first non-repeating character in a string.\n",
        "23. Write a program to find the prime factors of a given number.\n",
        "24. Implement a function to check if a given number is a power of two.\n",
        "25. Write a Python program to merge two sorted lists into a single sorted list.\n",
        "26. Implement a function to find the mode of a list of numbers.\n",
        "27. Write a program to find the greatest common divisor (GCD) of two numbers.\n",
        "28. Implement a function to calculate the square root of a given number.\n",
        "29. Write a Python program to check if a given string is a valid palindrome ignoring non-alphanumeric characters.\n",
        "30. Implement a function to find the minimum element in a rotated sorted list.\n",
        "31. Write a program to find the sum of all even numbers in a list.\n",
        "32. Implement a function to calculate the power of a number using recursion.\n",
        "33. Write a Python program to remove duplicates from a list while preserving the order.\n",
        "34. Implement a function to find the longest common prefix among a list of strings.\n",
        "35. Write a program to check if a given number is a perfect square.\n",
        "36. Implement a function to calculate the product of all elements in a list.\n",
        "37. Write a Python program to reverse the order of words in a sentence while preserving the word order.\n",
        "38. Implement a function to find the missing number in a given list of consecutive numbers.\n",
        "39. Write a program to find the sum of digits of a given number.\n",
        "40. Implement a function to check if a given string is a valid palindrome considering case sensitivity.\n",
        "41. Write a Python program to find the smallest missing positive integer in a list.\n",
        "42. Implement a function to find the longest palindrome substring in a given string.\n",
        "43. Write a program to find the number of occurrences of a given element in a list.\n",
        "44. Implement a function to check if a given number is a perfect number.\n",
        "45. Write a Python program to remove all duplicates from a string.\n",
        "46. Implement a function to find the first missing positive\n"
      ],
      "metadata": {
        "id": "ZvAmum3fwPth"
      }
    },
    {
      "cell_type": "code",
      "source": [],
      "metadata": {
        "id": "8iDIZ732dd9D"
      },
      "execution_count": null,
      "outputs": []
    },
    {
      "cell_type": "code",
      "source": [],
      "metadata": {
        "id": "hHJpazNCwQaW"
      },
      "execution_count": null,
      "outputs": []
    },
    {
      "cell_type": "markdown",
      "source": [
        "1. Write a Python program to reverse a string without using any built-in string reversal functions."
      ],
      "metadata": {
        "id": "f4gV8opHpj4a"
      }
    },
    {
      "cell_type": "code",
      "source": [
        "#function definition\n",
        "def reversestring(s):\n",
        "  s = s[: : -1]\n",
        "  return s\n",
        "#driver code\n",
        "s=input(\"enter a string\")\n",
        "result=reversestring(s)\n",
        "print(\" The reversed string is : {} \". format(result))\n",
        "print(\" \")"
      ],
      "metadata": {
        "id": "oLcHUWePplw-"
      },
      "execution_count": null,
      "outputs": []
    },
    {
      "cell_type": "code",
      "source": [],
      "metadata": {
        "id": "_dmU1vGfqDGy"
      },
      "execution_count": null,
      "outputs": []
    },
    {
      "cell_type": "markdown",
      "source": [
        "2. Implement a function to check if a given string is a palindrome."
      ],
      "metadata": {
        "id": "QalrhOzgrYWI"
      }
    },
    {
      "cell_type": "code",
      "source": [
        "def palindromestring(s):\n",
        "  if s == s[: : -1]:\n",
        "    return \"Palindrome\"\n",
        "  else:\n",
        "    return \"Not Palindrome\"\n",
        "#driver code\n",
        "s=input(\"enter a string: \")\n",
        "result=palindromestring(s)\n",
        "print(\" The reversed string is : {} \". format(result))\n",
        "print(\" \")"
      ],
      "metadata": {
        "id": "fAwlw0cWraVD"
      },
      "execution_count": null,
      "outputs": []
    },
    {
      "cell_type": "markdown",
      "source": [
        "3. Write a program to find the largest element in a given list."
      ],
      "metadata": {
        "id": "INoAPCTesBFm"
      }
    },
    {
      "cell_type": "code",
      "source": [
        "\n",
        "#driver code\n",
        "user_input = input(\"Enter a list of numbers separated by spaces: \")\n",
        "numbers_list = list(map(int, user_input.split())) #map function - convert each input element to the desired data type, such as integers or floats\n",
        "max_value = max(numbers_list)\n",
        "print(\"The largest element in the list {} \". format(max_value))"
      ],
      "metadata": {
        "id": "0AvAO8KysOoR"
      },
      "execution_count": null,
      "outputs": []
    },
    {
      "cell_type": "code",
      "source": [],
      "metadata": {
        "id": "kKHBJyk9vrrZ"
      },
      "execution_count": null,
      "outputs": []
    },
    {
      "cell_type": "markdown",
      "source": [
        "4. Implement a function to count the occurrence of each element in a list."
      ],
      "metadata": {
        "id": "pH5A7ON9v90B"
      }
    },
    {
      "cell_type": "code",
      "source": [
        "#function definition\n",
        "def countoccurence(numbers_list ):\n",
        "  d = {} #empty dictionary to count the occcurrence of element\n",
        "\n",
        "  for number in numbers_list:\n",
        "    if number not in d:\n",
        "      d[number]=1\n",
        "    else:\n",
        "      d[number]=d[number]+1\n",
        "  return d\n",
        "#driver code\n",
        "user_input = input(\"Enter a list of numbers separated by spaces: \")\n",
        "numbers_list = list(map(int, user_input.split()))\n",
        "result= countoccurence(numbers_list )\n",
        "print(result)"
      ],
      "metadata": {
        "id": "W9RsYCztv_-J"
      },
      "execution_count": null,
      "outputs": []
    },
    {
      "cell_type": "markdown",
      "source": [
        "5. Write a Python program to find the second largest number in a list."
      ],
      "metadata": {
        "id": "SsQCepbPziCI"
      }
    },
    {
      "cell_type": "code",
      "source": [
        "#driver code\n",
        "user_input = input(\"Enter a list of numbers separated by spaces: \")\n",
        "numbers_list = list(map(int, user_input.split())) #map function - convert each input element to the desired data type, such as integers or floats\n",
        "sorted_numbers=sorted(numbers_list , reverse = True)\n",
        "print(\"The second largest element in the list: {} \". format(sorted_numbers[1]))\n"
      ],
      "metadata": {
        "id": "zRqDbLTUzjmG"
      },
      "execution_count": null,
      "outputs": []
    },
    {
      "cell_type": "code",
      "source": [
        "l1 =[23,12,34,10]\n",
        "l2 = sorted(l1, reverse = True)\n",
        "l2\n",
        "print(l2[1])"
      ],
      "metadata": {
        "id": "gnyhvKnN0DaU"
      },
      "execution_count": null,
      "outputs": []
    },
    {
      "cell_type": "code",
      "source": [],
      "metadata": {
        "id": "Ac3-IkkL03Wn"
      },
      "execution_count": null,
      "outputs": []
    },
    {
      "cell_type": "markdown",
      "source": [
        "6. Implement a function to remove duplicate elements from a list."
      ],
      "metadata": {
        "id": "Sd6UzDbX2g6z"
      }
    },
    {
      "cell_type": "code",
      "source": [
        "#function defintion\n",
        "def duplicatelements(numbers_list):\n",
        "  s  = set(numbers_list)\n",
        "  return s\n",
        "\n",
        "#driver code\n",
        "user_input = input(\"Enter a list of numbers separated by spaces: \")\n",
        "numbers_list = list(map(int, user_input.split())) #map function - convert each input element to the desired data type, such as integers or floats\n",
        "result= duplicatelements(numbers_list)\n",
        "print(\"The unique elements of ths list: {}\".format(result))"
      ],
      "metadata": {
        "id": "emsFAcR22jOE"
      },
      "execution_count": null,
      "outputs": []
    },
    {
      "cell_type": "code",
      "source": [],
      "metadata": {
        "id": "mgNuMKP_3aN4"
      },
      "execution_count": null,
      "outputs": []
    },
    {
      "cell_type": "markdown",
      "source": [
        "7. Write a program to calculate the factorial of a given number."
      ],
      "metadata": {
        "id": "ISPYzz-W3jZ-"
      }
    },
    {
      "cell_type": "code",
      "source": [
        "# function defintion\n",
        "def factorialnum(n):\n",
        "  if n == 0 or n ==1:\n",
        "    return 1\n",
        "  else:\n",
        "    return n * factorialnum(n-1)\n",
        "\n",
        "\n",
        "# driver code\n",
        "n = int(input(\"Enter the number:\"))\n",
        "result= factorialnum(n)\n",
        "print(\"The factorial of the given numeber is : {}\".format(result))"
      ],
      "metadata": {
        "id": "v3rLRpcD3lik"
      },
      "execution_count": null,
      "outputs": []
    },
    {
      "cell_type": "code",
      "source": [],
      "metadata": {
        "id": "hZFkB3jg5Rxl"
      },
      "execution_count": null,
      "outputs": []
    },
    {
      "cell_type": "markdown",
      "source": [
        "14. Implement a function to calculate the Fibonacci sequence up to a given number of terms."
      ],
      "metadata": {
        "id": "am1TrtQ05SzI"
      }
    },
    {
      "cell_type": "code",
      "source": [
        "# function defintion\n",
        "def Fibonaccisequence(n):\n",
        "  if n <=1:\n",
        "    print(\"No sequence\")\n",
        "    return n\n",
        "  else:\n",
        "    return Fibonaccisequence(n-1) + Fibonaccisequence(n-2)\n",
        "\n",
        "\n",
        "# driver code\n",
        "n = int(input(\"Enter the number:\"))\n",
        "for i in range(n):\n",
        "  print(Fibonaccisequence(i))\n",
        "\n"
      ],
      "metadata": {
        "id": "g4FxzTrd5URK"
      },
      "execution_count": null,
      "outputs": []
    },
    {
      "cell_type": "code",
      "source": [
        "0 1 1 2 3 5 8"
      ],
      "metadata": {
        "id": "tvBFLFW65dg0"
      },
      "execution_count": null,
      "outputs": []
    },
    {
      "cell_type": "markdown",
      "source": [
        "8. Implement a function to check if a given number is prime."
      ],
      "metadata": {
        "id": "IduZPDp2w0Rl"
      }
    },
    {
      "cell_type": "code",
      "source": [
        "def test_prime(n):\n",
        "    if (n==1):\n",
        "        return False\n",
        "    elif (n==2):\n",
        "        return True;\n",
        "    else:\n",
        "        for x in range(2,n):\n",
        "            if(n % x==0):\n",
        "                return False\n",
        "        return True\n",
        "print(test_prime(7))"
      ],
      "metadata": {
        "colab": {
          "base_uri": "https://localhost:8080/"
        },
        "id": "QhfYNaw73H1e",
        "outputId": "db1910ef-fda3-4f7a-a43e-ed8e7e46524d"
      },
      "execution_count": null,
      "outputs": [
        {
          "output_type": "stream",
          "name": "stdout",
          "text": [
            "True\n"
          ]
        }
      ]
    },
    {
      "cell_type": "code",
      "source": [],
      "metadata": {
        "id": "FjjtyV__17wU"
      },
      "execution_count": null,
      "outputs": []
    },
    {
      "cell_type": "markdown",
      "source": [
        "10. Implement a function to find the sum of all numbers in a list.\n"
      ],
      "metadata": {
        "id": "YosnIbkK31cF"
      }
    },
    {
      "cell_type": "code",
      "source": [
        "user_input = input(\"Enter a list of numbers separated by spaces: \")\n",
        "numbers_list =list(map(int,user_input.split()))\n",
        "sum=0\n",
        "for i in numbers_list:\n",
        "  sum = sum+i\n",
        "print(sum)"
      ],
      "metadata": {
        "colab": {
          "base_uri": "https://localhost:8080/"
        },
        "id": "msOf7yoD33nl",
        "outputId": "855e5d91-a39b-460e-e077-0ccfdcefc9ae"
      },
      "execution_count": null,
      "outputs": [
        {
          "output_type": "stream",
          "name": "stdout",
          "text": [
            "Enter a list of numbers separated by spaces: 4 5 6\n",
            "15\n"
          ]
        }
      ]
    },
    {
      "cell_type": "code",
      "source": [
        "#sum of natural numbers\n",
        "def sum_natural_numbers(lst):\n",
        "    sum = (n*(n+1))/2\n",
        "    return sum\n",
        "lst=[1,2,3,4,5]\n",
        "n=len(lst)\n",
        "result=sum_natural_numbers(lst)\n",
        "print('the sum of natural numbers is' ,result)\n",
        "\n"
      ],
      "metadata": {
        "colab": {
          "base_uri": "https://localhost:8080/"
        },
        "id": "vJNECCtd4mph",
        "outputId": "9d755e9d-50ec-4e59-b1c6-d7873f09689b"
      },
      "execution_count": null,
      "outputs": [
        {
          "output_type": "stream",
          "name": "stdout",
          "text": [
            "the sum of natural numbers is 15.0\n"
          ]
        }
      ]
    },
    {
      "cell_type": "code",
      "source": [],
      "metadata": {
        "id": "LAtZF_J28T1B"
      },
      "execution_count": null,
      "outputs": []
    },
    {
      "cell_type": "markdown",
      "source": [
        "11. Write a program to find the common elements between two lists."
      ],
      "metadata": {
        "id": "fFLAUhek9M39"
      }
    },
    {
      "cell_type": "code",
      "source": [
        "l1=[1,2,3,5]\n",
        "l2=[2,3,4,5]\n",
        "l3=[]\n",
        "\n",
        "for i in l1:\n",
        "  if i in l2 and i not in l3:\n",
        "      l3.append(i)\n",
        "print(l3)\n",
        "\n"
      ],
      "metadata": {
        "colab": {
          "base_uri": "https://localhost:8080/"
        },
        "id": "8nKbaa1e9WC5",
        "outputId": "c88e0dca-05fa-4f55-98da-d2ac68d83316"
      },
      "execution_count": null,
      "outputs": [
        {
          "output_type": "stream",
          "name": "stdout",
          "text": [
            "[2, 3, 5]\n"
          ]
        }
      ]
    },
    {
      "cell_type": "code",
      "source": [
        "\n",
        "common_elements = set(l1) & set(l2)\n",
        "print(list(common_elements))"
      ],
      "metadata": {
        "colab": {
          "base_uri": "https://localhost:8080/"
        },
        "id": "MaWrssU1_7fJ",
        "outputId": "1560b30c-a122-4b48-da18-f399810285d4"
      },
      "execution_count": null,
      "outputs": [
        {
          "output_type": "stream",
          "name": "stdout",
          "text": [
            "[2, 3, 5]\n"
          ]
        }
      ]
    },
    {
      "cell_type": "code",
      "source": [
        "# not common\n",
        "all_elements = set(l1) | set(l2)\n",
        "common_elements = set(l1) & set(l2)\n",
        "uncommon_elements = all_elements - common_elements\n",
        "print(list(uncommon_elements))"
      ],
      "metadata": {
        "colab": {
          "base_uri": "https://localhost:8080/"
        },
        "id": "i2nz0GQDAXjm",
        "outputId": "ca223fa9-0f99-4c80-b101-5220e1c16de7"
      },
      "execution_count": null,
      "outputs": [
        {
          "output_type": "stream",
          "name": "stdout",
          "text": [
            "[1, 4]\n"
          ]
        }
      ]
    },
    {
      "cell_type": "code",
      "source": [],
      "metadata": {
        "id": "rTr_-zd3BPpe"
      },
      "execution_count": null,
      "outputs": []
    },
    {
      "cell_type": "markdown",
      "source": [
        "18. Implement a function to find the maximum subarray sum in a given list."
      ],
      "metadata": {
        "id": "E_kkxb1bBQDQ"
      }
    },
    {
      "cell_type": "code",
      "source": [
        "#function defintion\n",
        "def maxsubarraysum(l1):\n",
        "  #intialize max_sum to negative infinity\n",
        "  max_sum = float('-inf')\n",
        "  current_sum = 0\n",
        "  for i in l1:#1\n",
        "    current_sum= max(i, current_sum + i)\n",
        "    max_sum = max(max_sum, current_sum)\n",
        "  return max_sum\n",
        "\n",
        "#driver code\n",
        "l1=[-2, 1, -3]\n",
        "result = maxsubarraysum(l1)\n",
        "print(result)"
      ],
      "metadata": {
        "colab": {
          "base_uri": "https://localhost:8080/"
        },
        "id": "C2eCfUsEBQoW",
        "outputId": "b56eb080-5c9b-48bb-8adf-c2dc2dec7e7b"
      },
      "execution_count": null,
      "outputs": [
        {
          "output_type": "stream",
          "name": "stdout",
          "text": [
            "1\n"
          ]
        }
      ]
    },
    {
      "cell_type": "code",
      "source": [],
      "metadata": {
        "id": "3tZaJ8yKF1pq"
      },
      "execution_count": null,
      "outputs": []
    },
    {
      "cell_type": "markdown",
      "source": [
        " 19. Write a program to remove all vowels from a given string."
      ],
      "metadata": {
        "id": "nXNqUcWTF2GZ"
      }
    },
    {
      "cell_type": "code",
      "source": [
        "#driver code\n",
        "input_string  = \"remove\"\n",
        "import re\n",
        "result = re.sub(r'[aeiouAEIOU]','$',input_string,count = 0)\n",
        "print(result)\n",
        "#Using regular expressions  - re.sub(pattern, replacement, string, count=0, flags=0)\n",
        "\n"
      ],
      "metadata": {
        "colab": {
          "base_uri": "https://localhost:8080/"
        },
        "id": "uu2VmcjcF47l",
        "outputId": "adbf5bd8-a921-4606-aa9d-7a73b98f9902"
      },
      "execution_count": null,
      "outputs": [
        {
          "output_type": "stream",
          "name": "stdout",
          "text": [
            "r$m$v$\n"
          ]
        }
      ]
    },
    {
      "cell_type": "markdown",
      "source": [
        "20. Implement a function to check if a given string is an anagram of another string"
      ],
      "metadata": {
        "id": "U1zcswTF8p-p"
      }
    },
    {
      "cell_type": "code",
      "source": [
        "\n",
        "#function defintion\n",
        "def StringAnagram(input_string_1,input_string_2):\n",
        "  input_string_1.lower()\n",
        "  input_string_2.lower()\n",
        "  sorted_string_1 = sorted(input_string_1)\n",
        "  sorted_string_2 = sorted(input_string_2)\n",
        "  if sorted_string_1 == sorted_string_2:\n",
        "    return \"String is anagram of another string\"\n",
        "  else:\n",
        "    return \"String is not an anagram of another string\"\n",
        "#driver code\n",
        "input_string_1 = input(\" enter the first string\")\n",
        "input_string_2 = input(\" enter the second string\")\n",
        "result=StringAnagram(input_string_1,input_string_2)\n",
        "print(result)\n"
      ],
      "metadata": {
        "colab": {
          "base_uri": "https://localhost:8080/"
        },
        "id": "YixE8W8A8svS",
        "outputId": "d6ae5cea-8e46-4327-b32f-0d80266784bf"
      },
      "execution_count": null,
      "outputs": [
        {
          "output_type": "stream",
          "name": "stdout",
          "text": [
            " enter the first stringhome\n",
            " enter the second stringhouse\n",
            "String is not an anagram of another string\n"
          ]
        }
      ]
    },
    {
      "cell_type": "code",
      "source": [
        "from collections import Counter\n",
        "\n",
        "\n",
        "def check(s1, s2):\n",
        "    # printing counter\n",
        "    print(Counter(s1))\n",
        "    print(Counter(s2))\n",
        "    # implementing counter function\n",
        "    if Counter(s1) == Counter(s2):\n",
        "        print(\"The strings are anagrams.\")\n",
        "    else:\n",
        "        print(\"The strings aren't anagrams.\")\n",
        "\n",
        "\n",
        "# driver code\n",
        "s1 = \"Listen\"\n",
        "s2 = \"silent\"\n",
        "check(s1.lower(), s2.lower())"
      ],
      "metadata": {
        "colab": {
          "base_uri": "https://localhost:8080/"
        },
        "id": "aHuxgwpyACwD",
        "outputId": "9754d054-72e0-4a11-9fb7-c74491291e60"
      },
      "execution_count": null,
      "outputs": [
        {
          "output_type": "stream",
          "name": "stdout",
          "text": [
            "Counter({'l': 1, 'i': 1, 's': 1, 't': 1, 'e': 1, 'n': 1})\n",
            "Counter({'s': 1, 'i': 1, 'l': 1, 'e': 1, 'n': 1, 't': 1})\n",
            "The strings are anagrams.\n"
          ]
        }
      ]
    },
    {
      "cell_type": "code",
      "source": [],
      "metadata": {
        "id": "_BdDQhrbAcRS"
      },
      "execution_count": null,
      "outputs": []
    },
    {
      "cell_type": "markdown",
      "source": [],
      "metadata": {
        "id": "cronBODIAcuc"
      }
    },
    {
      "cell_type": "markdown",
      "source": [
        "\n",
        "21. Write a Python program to generate all permutations of a given string.\n"
      ],
      "metadata": {
        "id": "DNw0U4VjAdKv"
      }
    },
    {
      "cell_type": "code",
      "source": [
        "from itertools import permutations\n",
        "words =[''.join(p) for p in permutations('sun')] # sun =  s, u, n, 'sun','snu This part uses the join method of a string to concatenate the elements of the string list (which are characters) into a single string. The empty string \"\" is used as a separator, meaning that no characters will be inserted between the joined elements. This effectively merges the characters in the list into a single string.\n",
        "print(words)"
      ],
      "metadata": {
        "colab": {
          "base_uri": "https://localhost:8080/"
        },
        "id": "bK_R1A9xAi9v",
        "outputId": "6c15cdb1-c6cc-4373-dddd-ee28c1eb02f3"
      },
      "execution_count": null,
      "outputs": [
        {
          "output_type": "stream",
          "name": "stdout",
          "text": [
            "['sun', 'snu', 'usn', 'uns', 'nsu', 'nus']\n"
          ]
        }
      ]
    },
    {
      "cell_type": "code",
      "source": [],
      "metadata": {
        "id": "IlYOxXG0HJeL"
      },
      "execution_count": null,
      "outputs": []
    },
    {
      "cell_type": "markdown",
      "source": [
        "22. Write a program to find the median and mode of a list of numbers."
      ],
      "metadata": {
        "id": "qrehFbj_HO13"
      }
    },
    {
      "cell_type": "code",
      "source": [
        "l1=[22,24,56,23,45,20,20,22,22,22]\n",
        "import statistics\n",
        "median=statistics.median(l1)\n",
        "mode = statistics.mode(l1)\n",
        "print(mode)"
      ],
      "metadata": {
        "colab": {
          "base_uri": "https://localhost:8080/"
        },
        "id": "pDQe6z3QHR1b",
        "outputId": "caaf2f67-6c1c-4f68-d085-837ba1f9f55b"
      },
      "execution_count": null,
      "outputs": [
        {
          "output_type": "stream",
          "name": "stdout",
          "text": [
            "22\n"
          ]
        }
      ]
    },
    {
      "cell_type": "code",
      "source": [],
      "metadata": {
        "id": "BkGREV-ZIOYr"
      },
      "execution_count": null,
      "outputs": []
    },
    {
      "cell_type": "markdown",
      "source": [
        "23. Implement a function to find the first non-repeating character in a string."
      ],
      "metadata": {
        "id": "mLFx1VaMJMK1"
      }
    },
    {
      "cell_type": "code",
      "source": [
        "from collections import Counter\n",
        "\n",
        "\n",
        "def checknonrepeating(s1):\n",
        "    # printing counter\n",
        "    #s2 = sorted(s1)\n",
        "    s2 = Counter(s1)\n",
        "    d ={}\n",
        "    for i in s2:\n",
        "      if i in d:\n",
        "        d[i] = d[i+1]\n",
        "      else:\n",
        "        d[i] = 1\n",
        "    for i in s2:\n",
        "      if d[i] == 1:\n",
        "        return i\n",
        "\n",
        "\n",
        "\n",
        "\n",
        "# driver code\n",
        "s1 = \"missing\"\n",
        "\n",
        "checknonrepeating(s1.lower())"
      ],
      "metadata": {
        "colab": {
          "base_uri": "https://localhost:8080/",
          "height": 35
        },
        "id": "-HtRPjcgJcYQ",
        "outputId": "91d48637-79b5-441c-fb87-01ca116dff94"
      },
      "execution_count": null,
      "outputs": [
        {
          "output_type": "execute_result",
          "data": {
            "text/plain": [
              "'m'"
            ],
            "application/vnd.google.colaboratory.intrinsic+json": {
              "type": "string"
            }
          },
          "metadata": {},
          "execution_count": 29
        }
      ]
    },
    {
      "cell_type": "code",
      "source": [
        "from collections import Counter\n",
        "def find_first_non_repeating(s):\n",
        "  char_count = Counter(s)\n",
        "  for char in s:\n",
        "    if char_count[char] == 1:\n",
        "      return char\n",
        "  return None\n",
        "s = \"missing\"\n",
        "\n",
        "find_first_non_repeating(s)\n",
        "\n"
      ],
      "metadata": {
        "colab": {
          "base_uri": "https://localhost:8080/",
          "height": 35
        },
        "id": "WQg5iOjOOvZr",
        "outputId": "30128d0a-f5c5-4dfd-ad7a-dcdac5929e06"
      },
      "execution_count": null,
      "outputs": [
        {
          "output_type": "execute_result",
          "data": {
            "text/plain": [
              "'m'"
            ],
            "application/vnd.google.colaboratory.intrinsic+json": {
              "type": "string"
            }
          },
          "metadata": {},
          "execution_count": 31
        }
      ]
    },
    {
      "cell_type": "code",
      "source": [],
      "metadata": {
        "id": "cErNUSD4P5OK"
      },
      "execution_count": null,
      "outputs": []
    },
    {
      "cell_type": "markdown",
      "source": [
        " 24. Write a program to find the prime factors of a given number."
      ],
      "metadata": {
        "id": "FWlQ87FwP54M"
      }
    },
    {
      "cell_type": "code",
      "source": [
        "from sympy import primefactors\n",
        "\n",
        "def prime_factors(n):\n",
        "    return primefactors(n)\n",
        "\n",
        "num = int(input(\"Enter a number: \"))\n",
        "factors = prime_factors(num)\n",
        "\n",
        "print(\"Prime factors are:\", factors)\n",
        "\n",
        "\n"
      ],
      "metadata": {
        "colab": {
          "base_uri": "https://localhost:8080/"
        },
        "id": "BnNx_tyrP8bs",
        "outputId": "1188a3f3-2165-45fd-b499-08eaa4ede671"
      },
      "execution_count": null,
      "outputs": [
        {
          "output_type": "stream",
          "name": "stdout",
          "text": [
            "Enter a number: 20\n",
            "Prime factors are: [2, 5]\n"
          ]
        }
      ]
    },
    {
      "cell_type": "markdown",
      "source": [
        "25. Implement a function to check if a given number is a power of two."
      ],
      "metadata": {
        "id": "XtHE5wp5FLCh"
      }
    },
    {
      "cell_type": "code",
      "source": [
        "#function defintion\n",
        "def power_two(num):\n",
        "    if num == 1:\n",
        "        return True\n",
        "    elif (num % 2 != 0) or (num == 0):\n",
        "        return False\n",
        "\n",
        "    return power_two(num / 2)\n",
        "\n",
        "# Driver code\n",
        "num = int(input(\"Enter a number: \"))\n",
        "result = power_two(num)\n",
        "print(result)\n"
      ],
      "metadata": {
        "colab": {
          "base_uri": "https://localhost:8080/"
        },
        "id": "1l1ZZ9MPFNXf",
        "outputId": "564c9366-39aa-4997-ae18-acef40030144"
      },
      "execution_count": null,
      "outputs": [
        {
          "output_type": "stream",
          "name": "stdout",
          "text": [
            "Enter a number: 8\n",
            "True\n"
          ]
        }
      ]
    },
    {
      "cell_type": "markdown",
      "source": [
        "26. Write a program to find the greatest common divisor (GCD) of two numbers."
      ],
      "metadata": {
        "id": "A6eg1lzYPFJm"
      }
    },
    {
      "cell_type": "code",
      "source": [
        "import math\n",
        "a = 336 # 3 x 3 x 5\n",
        "b = 360 # 2 x 3 x 5\n",
        "GCD = math.gcd(a, b)\n",
        "\n",
        "GCD\n"
      ],
      "metadata": {
        "colab": {
          "base_uri": "https://localhost:8080/"
        },
        "id": "36FCK0VFPHPQ",
        "outputId": "af6ac744-b015-4fb7-ac49-e41430078c17"
      },
      "execution_count": null,
      "outputs": [
        {
          "output_type": "execute_result",
          "data": {
            "text/plain": [
              "24"
            ]
          },
          "metadata": {},
          "execution_count": 18
        }
      ]
    },
    {
      "cell_type": "markdown",
      "source": [
        "27. Implement a function to calculate the square root of a given number."
      ],
      "metadata": {
        "id": "jDzFBiGyRIUX"
      }
    },
    {
      "cell_type": "code",
      "source": [
        "import math\n",
        "#function defintion\n",
        "def square_root(num):\n",
        "  return math.sqrt(num)\n",
        "\n",
        "# Driver code\n",
        "num = int(input(\"Enter a number: \"))\n",
        "result = square_root(num)\n",
        "print(result)\n",
        "\n"
      ],
      "metadata": {
        "colab": {
          "base_uri": "https://localhost:8080/"
        },
        "id": "VoEQ0iZWRJ49",
        "outputId": "c48e3c4a-c6c5-45e8-bd9f-5448e757f648"
      },
      "execution_count": null,
      "outputs": [
        {
          "output_type": "stream",
          "name": "stdout",
          "text": [
            "Enter a number: 51\n",
            "7.14142842854285\n"
          ]
        }
      ]
    },
    {
      "cell_type": "markdown",
      "source": [
        "28. Implement a function to find the minimum element in a rotated sorted list."
      ],
      "metadata": {
        "id": "ZZRQnzCmR_kl"
      }
    },
    {
      "cell_type": "code",
      "source": [
        "def minimumelement_rotatedlist(arr,left,right):\n",
        "  while left < right:\n",
        "    mid =left + (right - left)//2 # ( 5 -0)//2 =2\n",
        "    if arr[mid] > arr[right]: #arr[2] = 11 > 9 #minimum element is at right\n",
        "      left = mid + 1 #2 +1 = 3\n",
        "    else:#4 < 9 #minimum element is at left\n",
        "      right = mid\n",
        "  return arr[left]\n",
        "\n",
        "#driver code\n",
        "arr=[ 10,2,11,7,9,1]\n",
        "left = 0\n",
        "right = len(arr) - 1 #5\n",
        "result = minimumelement_rotatedlist(arr,left,right)\n",
        "result"
      ],
      "metadata": {
        "id": "Zft8lzs8SBE2",
        "colab": {
          "base_uri": "https://localhost:8080/"
        },
        "outputId": "fb270eb5-4b96-404a-eb51-8679c0ed939d"
      },
      "execution_count": null,
      "outputs": [
        {
          "output_type": "execute_result",
          "data": {
            "text/plain": [
              "1"
            ]
          },
          "metadata": {},
          "execution_count": 25
        }
      ]
    },
    {
      "cell_type": "code",
      "source": [],
      "metadata": {
        "id": "oxoyrZ67ZZvE"
      },
      "execution_count": null,
      "outputs": []
    },
    {
      "cell_type": "markdown",
      "source": [
        "29. Write a program to find the sum of all even numbers in a list."
      ],
      "metadata": {
        "id": "9NV5uhNPZaUy"
      }
    },
    {
      "cell_type": "code",
      "source": [
        "l1=[ 1, 2, 3, 4, 5, 6, 7, 8, 9, 10]\n",
        "l2 = [num for num in l1 if num%2 ==0]\n",
        "from functools import reduce\n",
        "total = reduce(lambda x,y : x+y, l2)\n",
        "print(total)\n"
      ],
      "metadata": {
        "colab": {
          "base_uri": "https://localhost:8080/"
        },
        "id": "oX6O6G8DZcyv",
        "outputId": "e30a76bd-7daa-446c-df5a-1a6d0c795b3d"
      },
      "execution_count": null,
      "outputs": [
        {
          "output_type": "stream",
          "name": "stdout",
          "text": [
            "30\n"
          ]
        }
      ]
    },
    {
      "cell_type": "code",
      "source": [
        "def sum_of_even_numbers(numbers):\n",
        "    even_sum = sum([num for num in numbers if num % 2 == 0])\n",
        "    return even_sum\n",
        "\n",
        "# Test\n",
        "numbers_list = [1, 2, 3, 4, 5, 6, 7, 8, 9, 10]\n",
        "result = sum_of_even_numbers(numbers_list)\n",
        "print(\"Sum of even numbers:\", result)\n"
      ],
      "metadata": {
        "colab": {
          "base_uri": "https://localhost:8080/"
        },
        "id": "_ymniZCtbRVk",
        "outputId": "a4f8be84-0c52-4ad3-be42-a7fcd07754ec"
      },
      "execution_count": null,
      "outputs": [
        {
          "output_type": "stream",
          "name": "stdout",
          "text": [
            "Sum of even numbers: 30\n"
          ]
        }
      ]
    },
    {
      "cell_type": "code",
      "source": [],
      "metadata": {
        "id": "y3U1z1p-KcwU"
      },
      "execution_count": null,
      "outputs": []
    },
    {
      "cell_type": "markdown",
      "source": [
        "30. Implement a function to calculate the power of a number using recursion."
      ],
      "metadata": {
        "id": "ou6a5x_9KgFB"
      }
    },
    {
      "cell_type": "code",
      "source": [
        "#Divide and conquer\n",
        "def numberpower(a,n):\n",
        "  #small problem\n",
        "  if n == 0:\n",
        "    return 1\n",
        "  elif n < 0:\n",
        "    a = 1 /a\n",
        "    n =-n\n",
        "    b = numberpower(a,n)\n",
        "    result =  b * b\n",
        "  if n ==1:\n",
        "    return a\n",
        "  else:\n",
        "    #big problem - divide and conquer\n",
        "    mid = n//2\n",
        "    b = numberpower(a,mid)\n",
        "    result =  b * b\n",
        "  if n%2 == 0:\n",
        "    return result\n",
        "  else:\n",
        "    return result * a\n",
        "\n",
        "  #big problem\n",
        "\n",
        "\n",
        "#driver code\n",
        "a = -2\n",
        "n = 3\n",
        "result=numberpower(a,n)\n",
        "print(result)\n"
      ],
      "metadata": {
        "colab": {
          "base_uri": "https://localhost:8080/"
        },
        "id": "KqNIwsLSKg41",
        "outputId": "57185688-0be7-400e-db01-d287f2be331b"
      },
      "execution_count": null,
      "outputs": [
        {
          "output_type": "stream",
          "name": "stdout",
          "text": [
            "-8\n"
          ]
        }
      ]
    },
    {
      "cell_type": "code",
      "source": [],
      "metadata": {
        "id": "miCiWtt6MIiS"
      },
      "execution_count": null,
      "outputs": []
    },
    {
      "cell_type": "markdown",
      "source": [
        "31. Write a Python program to remove duplicates from a list while preserving the order."
      ],
      "metadata": {
        "id": "ljMnTRQxNvxP"
      }
    },
    {
      "cell_type": "code",
      "source": [
        "l1 =[ 2,2,2,1,3,4,4]\n",
        "unique_element_list=[]\n",
        "for element in l1:\n",
        "  if element not in unique_element_list:\n",
        "    unique_element_list.append(element)\n",
        "print(unique_element_list)"
      ],
      "metadata": {
        "colab": {
          "base_uri": "https://localhost:8080/"
        },
        "id": "5433rBhxNyK3",
        "outputId": "62145263-978d-4a7f-c9a7-424992e475be"
      },
      "execution_count": null,
      "outputs": [
        {
          "output_type": "stream",
          "name": "stdout",
          "text": [
            "[2, 1, 3, 4]\n"
          ]
        }
      ]
    },
    {
      "cell_type": "code",
      "source": [],
      "metadata": {
        "id": "veSLVAfiN_8u"
      },
      "execution_count": null,
      "outputs": []
    },
    {
      "cell_type": "markdown",
      "source": [
        "32. Implement a function to find the longest common prefix among a list of strings."
      ],
      "metadata": {
        "id": "wzlzIfsYPXeF"
      }
    },
    {
      "cell_type": "code",
      "source": [
        "strs =['flow','flower','flourish','flew']\n",
        "def longestCommonPrefix(strs):\n",
        "    if not strs:\n",
        "        return \"\"\n",
        "    min_s = min(strs)\n",
        "    max_s = max(strs)\n",
        "    if not min_s:\n",
        "        return \"\"\n",
        "    for i in range(len(min_s)):\n",
        "        if max_s[i] != min_s[i]:\n",
        "            return max_s[:i]\n",
        "    return min_s[:]\n",
        "result=longestCommonPrefix(strs)\n",
        "result\n"
      ],
      "metadata": {
        "colab": {
          "base_uri": "https://localhost:8080/",
          "height": 35
        },
        "id": "0LQI_N5UPZvU",
        "outputId": "f183f7c0-8d99-4b39-dc96-508535397e1b"
      },
      "execution_count": null,
      "outputs": [
        {
          "output_type": "execute_result",
          "data": {
            "text/plain": [
              "'fl'"
            ],
            "application/vnd.google.colaboratory.intrinsic+json": {
              "type": "string"
            }
          },
          "metadata": {},
          "execution_count": 23
        }
      ]
    },
    {
      "cell_type": "markdown",
      "source": [
        "33. Write a program to check if a given number is a perfect square."
      ],
      "metadata": {
        "id": "YQTJpCTaWeqe"
      }
    },
    {
      "cell_type": "code",
      "source": [
        "import math\n",
        "#function defintion\n",
        "def perfect_sq(num):\n",
        "  if num < 0:\n",
        "    return False\n",
        "  sqrt_num =int(num **0.5)\n",
        "  return sqrt_num * sqrt_num == num\n",
        "\n",
        "# Driver code\n",
        "num = int(input(\"Enter a number: \"))\n",
        "result = perfect_sq(num)\n",
        "print(result)"
      ],
      "metadata": {
        "colab": {
          "base_uri": "https://localhost:8080/"
        },
        "id": "rTKCWDTlWhC_",
        "outputId": "6582416d-68ff-4e55-9b09-007ca64742ac"
      },
      "execution_count": null,
      "outputs": [
        {
          "output_type": "stream",
          "name": "stdout",
          "text": [
            "Enter a number: 25\n",
            "True\n"
          ]
        }
      ]
    },
    {
      "cell_type": "code",
      "source": [],
      "metadata": {
        "id": "LZxFpGQ6Y5YD"
      },
      "execution_count": null,
      "outputs": []
    },
    {
      "cell_type": "markdown",
      "source": [
        "36. Implement a function to calculate the product of all elements in a list."
      ],
      "metadata": {
        "id": "wdlgFIMdY5l8"
      }
    },
    {
      "cell_type": "code",
      "source": [
        "import math\n",
        "#function defintion\n",
        "def productelement(numbers_list):\n",
        "  prod = 1\n",
        "  for i in numbers_list:\n",
        "    prod = prod * i\n",
        "  return prod\n",
        "\n",
        "# Driver code\n",
        "num = input('Enter the numbers seperated by space: ')\n",
        "numbers_list =list(map(int,num.split()))\n",
        "result = productelement(numbers_list)\n",
        "print('The product of the elements is' , result)"
      ],
      "metadata": {
        "colab": {
          "base_uri": "https://localhost:8080/"
        },
        "id": "YBio5hq3Y8rJ",
        "outputId": "2a9e86d7-f024-4640-eba5-19d0cffc2221"
      },
      "execution_count": null,
      "outputs": [
        {
          "output_type": "stream",
          "name": "stdout",
          "text": [
            "Enter the numbers seperated by space: 1 4 5\n",
            "The product of the elements is 20\n"
          ]
        }
      ]
    },
    {
      "cell_type": "markdown",
      "source": [
        "37. Write a Python program to reverse the order of words in a sentence while preserving the word order."
      ],
      "metadata": {
        "id": "cy8OBR5narE4"
      }
    },
    {
      "cell_type": "code",
      "source": [
        "sentence = \"Hello Welcome to Python Programming\"\n",
        "reversed_sentence = \" \"\n",
        "new=sentence.split() #\n",
        "for word in new:\n",
        "  word = word[::-1]\n",
        "  reversed_sentence = reversed_sentence + word + \" \"\n",
        "\n",
        "print(reversed_sentence.rstrip())"
      ],
      "metadata": {
        "colab": {
          "base_uri": "https://localhost:8080/"
        },
        "id": "v7u9Q8FiZmVU",
        "outputId": "bd135611-053a-4aba-b9d8-f8dd8357e718"
      },
      "execution_count": null,
      "outputs": [
        {
          "output_type": "stream",
          "name": "stdout",
          "text": [
            " olleH emocleW ot nohtyP gnimmargorP\n"
          ]
        }
      ]
    },
    {
      "cell_type": "markdown",
      "source": [
        "38. Implement a function to find the missing number in a given list of consecutive numbers."
      ],
      "metadata": {
        "id": "eBbDP0Xydgo8"
      }
    },
    {
      "cell_type": "code",
      "source": [
        "# 1,3\n",
        "#2 is missing\n",
        "#actual sum = 4 --->\n",
        "#expected sum  = 6----> GP\n",
        "#expected sum - actual sum =2 ---> missing number\n",
        "l1 =[1,5,7]\n",
        "actual_sum = sum(l1)\n",
        "#sum = (n*(n+1))/2\n",
        "n = len(l1)+1\n",
        "expected_sum = (n) * (l1[0] + l1[-1]) // 2 # sum of consecutive numbers = n/2 *(first number + last number)\n",
        "missing_num = expected_sum - actual_sum\n",
        "print(missing_num)"
      ],
      "metadata": {
        "colab": {
          "base_uri": "https://localhost:8080/"
        },
        "id": "DSwNCfTrdl2d",
        "outputId": "fd8d2cc0-f377-4468-9af3-7ca71435fc8d"
      },
      "execution_count": null,
      "outputs": [
        {
          "output_type": "stream",
          "name": "stdout",
          "text": [
            "3\n"
          ]
        }
      ]
    },
    {
      "cell_type": "markdown",
      "source": [
        "39. Write a program to find the sum of digits of a given number."
      ],
      "metadata": {
        "id": "PYcDFiEihp8f"
      }
    },
    {
      "cell_type": "code",
      "source": [
        "digits = 247\n",
        "\n",
        "#sum  =3 +6 = 9\n",
        "s = str(digits)\n",
        "l1 = list(s)\n",
        "sum = 0\n",
        "for i in l1:\n",
        "  sum = sum + int(i)\n",
        "print(sum)\n"
      ],
      "metadata": {
        "colab": {
          "base_uri": "https://localhost:8080/"
        },
        "id": "QEbiFvcXhs_g",
        "outputId": "599837ea-e9af-4c23-9385-939904798011"
      },
      "execution_count": null,
      "outputs": [
        {
          "output_type": "stream",
          "name": "stdout",
          "text": [
            "13\n"
          ]
        }
      ]
    },
    {
      "cell_type": "code",
      "source": [],
      "metadata": {
        "id": "0dBN77yhh4xQ"
      },
      "execution_count": null,
      "outputs": []
    },
    {
      "cell_type": "markdown",
      "source": [
        "40. Implement a function to check if a given string is a valid palindrome considering case sensitivity."
      ],
      "metadata": {
        "id": "MZLz3VDzlWWH"
      }
    },
    {
      "cell_type": "code",
      "source": [
        "def palindromestring(s):\n",
        "  if s == s[: : -1]:\n",
        "    return \"Palindrome\"\n",
        "  else:\n",
        "    return \"Not Palindrome\"\n",
        "#driver code\n",
        "s=input(\"enter a string: \")\n",
        "s = s.lower()\n",
        "result=palindromestring((s))\n",
        "print(\" The reversed string is : {} \". format(result))\n",
        "print(\" \")"
      ],
      "metadata": {
        "colab": {
          "base_uri": "https://localhost:8080/"
        },
        "id": "hD24eJrrlYEW",
        "outputId": "f3541865-1d10-4e6c-b9fe-912ae2b6d196"
      },
      "execution_count": null,
      "outputs": [
        {
          "output_type": "stream",
          "name": "stdout",
          "text": [
            "enter a string: Madam\n",
            " The reversed string is : Palindrome \n",
            " \n"
          ]
        }
      ]
    },
    {
      "cell_type": "markdown",
      "source": [
        "41. Write a Python program to find the smallest missing positive integer in a list."
      ],
      "metadata": {
        "id": "89isw60GmnYZ"
      }
    },
    {
      "cell_type": "code",
      "source": [
        "def smallest_missing_positive(nums):\n",
        "    nums = set(nums)  # Convert the list to a set for faster lookups\n",
        "    i = 1\n",
        "\n",
        "    while i in nums:#The while loop checks if the value of i is present in the set nums. If it is present, it means the positive integer i is not missing, so we increment i by 1 to check the next positive integer.\n",
        "        i += 1\n",
        "\n",
        "    return i\n",
        "\n",
        "# Example usage\n",
        "input_list = [1, 1, 0, -1, -2]\n",
        "result = smallest_missing_positive(input_list)\n",
        "print(f\"The smallest missing positive integer is: {result}\")"
      ],
      "metadata": {
        "colab": {
          "base_uri": "https://localhost:8080/"
        },
        "id": "BTOr4Ek1r180",
        "outputId": "16d99944-e66f-492f-821c-ae2bc9d629df"
      },
      "execution_count": null,
      "outputs": [
        {
          "output_type": "stream",
          "name": "stdout",
          "text": [
            "The smallest missing positive integer is: 2\n"
          ]
        }
      ]
    },
    {
      "cell_type": "markdown",
      "source": [
        "42. Implement a function to find the longest palindrome substring in a given string."
      ],
      "metadata": {
        "id": "lS214ynFt6pm"
      }
    },
    {
      "cell_type": "code",
      "source": [
        "def longest_palindrome_substring(s):\n",
        "    longest = \"\"\n",
        "\n",
        "    for i in range(len(s)):\n",
        "        # Odd-length palindrome\n",
        "        l, r = i, i\n",
        "        while l >= 0 and r < len(s) and s[l] == s[r]:\n",
        "            if r - l + 1 > len(longest):\n",
        "                longest = s[l:r + 1]\n",
        "            l -= 1\n",
        "            r += 1\n",
        "\n",
        "        # Even-length palindrome\n",
        "        l, r = i, i + 1\n",
        "        while l >= 0 and r < len(s) and s[l] == s[r]:\n",
        "            if r - l + 1 > len(longest):\n",
        "                longest = s[l:r + 1]\n",
        "            l -= 1\n",
        "            r += 1\n",
        "\n",
        "    return longest\n",
        "\n",
        "# Example usage\n",
        "input_string = \"babad\"\n",
        "result = longest_palindrome_substring(input_string)\n",
        "print(f\"The longest palindrome substring is: {result}\")\n"
      ],
      "metadata": {
        "colab": {
          "base_uri": "https://localhost:8080/"
        },
        "id": "DoJC89Sit_XI",
        "outputId": "08253c61-732c-4dbd-d744-fbfd05448de6"
      },
      "execution_count": null,
      "outputs": [
        {
          "output_type": "stream",
          "name": "stdout",
          "text": [
            "The longest palindrome substring is: bab\n"
          ]
        }
      ]
    },
    {
      "cell_type": "code",
      "source": [],
      "metadata": {
        "id": "HWtqdIV9wtYe"
      },
      "execution_count": null,
      "outputs": []
    },
    {
      "cell_type": "markdown",
      "source": [
        "43. Implement a function to check if a given number is a perfect number.\n"
      ],
      "metadata": {
        "id": "NNBPvefext5B"
      }
    },
    {
      "cell_type": "code",
      "source": [
        "#Input = 6\n",
        "# divisible by  =1, 2,3\n",
        "#summ =1 +2+ 3 =6\n",
        "sum = 0\n",
        "n = 28\n",
        "for i in range(1, n//2 +1):\n",
        "  if n%i == 0:\n",
        "    sum  =sum +i\n",
        "print(f'The given number {sum}' '' '  is a perfect.')\n"
      ],
      "metadata": {
        "id": "tIUTvOJrxuiu",
        "colab": {
          "base_uri": "https://localhost:8080/"
        },
        "outputId": "77c74048-5eb9-429c-e154-591ac9afb0b2"
      },
      "execution_count": 8,
      "outputs": [
        {
          "output_type": "stream",
          "name": "stdout",
          "text": [
            "The given number 28  is a perfect.\n"
          ]
        }
      ]
    },
    {
      "cell_type": "markdown",
      "source": [
        "44. Write a Python program to remove all duplicates from a string."
      ],
      "metadata": {
        "id": "4kgNUf5zx0qT"
      }
    },
    {
      "cell_type": "code",
      "source": [
        "string  =list('Program')\n",
        "unique_string = []\n",
        "for i in string:\n",
        "  if i not in unique_string:\n",
        "    unique_string.append(i)\n",
        "result =''.join(unique_string)\n",
        "print(f'The unique string is  {result}' )"
      ],
      "metadata": {
        "colab": {
          "base_uri": "https://localhost:8080/"
        },
        "id": "XbV9dVLdiwxk",
        "outputId": "77303364-abf7-4ad1-f867-a2b928ca99bf"
      },
      "execution_count": 22,
      "outputs": [
        {
          "output_type": "stream",
          "name": "stdout",
          "text": [
            "The unique string is  Progam\n"
          ]
        }
      ]
    },
    {
      "cell_type": "markdown",
      "source": [
        "45. Implement a function to find the first missing positive"
      ],
      "metadata": {
        "id": "O7WzsMzix2aR"
      }
    },
    {
      "cell_type": "code",
      "source": [
        "#function definition\n",
        "def missingnumber(l1):\n",
        "  num_set =set(l1)\n",
        "  i = 1\n",
        "  while i in num_set:\n",
        "    i = i+1\n",
        "  return i\n",
        "\n",
        "#driver code\n",
        "l1 =[0 , -1 ,1,3]\n",
        "result =missingnumber(l1)\n",
        "print(f'The first missing positive number is  {result}' )"
      ],
      "metadata": {
        "id": "3ejQli-gxywg",
        "colab": {
          "base_uri": "https://localhost:8080/"
        },
        "outputId": "7c2d6806-dd5b-46f3-98ea-ebc217534e63"
      },
      "execution_count": 29,
      "outputs": [
        {
          "output_type": "stream",
          "name": "stdout",
          "text": [
            "The first missing positive number is  2\n"
          ]
        }
      ]
    }
  ]
}