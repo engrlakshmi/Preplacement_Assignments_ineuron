{
  "nbformat": 4,
  "nbformat_minor": 0,
  "metadata": {
    "colab": {
      "provenance": []
    },
    "kernelspec": {
      "name": "python3",
      "display_name": "Python 3"
    },
    "language_info": {
      "name": "python"
    }
  },
  "cells": [
    {
      "cell_type": "code",
      "execution_count": null,
      "metadata": {
        "id": "515WJ-p7lGgn"
      },
      "outputs": [],
      "source": []
    },
    {
      "cell_type": "markdown",
      "source": [
        "<aside>\n",
        "💡 **Question 1**\n",
        "\n",
        "Given two strings s1 and s2, return *the lowest **ASCII** sum of deleted characters to make two strings equal*.\n",
        "\n",
        "**Example 1:**\n",
        "\n",
        "**Input:** s1 = \"sea\", s2 = \"eat\"\n",
        "\n",
        "**Output:** 231\n",
        "\n",
        "**Explanation:** Deleting \"s\" from \"sea\" adds the ASCII value of \"s\" (115) to the sum.\n",
        "\n",
        "Deleting \"t\" from \"eat\" adds 116 to the sum.\n",
        "\n",
        "At the end, both strings are equal, and 115 + 116 = 231 is the minimum sum possible to achieve this.\n",
        "\n",
        "</aside>"
      ],
      "metadata": {
        "id": "Qu2SJPr7wR9Y"
      }
    },
    {
      "cell_type": "code",
      "source": [],
      "metadata": {
        "id": "Xznd8Z08wV2Y"
      },
      "execution_count": null,
      "outputs": []
    },
    {
      "cell_type": "code",
      "source": [],
      "metadata": {
        "id": "LTDcCtDBxsF8"
      },
      "execution_count": null,
      "outputs": []
    },
    {
      "cell_type": "code",
      "source": [],
      "metadata": {
        "id": "jU8kn6A_xsOD"
      },
      "execution_count": null,
      "outputs": []
    },
    {
      "cell_type": "markdown",
      "source": [
        "<aside>\n",
        "💡 **Question 2**\n",
        "\n",
        "Given a string s containing only three types of characters: '(', ')' and '*', return true *if* s *is **valid***.\n",
        "\n",
        "The following rules define a **valid** string:\n",
        "\n",
        "- Any left parenthesis '(' must have a corresponding right parenthesis ')'.\n",
        "- Any right parenthesis ')' must have a corresponding left parenthesis '('.\n",
        "- Left parenthesis '(' must go before the corresponding right parenthesis ')'.\n",
        "- '*' could be treated as a single right parenthesis ')' or a single left parenthesis '(' or an empty string \"\".\n",
        "\n",
        "**Example 1:**\n",
        "\n",
        "**Input:** s = \"()\"\n",
        "\n",
        "**Output:**\n",
        "\n",
        "true\n",
        "\n",
        "</aside>"
      ],
      "metadata": {
        "id": "TGlsmH5Xxsbc"
      }
    },
    {
      "cell_type": "code",
      "source": [
        "def isValid(s):\n",
        "    stack = []  # Stack to store the opening parentheses '(' and stars '*'\n",
        "\n",
        "    # Iterate through the characters in the string\n",
        "    for char in s:\n",
        "        if char == '(' or char == '*':\n",
        "            stack.append(char)\n",
        "        else:  # Right parenthesis ')'\n",
        "            if len(stack) == 0:\n",
        "                return False\n",
        "            # Pop the topmost element from the stack\n",
        "            stack.pop()\n",
        "    \n",
        "    # Process the remaining opening parentheses and stars in the stack\n",
        "    count = 0  # Count of stars that are used as right parentheses\n",
        "    while len(stack) > 0:\n",
        "        element = stack.pop()\n",
        "        if element == '(':\n",
        "            if count > 0:\n",
        "                count -= 1\n",
        "            else:\n",
        "                return False\n",
        "        else:  # Element is a star '*'\n",
        "            count += 1\n",
        "    \n",
        "    return True\n",
        "\n",
        "    \n"
      ],
      "metadata": {
        "id": "YTazcDbZ7tAy"
      },
      "execution_count": 5,
      "outputs": []
    },
    {
      "cell_type": "code",
      "source": [
        "s=\"()\"\n",
        "result=isvalid(s)\n",
        "result"
      ],
      "metadata": {
        "id": "OFFuM2UOHNSq",
        "colab": {
          "base_uri": "https://localhost:8080/"
        },
        "outputId": "3be10b43-092b-4df0-ad4c-82f641ebcca9"
      },
      "execution_count": 6,
      "outputs": [
        {
          "output_type": "execute_result",
          "data": {
            "text/plain": [
              "False"
            ]
          },
          "metadata": {},
          "execution_count": 6
        }
      ]
    },
    {
      "cell_type": "code",
      "source": [],
      "metadata": {
        "id": "Uhx-AoASHNW9"
      },
      "execution_count": null,
      "outputs": []
    },
    {
      "cell_type": "markdown",
      "source": [
        "<aside>\n",
        "💡 **Question 3**\n",
        "\n",
        "Given two strings word1 and word2, return *the minimum number of **steps** required to make* word1 *and* word2 *the same*.\n",
        "\n",
        "In one **step**, you can delete exactly one character in either string.\n",
        "\n",
        "**Example 1:**\n",
        "\n",
        "**Input:** word1 = \"sea\", word2 = \"eat\"\n",
        "\n",
        "**Output:** 2\n",
        "\n",
        "**Explanation:** You need one step to make \"sea\" to \"ea\" and another step to make \"eat\" to \"ea\".\n",
        "\n",
        "</aside>"
      ],
      "metadata": {
        "id": "CzFJ8tRCKQpz"
      }
    },
    {
      "cell_type": "code",
      "source": [
        "word1 = \"sea\"\n",
        "word2=\"eat\"\n",
        "result=minimumsteps(word1,word2)\n",
        "result"
      ],
      "metadata": {
        "id": "EWecFaqSKRMQ",
        "colab": {
          "base_uri": "https://localhost:8080/"
        },
        "outputId": "38f6a326-cb2f-492b-aa6e-3677ff1f421a"
      },
      "execution_count": 24,
      "outputs": [
        {
          "output_type": "execute_result",
          "data": {
            "text/plain": [
              "2"
            ]
          },
          "metadata": {},
          "execution_count": 24
        }
      ]
    },
    {
      "cell_type": "code",
      "source": [
        "def minimumsteps(word1,word2):\n",
        "  m,n=len(word1),len(word2)\n",
        "  dp=[[0]*(n+1) for i in range(m+1)]\n",
        "  for i in range(m+1):\n",
        "    dp[i][0]=i\n",
        "  for j in range(n+1):\n",
        "    dp[0][j]=j\n",
        "  for i in range(m+1):\n",
        "    for j in range(n+1):\n",
        "      if word1[i-1]==word2[j-1]:\n",
        "        dp[i][j]=dp[i-1][j-1]\n",
        "      else:\n",
        "        dp[i][j] =min(dp[i-1][j],dp[i][j-1])+1\n",
        "  return dp[m][n]"
      ],
      "metadata": {
        "id": "abdwCU-Gw7b5"
      },
      "execution_count": 23,
      "outputs": []
    },
    {
      "cell_type": "code",
      "source": [],
      "metadata": {
        "id": "0FHIlTwJw7gV"
      },
      "execution_count": null,
      "outputs": []
    },
    {
      "cell_type": "code",
      "source": [],
      "metadata": {
        "id": "kVtq2VyHw7kL"
      },
      "execution_count": null,
      "outputs": []
    },
    {
      "cell_type": "markdown",
      "source": [
        "<aside>\n",
        "💡 **Question 4**\n",
        "\n",
        "You need to construct a binary tree from a string consisting of parenthesis and integers.\n",
        "\n",
        "The whole input represents a binary tree. It contains an integer followed by zero, one or two pairs of parenthesis. The integer represents the root's value and a pair of parenthesis contains a child binary tree with the same structure.\n",
        "You always start to construct the **left** child node of the parent first if it exists.\n",
        "\n",
        "</aside>\n",
        "**Input:** s = \"4(2(3)(1))(6(5))\"\n",
        "\n",
        "**Output:** [4,2,6,3,1,5]"
      ],
      "metadata": {
        "id": "8U6x_c0SKR7F"
      }
    },
    {
      "cell_type": "code",
      "source": [
        "s = \"4(2(3)(1))(6(5))\"\n",
        "result=decodestring(s)\n",
        "result"
      ],
      "metadata": {
        "id": "f82vqSi1KXOo"
      },
      "execution_count": null,
      "outputs": []
    },
    {
      "cell_type": "code",
      "source": [
        "\n",
        "def decodestring(s):\n",
        "  stack=[]\n",
        "  for c in s:\n",
        "    if c!='(' and c!=')' :\n",
        "      stack.append(c)\n",
        "    else:\n",
        "      substring=[]\n",
        "      while stack and stack[-1]!='(':\n",
        "        substring.append(stack)\n",
        "     \n",
        "  return stack"
      ],
      "metadata": {
        "id": "DYo9sTDAKXqM"
      },
      "execution_count": 43,
      "outputs": []
    },
    {
      "cell_type": "code",
      "source": [],
      "metadata": {
        "id": "9YFxfiyQKXtg"
      },
      "execution_count": null,
      "outputs": []
    },
    {
      "cell_type": "markdown",
      "source": [
        "<aside>\n",
        "💡 **Question 5**\n",
        "\n",
        "Given an array of characters chars, compress it using the following algorithm:\n",
        "\n",
        "Begin with an empty string s. For each group of **consecutive repeating characters** in chars:\n",
        "\n",
        "- If the group's length is 1, append the character to s.\n",
        "- Otherwise, append the character followed by the group's length.\n",
        "\n",
        "The compressed string s **should not be returned separately**, but instead, be stored **in the input character array chars**. Note that group lengths that are 10 or longer will be split into multiple characters in chars.\n",
        "\n",
        "After you are done **modifying the input array,** return *the new length of the array*.\n",
        "\n",
        "You must write an algorithm that uses only constant extra space.\n",
        "\n",
        "**Example 1:**\n",
        "\n",
        "**Input:** chars = [\"a\",\"a\",\"b\",\"b\",\"c\",\"c\",\"c\"]\n",
        "\n",
        "**Output:** Return 6, and the first 6 characters of the input array should be: [\"a\",\"2\",\"b\",\"2\",\"c\",\"3\"]\n",
        "\n",
        "**Explanation:**\n",
        "\n",
        "The groups are \"aa\", \"bb\", and \"ccc\". This compresses to \"a2b2c3\".\n",
        "\n",
        "</aside>"
      ],
      "metadata": {
        "id": "CBGUiF4iKlvL"
      }
    },
    {
      "cell_type": "code",
      "source": [
        "def compress(chars):\n",
        "    # Initialize pointers\n",
        "    read_ptr = 0  # Pointer to read characters\n",
        "    write_ptr = 0  # Pointer to write compressed characters\n",
        "    \n",
        "    # Iterate through the array\n",
        "    while read_ptr < len(chars):\n",
        "        curr_char = chars[read_ptr]\n",
        "        count = 1  # Count of consecutive repeating characters\n",
        "        \n",
        "        # Count the number of consecutive repeating characters\n",
        "        while read_ptr + 1 < len(chars) and chars[read_ptr + 1] == curr_char:\n",
        "            read_ptr += 1\n",
        "            count += 1\n",
        "        \n",
        "        # Write the compressed character\n",
        "        chars[write_ptr] = curr_char\n",
        "        write_ptr += 1\n",
        "        \n",
        "        # Write the count if it is greater than 1\n",
        "        if count > 1:\n",
        "            count_str = str(count)\n",
        "            for digit in count_str:\n",
        "                chars[write_ptr] = digit\n",
        "                write_ptr += 1\n",
        "        \n",
        "        # Move to the next character\n",
        "        read_ptr += 1\n",
        "    \n",
        "    return write_ptr\n"
      ],
      "metadata": {
        "id": "yU10wxuzKXxs"
      },
      "execution_count": 1,
      "outputs": []
    },
    {
      "cell_type": "code",
      "source": [
        "chars = [\"a\", \"a\", \"b\", \"b\", \"c\", \"c\", \"c\"]\n",
        "new_length = compress(chars)\n",
        "print(new_length)\n",
        "print(chars[:new_length])"
      ],
      "metadata": {
        "id": "uvQ5mS19KxK8",
        "colab": {
          "base_uri": "https://localhost:8080/"
        },
        "outputId": "631f683a-3a51-425d-fdcb-6d32005f73ec"
      },
      "execution_count": 2,
      "outputs": [
        {
          "output_type": "stream",
          "name": "stdout",
          "text": [
            "6\n",
            "['a', '2', 'b', '2', 'c', '3']\n"
          ]
        }
      ]
    },
    {
      "cell_type": "code",
      "source": [],
      "metadata": {
        "id": "QDpMk41uKxOq"
      },
      "execution_count": null,
      "outputs": []
    },
    {
      "cell_type": "markdown",
      "source": [
        "<aside>\n",
        "💡 **Question 7**\n",
        "\n",
        "Given an encoded string, return its decoded string.\n",
        "\n",
        "The encoding rule is: k[encoded_string], where the encoded_string inside the square brackets is being repeated exactly k times. Note that k is guaranteed to be a positive integer.\n",
        "\n",
        "You may assume that the input string is always valid; there are no extra white spaces, square brackets are well-formed, etc. Furthermore, you may assume that the original data does not contain any digits and that digits are only for those repeat numbers, k. For example, there will not be input like 3a or 2[4].\n",
        "\n",
        "The test cases are generated so that the length of the output will never exceed 105.\n",
        "\n",
        "**Example 1:**\n",
        "\n",
        "**Input:** s = \"3[a]2[bc]\"\n",
        "\n",
        "**Output:** \"aaabcbc\"\n"
      ],
      "metadata": {
        "id": "VkAO186IKxZm"
      }
    },
    {
      "cell_type": "code",
      "source": [
        "s = \"3[a]2[bc]\"\n",
        "result=decodestring(s)\n",
        "result"
      ],
      "metadata": {
        "id": "Ejg8ZhVmND8I",
        "colab": {
          "base_uri": "https://localhost:8080/",
          "height": 35
        },
        "outputId": "34fff1b7-d6c1-41cb-bc8f-85f6d16fd52e"
      },
      "execution_count": 40,
      "outputs": [
        {
          "output_type": "execute_result",
          "data": {
            "text/plain": [
              "'a a a b c b c'"
            ],
            "application/vnd.google.colaboratory.intrinsic+json": {
              "type": "string"
            }
          },
          "metadata": {},
          "execution_count": 40
        }
      ]
    },
    {
      "cell_type": "code",
      "source": [
        "def decodestring(s):\n",
        "  stack=[]\n",
        "  for c in s:\n",
        "    if c!=']':\n",
        "      stack.append(c)\n",
        "    else:\n",
        "      substring=[]\n",
        "      while stack and stack[-1]!='[':\n",
        "        substring.append(stack.pop())\n",
        "      stack.pop() #remove'['\n",
        "      reptition_count=[]\n",
        "      while stack and stack[-1].isdigit():\n",
        "        reptition_count.append(stack.pop())\n",
        "        reptition_count=int(' '.join(reptition_count[::-1]))\n",
        "        stack.extend(substring[::-1]*reptition_count)\n",
        "  return ' '.join(stack[:: 1])\n",
        "\n",
        "  \n"
      ],
      "metadata": {
        "id": "sNAztFwSNEcl"
      },
      "execution_count": 39,
      "outputs": []
    },
    {
      "cell_type": "code",
      "source": [],
      "metadata": {
        "id": "-Bf_dxEMNEf3"
      },
      "execution_count": null,
      "outputs": []
    },
    {
      "cell_type": "code",
      "source": [],
      "metadata": {
        "id": "PqDugpk2NExI"
      },
      "execution_count": null,
      "outputs": []
    },
    {
      "cell_type": "markdown",
      "source": [
        "<aside>\n",
        "💡 **Question 8**\n",
        "\n",
        "Given two strings s and goal, return true *if you can swap two letters in* s *so the result is equal to* goal*, otherwise, return* false*.*\n",
        "\n",
        "Swapping letters is defined as taking two indices i and j (0-indexed) such that i != j and swapping the characters at s[i] and s[j].\n",
        "\n",
        "- For example, swapping at indices 0 and 2 in \"abcd\" results in \"cbad\".\n",
        "\n",
        "**Example 1:**\n",
        "\n",
        "**Input:** s = \"ab\", goal = \"ba\"\n",
        "\n",
        "**Output:** true\n",
        "\n",
        "**Explanation:** You can swap s[0] = 'a' and s[1] = 'b' to get \"ba\", which is equal to goal.\n",
        "\n",
        "</aside>"
      ],
      "metadata": {
        "id": "tHfmfkiENE6V"
      }
    },
    {
      "cell_type": "code",
      "source": [
        "s = \"ab\"\n",
        "goal=s[::-1]\n",
        "print(goal)"
      ],
      "metadata": {
        "id": "lTCpNpFINIOG",
        "colab": {
          "base_uri": "https://localhost:8080/"
        },
        "outputId": "fe56fb9e-d14f-4e5e-829c-cac8a2ad5949"
      },
      "execution_count": null,
      "outputs": [
        {
          "output_type": "stream",
          "name": "stdout",
          "text": [
            "ba\n"
          ]
        }
      ]
    }
  ]
}