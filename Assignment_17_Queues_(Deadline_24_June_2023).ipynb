{
  "nbformat": 4,
  "nbformat_minor": 0,
  "metadata": {
    "colab": {
      "provenance": []
    },
    "kernelspec": {
      "name": "python3",
      "display_name": "Python 3"
    },
    "language_info": {
      "name": "python"
    }
  },
  "cells": [
    {
      "cell_type": "code",
      "execution_count": null,
      "metadata": {
        "id": "LiquvMNF08n4"
      },
      "outputs": [],
      "source": []
    },
    {
      "cell_type": "markdown",
      "source": [
        "<aside>\n",
        "💡 **Question 1**\n",
        "\n",
        "Given a string `s`, *find the first non-repeating character in it and return its index*. If it does not exist, return `-1`.\n",
        "\n",
        "</aside>"
      ],
      "metadata": {
        "id": "IjRl42FO1FEF"
      }
    },
    {
      "cell_type": "code",
      "source": [
        "def first_unique_character(s):\n",
        "  char_count={}\n",
        "  for char in s:\n",
        "    if char in char_count:\n",
        "      char_count[char]=+1\n",
        "    else:\n",
        "      char_count[char]=1\n",
        "  for i, char in enumerate(s):\n",
        "    if char_count==i:\n",
        "      return i\n",
        "  return -1\n",
        "\n"
      ],
      "metadata": {
        "id": "JAuM1ysx1IgR"
      },
      "execution_count": 6,
      "outputs": []
    },
    {
      "cell_type": "code",
      "source": [
        "s=\"leetcode\"\n",
        "result=first_unique_character(s)\n",
        "print(result)"
      ],
      "metadata": {
        "colab": {
          "base_uri": "https://localhost:8080/"
        },
        "id": "rKrzJm7f2PYj",
        "outputId": "daaeb1c0-c13a-44d8-c66e-666b946eff33"
      },
      "execution_count": 7,
      "outputs": [
        {
          "output_type": "stream",
          "name": "stdout",
          "text": [
            "-1\n"
          ]
        }
      ]
    },
    {
      "cell_type": "code",
      "source": [],
      "metadata": {
        "id": "gqUDTcHE1lme"
      },
      "execution_count": null,
      "outputs": []
    },
    {
      "cell_type": "markdown",
      "source": [
        "2. Given a **circular integer array** `nums` of length `n`, return *the maximum possible sum of a non-empty **subarray** of* `nums`.\n",
        "\n",
        "A **circular array** means the end of the array connects to the beginning of the array. Formally, the next element of `nums[i]` is `nums[(i + 1) % n]` and the previous element of `nums[i]` is `nums[(i - 1 + n) % n]`.\n",
        "\n",
        "A **subarray** may only include each element of the fixed buffer `nums` at most once. Formally, for a subarray `nums[i], nums[i + 1], ..., nums[j]`, there does not exist `i <= k1`, `k2 <= j` with `k1 % n == k2 % n`."
      ],
      "metadata": {
        "id": "o4piMPPm3Oy2"
      }
    },
    {
      "cell_type": "code",
      "source": [
        "def max_subarray_sum(nums):\n",
        "    # Case 1: Maximum subarray lies entirely within the circular array\n",
        "    max_sum_circular = sum(nums) - min_subarray_sum(nums)\n",
        "\n",
        "    # Case 2: Maximum subarray includes elements from both ends of the circular array\n",
        "    max_sum_non_circular = kadane(nums)\n",
        "\n",
        "    # Case 3: Maximum subarray lies entirely within the non-circular portion of the array\n",
        "    if max_sum_non_circular < 0:\n",
        "        return max_sum_non_circular\n",
        "\n",
        "    # Return the maximum of the three sums\n",
        "    return max(max_sum_circular, max_sum_non_circular)\n",
        "\n",
        "def min_subarray_sum(nums):\n",
        "    # Find the minimum subarray sum using Kadane's algorithm\n",
        "    min_sum = float('inf')\n",
        "    current_sum = 0\n",
        "    for num in nums:\n",
        "        current_sum = min(num, current_sum + num)\n",
        "        min_sum = min(min_sum, current_sum)\n",
        "    return min_sum\n",
        "\n",
        "def kadane(nums):\n",
        "    # Standard Kadane's algorithm to find the maximum subarray sum\n",
        "    max_sum = float('-inf')\n",
        "    current_sum = 0\n",
        "    for num in nums:\n",
        "        current_sum = max(num, current_sum + num)\n",
        "        max_sum = max(max_sum, current_sum)\n",
        "    return max_sum\n"
      ],
      "metadata": {
        "id": "9KByAkjh3V1R"
      },
      "execution_count": 8,
      "outputs": []
    },
    {
      "cell_type": "code",
      "source": [
        "nums = [8, -1, 3, 4]\n",
        "max_sum = max_subarray_sum(nums)\n",
        "print(max_sum)  # Output: 15 (since the maximum subarray sum is [3, 4, 8])\n"
      ],
      "metadata": {
        "colab": {
          "base_uri": "https://localhost:8080/"
        },
        "id": "YjBLRF9k31jI",
        "outputId": "bfd002be-8698-49da-db9d-ec2515afe52a"
      },
      "execution_count": 9,
      "outputs": [
        {
          "output_type": "stream",
          "name": "stdout",
          "text": [
            "15\n"
          ]
        }
      ]
    },
    {
      "cell_type": "code",
      "source": [],
      "metadata": {
        "id": "DhDiGlkW34FZ"
      },
      "execution_count": null,
      "outputs": []
    },
    {
      "cell_type": "markdown",
      "source": [
        "<aside>\n",
        "💡 **Question 3**\n",
        "\n",
        "The school cafeteria offers circular and square sandwiches at lunch break, referred to by numbers `0` and `1` respectively. All students stand in a queue. Each student either prefers square or circular sandwiches.\n",
        "\n",
        "The number of sandwiches in the cafeteria is equal to the number of students. The sandwiches are placed in a **stack**. At each step:\n",
        "\n",
        "- If the student at the front of the queue **prefers** the sandwich on the top of the stack, they will **take it** and leave the queue.\n",
        "- Otherwise, they will **leave it** and go to the queue's end.\n",
        "\n",
        "This continues until none of the queue students want to take the top sandwich and are thus unable to eat.\n",
        "\n",
        "You are given two integer arrays `students` and `sandwiches` where `sandwiches[i]` is the type of the `ith` sandwich in the stack (`i = 0` is the top of the stack) and `students[j]` is the preference of the `jth` student in the initial queue (`j = 0` is the front of the queue). Return *the number of students that are unable to eat.*\n",
        "\n",
        "</aside>"
      ],
      "metadata": {
        "id": "Nw8StHPd36DO"
      }
    },
    {
      "cell_type": "code",
      "source": [
        "def count_students_unable_to_eat(students, sandwiches):\n",
        "    # Initialize a counter to keep track of students unable to eat\n",
        "    unable_to_eat = 0\n",
        "\n",
        "    # Create a queue to represent the students' preferences\n",
        "    queue = students.copy()\n",
        "\n",
        "    # Iterate through the sandwiches\n",
        "    for sandwich in sandwiches:\n",
        "        # Check if the student at the front of the queue can eat the current sandwich\n",
        "        if queue[0] == sandwich:\n",
        "            queue.pop(0)  # Student takes the sandwich\n",
        "            unable_to_eat = 0  # Reset the counter\n",
        "        else:\n",
        "            queue.append(queue.pop(0))  # Move the student to the end of the queue\n",
        "            unable_to_eat += 1  # Increment the counter\n",
        "\n",
        "        # If the counter reaches the length of the queue, no students can eat their preferred sandwiches\n",
        "        if unable_to_eat == len(queue):\n",
        "            break\n",
        "\n",
        "    return unable_to_eat\n"
      ],
      "metadata": {
        "id": "wypqKUe43-85"
      },
      "execution_count": 10,
      "outputs": []
    },
    {
      "cell_type": "code",
      "source": [
        "students = [1,1,0,0]\n",
        "sandwiches = [0,1,0,1]\n",
        "unable_students = count_students_unable_to_eat(students, sandwiches)\n",
        "print(unable_students)  # Output: 0 (since all students can eat their preferred sandwiches)\n"
      ],
      "metadata": {
        "colab": {
          "base_uri": "https://localhost:8080/"
        },
        "id": "gI8GElLX4IYC",
        "outputId": "74f87249-9c9e-4e40-fb33-5daa5abe1ffc"
      },
      "execution_count": 11,
      "outputs": [
        {
          "output_type": "stream",
          "name": "stdout",
          "text": [
            "1\n"
          ]
        }
      ]
    },
    {
      "cell_type": "code",
      "source": [],
      "metadata": {
        "id": "5HU6J5ak4RFR"
      },
      "execution_count": null,
      "outputs": []
    },
    {
      "cell_type": "markdown",
      "source": [
        "<aside>\n",
        "💡 **Question 4**\n",
        "\n",
        "You have a `RecentCounter` class which counts the number of recent requests within a certain time frame.\n",
        "\n",
        "Implement the `RecentCounter` class:\n",
        "\n",
        "- `RecentCounter()` Initializes the counter with zero recent requests.\n",
        "- `int ping(int t)` Adds a new request at time `t`, where `t` represents some time in milliseconds, and returns the number of requests that has happened in the past `3000` milliseconds (including the new request). Specifically, return the number of requests that have happened in the inclusive range `[t - 3000, t]`.\n",
        "\n",
        "It is **guaranteed** that every call to `ping` uses a strictly larger value of `t` than the previous call.\n",
        "\n",
        "</aside>"
      ],
      "metadata": {
        "id": "yWbGFG8A4uaV"
      }
    },
    {
      "cell_type": "code",
      "source": [
        "class RecentCounter:\n",
        "    def __init__(self):\n",
        "        self.requests = []\n",
        "\n",
        "    def ping(self, t: int) -> int:\n",
        "        # Add the new request time to the list\n",
        "        self.requests.append(t)\n",
        "\n",
        "        # Remove the requests that fall outside the time frame [t - 3000, t]\n",
        "        while self.requests[0] < t - 3000:\n",
        "            self.requests.pop(0)\n",
        "\n",
        "        # Return the number of requests within the time frame\n",
        "        return len(self.requests)\n"
      ],
      "metadata": {
        "id": "GadpmBKS4xhp"
      },
      "execution_count": 12,
      "outputs": []
    },
    {
      "cell_type": "code",
      "source": [
        "counter = RecentCounter()\n",
        "print(counter.ping(100))  # Output: 1 (one request within the time frame [100-3000, 100])\n",
        "print(counter.ping(200))  # Output: 2 (two requests within the time frame [200-3000, 200])\n",
        "print(counter.ping(3001)) # Output: 3 (three requests within the time frame [3001-3000, 3001])\n",
        "print(counter.ping(3002)) # Output: 3 (three requests within the time frame [3002-3000, 3002])\n"
      ],
      "metadata": {
        "colab": {
          "base_uri": "https://localhost:8080/"
        },
        "id": "c4-hel7B42ka",
        "outputId": "9f250b13-1988-4f87-98b7-acc0481072ba"
      },
      "execution_count": 13,
      "outputs": [
        {
          "output_type": "stream",
          "name": "stdout",
          "text": [
            "1\n",
            "2\n",
            "3\n",
            "4\n"
          ]
        }
      ]
    },
    {
      "cell_type": "code",
      "source": [],
      "metadata": {
        "id": "2PGE67tW4-EC"
      },
      "execution_count": null,
      "outputs": []
    },
    {
      "cell_type": "markdown",
      "source": [
        "<aside>\n",
        "💡 **Question 5**\n",
        "\n",
        "There are `n` friends that are playing a game. The friends are sitting in a circle and are numbered from `1` to `n` in **clockwise order**. More formally, moving clockwise from the `ith` friend brings you to the `(i+1)th` friend for `1 <= i < n`, and moving clockwise from the `nth` friend brings you to the `1st` friend.\n",
        "\n",
        "The rules of the game are as follows:\n",
        "\n",
        "1. **Start** at the `1st` friend.\n",
        "2. Count the next `k` friends in the clockwise direction **including** the friend you started at. The counting wraps around the circle and may count some friends more than once.\n",
        "3. The last friend you counted leaves the circle and loses the game.\n",
        "4. If there is still more than one friend in the circle, go back to step `2` **starting** from the friend **immediately clockwise** of the friend who just lost and repeat.\n",
        "5. Else, the last friend in the circle wins the game.\n",
        "\n",
        "Given the number of friends, `n`, and an integer `k`, return *the winner of the game*.\n",
        "\n",
        "</aside>"
      ],
      "metadata": {
        "id": "YxvVAdPx5Hyv"
      }
    },
    {
      "cell_type": "code",
      "source": [
        "def find_winner(n, k):\n",
        "    # Create a list to represent the circle of friends\n",
        "    friends = list(range(1, n + 1))\n",
        "\n",
        "    # Start the game at the first friend\n",
        "    current_friend = 0\n",
        "\n",
        "    # Iterate until there is only one friend left in the circle\n",
        "    while len(friends) > 1:\n",
        "        # Count k friends in the clockwise direction\n",
        "        current_friend = (current_friend + k - 1) % len(friends)\n",
        "\n",
        "        # Eliminate the friend from the circle\n",
        "        friends.pop(current_friend)\n",
        "\n",
        "    # Return the winner of the game\n",
        "    return friends[0]\n"
      ],
      "metadata": {
        "id": "E_jcRYLZ5ISj"
      },
      "execution_count": 14,
      "outputs": []
    },
    {
      "cell_type": "code",
      "source": [
        "n = 5\n",
        "k = 2\n",
        "winner = find_winner(n, k)\n",
        "print(winner)  # Output: 3 (since friend 3 wins the game)\n"
      ],
      "metadata": {
        "colab": {
          "base_uri": "https://localhost:8080/"
        },
        "id": "SrDAXbs_5Tkw",
        "outputId": "b1429fd9-223a-4903-fb2b-cc5807775917"
      },
      "execution_count": 15,
      "outputs": [
        {
          "output_type": "stream",
          "name": "stdout",
          "text": [
            "3\n"
          ]
        }
      ]
    },
    {
      "cell_type": "code",
      "source": [],
      "metadata": {
        "id": "PCGANiO65V_Y"
      },
      "execution_count": null,
      "outputs": []
    },
    {
      "cell_type": "markdown",
      "source": [
        "6. You are given an integer array `deck`. There is a deck of cards where every card has a unique integer. The integer on the `ith` card is `deck[i]`.\n",
        "\n",
        "You can order the deck in any order you want. Initially, all the cards start face down (unrevealed) in one deck.\n",
        "\n",
        "You will do the following steps repeatedly until all cards are revealed:\n",
        "\n",
        "1. Take the top card of the deck, reveal it, and take it out of the deck.\n",
        "2. If there are still cards in the deck then put the next top card of the deck at the bottom of the deck.\n",
        "3. If there are still unrevealed cards, go back to step 1. Otherwise, stop.\n",
        "\n",
        "Return *an ordering of the deck that would reveal the cards in increasing order*."
      ],
      "metadata": {
        "id": "cm0o-89M5YQN"
      }
    },
    {
      "cell_type": "code",
      "source": [
        "import collections\n",
        "\n",
        "def reveal_cards_increasing_order(deck):\n",
        "    # Sort the deck in ascending order\n",
        "    deck.sort()\n",
        "\n",
        "    # Initialize a deque to represent the revealed cards\n",
        "    revealed = collections.deque()\n",
        "\n",
        "    # Iterate through the deck in reverse order\n",
        "    for card in reversed(deck):\n",
        "        # Move the previously revealed card to the bottom of the deck (if any)\n",
        "        if revealed:\n",
        "            revealed.appendleft(revealed.pop())\n",
        "\n",
        "        # Place the current card at the top of the deck\n",
        "        revealed.appendleft(card)\n",
        "\n",
        "    # Convert the deque to a list and return the result\n",
        "    return list(revealed)\n"
      ],
      "metadata": {
        "id": "LyMTjMPp5dIT"
      },
      "execution_count": 16,
      "outputs": []
    },
    {
      "cell_type": "code",
      "source": [
        "deck = [17,13,11,2,3,5,7]\n",
        "ordering = reveal_cards_increasing_order(deck)\n",
        "print(ordering)  # Output: [2, 13, 3, 11, 5, 17, 7]\n"
      ],
      "metadata": {
        "colab": {
          "base_uri": "https://localhost:8080/"
        },
        "id": "1yhaIv7F5mro",
        "outputId": "d11a2408-039f-4bb0-f080-0bf399ffe8c5"
      },
      "execution_count": 17,
      "outputs": [
        {
          "output_type": "stream",
          "name": "stdout",
          "text": [
            "[2, 13, 3, 11, 5, 17, 7]\n"
          ]
        }
      ]
    },
    {
      "cell_type": "code",
      "source": [],
      "metadata": {
        "id": "1wtr9ev55qAh"
      },
      "execution_count": null,
      "outputs": []
    },
    {
      "cell_type": "markdown",
      "source": [
        "<aside>\n",
        "💡 **Question 7**\n",
        "\n",
        "Design a queue that supports `push` and `pop` operations in the front, middle, and back.\n",
        "\n",
        "Implement the `FrontMiddleBack` class:\n",
        "\n",
        "- `FrontMiddleBack()` Initializes the queue.\n",
        "- `void pushFront(int val)` Adds `val` to the **front** of the queue.\n",
        "- `void pushMiddle(int val)` Adds `val` to the **middle** of the queue.\n",
        "- `void pushBack(int val)` Adds `val` to the **back** of the queue.\n",
        "- `int popFront()` Removes the **front** element of the queue and returns it. If the queue is empty, return `1`.\n",
        "- `int popMiddle()` Removes the **middle** element of the queue and returns it. If the queue is empty, return `1`.\n",
        "- `int popBack()` Removes the **back** element of the queue and returns it. If the queue is empty, return `1`.\n",
        "</aside>"
      ],
      "metadata": {
        "id": "dxjmKEAw5v-v"
      }
    },
    {
      "cell_type": "code",
      "source": [
        "import collections\n",
        "\n",
        "class FrontMiddleBack:\n",
        "    def __init__(self):\n",
        "        self.left = collections.deque()\n",
        "        self.right = collections.deque()\n",
        "        self.middle = None\n",
        "\n",
        "    def pushFront(self, val: int) -> None:\n",
        "        if self.middle is not None:\n",
        "            self.left.appendleft(self.middle)\n",
        "        self.middle = val\n",
        "        self.left.appendleft(val)\n",
        "\n",
        "    def pushMiddle(self, val: int) -> None:\n",
        "        if self.middle is None:\n",
        "            self.middle = val\n",
        "        elif len(self.left) > len(self.right):\n",
        "            self.right.appendleft(self.middle)\n",
        "            self.middle = val\n",
        "        else:\n",
        "            self.left.append(self.middle)\n",
        "            self.middle = val\n",
        "\n",
        "    def pushBack(self, val: int) -> None:\n",
        "        if self.middle is not None:\n",
        "            self.right.appendleft(self.middle)\n",
        "            self.middle = None\n",
        "        self.right.appendleft(val)\n",
        "\n",
        "    def popFront(self) -> int:\n",
        "        if self.middle is None:\n",
        "            if not self.left:\n",
        "                return -1\n",
        "            return self.left.popleft()\n",
        "        front_val = self.middle\n",
        "        if self.left:\n",
        "            self.middle = self.left.popleft()\n",
        "        else:\n",
        "            self.middle = None\n",
        "        return front_val\n",
        "\n",
        "    def popMiddle(self) -> int:\n",
        "        if self.middle is None:\n",
        "            if not self.left:\n",
        "                return -1\n",
        "            return self.left.pop()\n",
        "        middle_val = self.middle\n",
        "        if len(self.left) > len(self.right):\n",
        "            self.middle = self.left.pop()\n",
        "        else:\n",
        "            self.middle = self.right.popleft()\n",
        "        return middle_val\n",
        "\n",
        "    def popBack(self) -> int:\n",
        "        if self.middle is not None:\n",
        "            back_val = self.middle\n",
        "            self.middle = None\n",
        "        elif self.right:\n",
        "            back_val = self.right.popleft()\n",
        "        elif self.left:\n",
        "            back_val = self.left.pop()\n",
        "        else:\n",
        "            return -1\n",
        "        return back_val\n"
      ],
      "metadata": {
        "id": "eAQmK6z05wt5"
      },
      "execution_count": 18,
      "outputs": []
    },
    {
      "cell_type": "code",
      "source": [
        "queue = FrontMiddleBack()\n",
        "queue.pushFront(1)\n",
        "queue.pushBack(2)\n",
        "queue.pushMiddle(3)\n",
        "queue.pushMiddle(4)\n",
        "print(queue.popFront())   # Output: 1\n",
        "print(queue.popMiddle())  # Output: 3\n",
        "print(queue.popMiddle())  # Output: 4\n",
        "print(queue.popBack())    # Output: 2\n",
        "print(queue.popFront())   # Output: -1 (queue is empty)\n"
      ],
      "metadata": {
        "colab": {
          "base_uri": "https://localhost:8080/"
        },
        "id": "NVc7BjC_6JdC",
        "outputId": "66fb6709-bf1c-433d-afdd-30dec6fbfc13"
      },
      "execution_count": 19,
      "outputs": [
        {
          "output_type": "stream",
          "name": "stdout",
          "text": [
            "4\n",
            "1\n",
            "2\n",
            "1\n",
            "3\n"
          ]
        }
      ]
    },
    {
      "cell_type": "code",
      "source": [],
      "metadata": {
        "id": "urGZ9PCA6Mui"
      },
      "execution_count": null,
      "outputs": []
    },
    {
      "cell_type": "markdown",
      "source": [
        "<aside>\n",
        "💡 **Question 8**\n",
        "\n",
        "For a stream of integers, implement a data structure that checks if the last `k` integers parsed in the stream are **equal** to `value`.\n",
        "\n",
        "Implement the **DataStream** class:\n",
        "\n",
        "- `DataStream(int value, int k)` Initializes the object with an empty integer stream and the two integers `value` and `k`.\n",
        "- `boolean consec(int num)` Adds `num` to the stream of integers. Returns `true` if the last `k` integers are equal to `value`, and `false` otherwise. If there are less than `k` integers, the condition does not hold true, so returns `false`.\n",
        "</aside>"
      ],
      "metadata": {
        "id": "B7Rf3Pzy6SUK"
      }
    },
    {
      "cell_type": "code",
      "source": [
        "class DataStream:\n",
        "    def __init__(self, value: int, k: int):\n",
        "        self.value = value\n",
        "        self.k = k\n",
        "        self.stream = [None] * k  # Circular buffer\n",
        "        self.idx = 0  # Index to keep track of the current position in the circular buffer\n",
        "\n",
        "    def consec(self, num: int) -> bool:\n",
        "        self.stream[self.idx] = num\n",
        "        self.idx = (self.idx + 1) % self.k  # Update the index to move in a circular manner\n",
        "\n",
        "        if None in self.stream:  # Check if there are less than k integers in the stream\n",
        "            return False\n",
        "\n",
        "        return all(val == self.value for val in self.stream)\n",
        "\n"
      ],
      "metadata": {
        "id": "L7-ra4wa6TAI"
      },
      "execution_count": 20,
      "outputs": []
    },
    {
      "cell_type": "code",
      "source": [
        "stream = DataStream(2, 3)\n",
        "print(stream.consec(1))  # Output: False\n",
        "print(stream.consec(2))  # Output: False\n",
        "print(stream.consec(2))  # Output: True\n",
        "print(stream.consec(2))  # Output: True\n",
        "print(stream.consec(3))  # Output: False\n",
        "print(stream.consec(2))  # Output: False\n"
      ],
      "metadata": {
        "colab": {
          "base_uri": "https://localhost:8080/"
        },
        "id": "wCYVBf-t6faJ",
        "outputId": "f4f69eed-5485-4b68-c29e-8e6610a0016f"
      },
      "execution_count": 21,
      "outputs": [
        {
          "output_type": "stream",
          "name": "stdout",
          "text": [
            "False\n",
            "False\n",
            "False\n",
            "True\n",
            "False\n",
            "False\n"
          ]
        }
      ]
    },
    {
      "cell_type": "code",
      "source": [],
      "metadata": {
        "id": "FMq-HaL66hJo"
      },
      "execution_count": null,
      "outputs": []
    }
  ]
}