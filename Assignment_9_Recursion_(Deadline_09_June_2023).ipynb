{
  "nbformat": 4,
  "nbformat_minor": 0,
  "metadata": {
    "colab": {
      "provenance": []
    },
    "kernelspec": {
      "name": "python3",
      "display_name": "Python 3"
    },
    "language_info": {
      "name": "python"
    }
  },
  "cells": [
    {
      "cell_type": "code",
      "execution_count": null,
      "metadata": {
        "id": "-yKO2EAgXNg9"
      },
      "outputs": [],
      "source": []
    },
    {
      "cell_type": "markdown",
      "source": [
        "<aside>\n",
        "💡 **Question 1**\n",
        "\n",
        "Given an integer `n`, return *`true` if it is a power of two. Otherwise, return `false`*.\n",
        "\n",
        "An integer `n` is a power of two, if there exists an integer `x` such that `n == 2x`.\n",
        "\n",
        "**Example 1:**\n",
        "Input: n = 1 \n",
        "\n",
        "Output: true\n",
        "\n",
        "**Example 2:**\n",
        "Input: n = 16 \n",
        "\n",
        "Output: true\n",
        "\n",
        "**Example 3:**\n",
        "Input: n = 3 \n",
        "\n",
        "Output: false\n",
        "\n",
        "</aside>"
      ],
      "metadata": {
        "id": "cgIfZcYrYrPc"
      }
    },
    {
      "cell_type": "code",
      "source": [
        "def isPowerOfTwoRecursive(n):\n",
        "    if n == 1:\n",
        "        return True\n",
        "    elif n < 1 or n % 2 != 0:\n",
        "        return False\n",
        "    else:\n",
        "        return isPowerOfTwoRecursive(n // 2)\n",
        "\n",
        "def isPowerOfTwo(n):\n",
        "    return isPowerOfTwoRecursive(n)\n"
      ],
      "metadata": {
        "id": "-JEBtUSEMcAl"
      },
      "execution_count": 38,
      "outputs": []
    },
    {
      "cell_type": "code",
      "source": [
        "n=1\n",
        "result=isPowerOfTwo(n)\n",
        "result"
      ],
      "metadata": {
        "id": "Mc-tNytyYsMe",
        "colab": {
          "base_uri": "https://localhost:8080/"
        },
        "outputId": "62b2c14c-f75d-4f00-b58d-1f83ad36b39d"
      },
      "execution_count": 39,
      "outputs": [
        {
          "output_type": "execute_result",
          "data": {
            "text/plain": [
              "True"
            ]
          },
          "metadata": {},
          "execution_count": 39
        }
      ]
    },
    {
      "cell_type": "code",
      "source": [],
      "metadata": {
        "id": "11w6eEYjabRD"
      },
      "execution_count": null,
      "outputs": []
    },
    {
      "cell_type": "code",
      "source": [],
      "metadata": {
        "id": "h-VUncybabce"
      },
      "execution_count": null,
      "outputs": []
    },
    {
      "cell_type": "markdown",
      "source": [
        "<aside>\n",
        "💡 **Question 2**\n",
        "\n",
        "Given a number n, find the sum of the first natural numbers.\n",
        "\n",
        "**Example 1:**\n",
        "\n",
        "Input: n = 3 \n",
        "\n",
        "Output: 6\n",
        "\n",
        "**Example 2:**\n",
        "\n",
        "Input  : 5 \n",
        "\n",
        "Output : 15\n",
        "\n",
        "</aside>"
      ],
      "metadata": {
        "id": "YCNhbqChacG5"
      }
    },
    {
      "cell_type": "code",
      "source": [
        "def sumOfNaturalNumbersRecursive(n):\n",
        "    if n == 1:\n",
        "        return 1\n",
        "    else:\n",
        "        return n + sumOfNaturalNumbersRecursive(n - 1)\n",
        "\n",
        "def sumOfNaturalNumbers(n):\n",
        "    return sumOfNaturalNumbersRecursive(n)\n",
        "\n"
      ],
      "metadata": {
        "id": "noYnTggXanH8"
      },
      "execution_count": 40,
      "outputs": []
    },
    {
      "cell_type": "code",
      "source": [
        "result=sumOfNaturalNumbers(3)\n",
        "result"
      ],
      "metadata": {
        "colab": {
          "base_uri": "https://localhost:8080/"
        },
        "id": "utONisa7bVvv",
        "outputId": "d4d742a8-f358-485a-91a6-a2ae7eea4c99"
      },
      "execution_count": 41,
      "outputs": [
        {
          "output_type": "execute_result",
          "data": {
            "text/plain": [
              "6"
            ]
          },
          "metadata": {},
          "execution_count": 41
        }
      ]
    },
    {
      "cell_type": "code",
      "source": [
        "\n",
        "</aside>"
      ],
      "metadata": {
        "colab": {
          "base_uri": "https://localhost:8080/",
          "height": 135
        },
        "id": "oo5Ssuf4LP8D",
        "outputId": "11170258-124a-4fdd-affd-1de4c219ce37"
      },
      "execution_count": null,
      "outputs": [
        {
          "output_type": "error",
          "ename": "SyntaxError",
          "evalue": "ignored",
          "traceback": [
            "\u001b[0;36m  File \u001b[0;32m\"<ipython-input-1-87015ff6d6fd>\"\u001b[0;36m, line \u001b[0;32m2\u001b[0m\n\u001b[0;31m    💡 **Question 3**\u001b[0m\n\u001b[0m    ^\u001b[0m\n\u001b[0;31mSyntaxError\u001b[0m\u001b[0;31m:\u001b[0m invalid character '💡' (U+1F4A1)\n"
          ]
        }
      ]
    },
    {
      "cell_type": "markdown",
      "source": [
        "<aside>\n",
        "💡 **Question 3**\n",
        "\n",
        "****Given a positive integer, N. Find the factorial of N. \n",
        "\n",
        "**Example 1:**\n",
        "\n",
        "Input: N = 5 \n",
        "\n",
        "Output: 120\n",
        "\n",
        "**Example 2:**\n",
        "\n",
        "Input: N = 4\n",
        "\n",
        "Output: 24\n"
      ],
      "metadata": {
        "id": "30asnqmYMezz"
      }
    },
    {
      "cell_type": "code",
      "source": [
        "def fact(N):\n",
        "  if (N== 0) or (N==1):\n",
        "    return 1\n",
        "  else:\n",
        "    return N* fact(N-1)\n",
        "print(fact(5))"
      ],
      "metadata": {
        "id": "ZyeuKkemLP-5",
        "colab": {
          "base_uri": "https://localhost:8080/"
        },
        "outputId": "fde6bd40-00c1-429b-ee40-54e6b5bec028"
      },
      "execution_count": 20,
      "outputs": [
        {
          "output_type": "stream",
          "name": "stdout",
          "text": [
            "120\n"
          ]
        }
      ]
    },
    {
      "cell_type": "code",
      "source": [],
      "metadata": {
        "id": "jBWrZKQVLQBb"
      },
      "execution_count": null,
      "outputs": []
    },
    {
      "cell_type": "code",
      "source": [],
      "metadata": {
        "id": "iLbjkATSMgWl"
      },
      "execution_count": null,
      "outputs": []
    },
    {
      "cell_type": "markdown",
      "source": [],
      "metadata": {
        "id": "zQk_F_IsMgkz"
      }
    },
    {
      "cell_type": "code",
      "source": [],
      "metadata": {
        "id": "KOAajoApMu43"
      },
      "execution_count": null,
      "outputs": []
    },
    {
      "cell_type": "markdown",
      "source": [
        "<aside>\n",
        "💡 **Question 4**\n",
        "\n",
        "Given a number N and a power P, the task is to find the exponent of this number raised to the given power, i.e. N^P.\n",
        "\n",
        "**Example 1 :** \n",
        "\n",
        "Input: N = 5, P = 2\n",
        "\n",
        "Output: 25\n",
        "\n",
        "**Example 2 :**\n",
        "Input: N = 2, P = 5\n",
        "\n",
        "Output: 32\n",
        "\n",
        "</aside>"
      ],
      "metadata": {
        "id": "97mW3ONbMvPF"
      }
    },
    {
      "cell_type": "code",
      "source": [
        "def powerrec(N,P,result):\n",
        "  if P ==0:\n",
        "    return result\n",
        "  else:\n",
        "    return powerrec(N,P-1,result*N)\n",
        "def power(N,P):\n",
        "  return powerrec(N,P,1)"
      ],
      "metadata": {
        "id": "u-fx_XFrMv0p"
      },
      "execution_count": 21,
      "outputs": []
    },
    {
      "cell_type": "code",
      "source": [
        "print(power(5,2))"
      ],
      "metadata": {
        "colab": {
          "base_uri": "https://localhost:8080/"
        },
        "id": "wx_pFIXlBFD1",
        "outputId": "42fc01bd-4780-411c-dac9-9066585148c9"
      },
      "execution_count": 22,
      "outputs": [
        {
          "output_type": "stream",
          "name": "stdout",
          "text": [
            "25\n"
          ]
        }
      ]
    },
    {
      "cell_type": "code",
      "source": [],
      "metadata": {
        "id": "YJUZF2cRMwTU"
      },
      "execution_count": null,
      "outputs": []
    },
    {
      "cell_type": "code",
      "source": [],
      "metadata": {
        "id": "U4zLqPQyMwWa"
      },
      "execution_count": null,
      "outputs": []
    },
    {
      "cell_type": "code",
      "source": [],
      "metadata": {
        "id": "dWHGConQMwZQ"
      },
      "execution_count": null,
      "outputs": []
    },
    {
      "cell_type": "code",
      "source": [],
      "metadata": {
        "id": "Z5gwGK55MwcX"
      },
      "execution_count": null,
      "outputs": []
    },
    {
      "cell_type": "markdown",
      "source": [
        "\n",
        "<aside>\n",
        "💡 **Question 5**\n",
        "\n",
        "Given an array of integers **arr**, the task is to find maximum element of that array using recursion.\n",
        "\n",
        "**Example 1:**\n",
        "\n",
        "Input: arr = {1, 4, 3, -5, -4, 8, 6};\n",
        "Output: 8\n",
        "\n",
        "**Example 2:**\n",
        "\n",
        "Input: arr = {1, 4, 45, 6, 10, -8};\n",
        "Output: 45\n",
        "\n",
        "</aside>"
      ],
      "metadata": {
        "id": "YITB2OuzMwuS"
      }
    },
    {
      "cell_type": "code",
      "source": [
        "def maxElementRecursive(arr, start, end):\n",
        "    if start == end:\n",
        "        return arr[start]\n",
        "    else:\n",
        "        mid = (start + end) // 2\n",
        "        max_left = maxElementRecursive(arr, start, mid)\n",
        "        max_right = maxElementRecursive(arr, mid + 1, end)\n",
        "        return max(max_left, max_right)\n",
        "\n",
        "def maxElement(arr):\n",
        "    return maxElementRecursive(arr, 0, len(arr) - 1)\n",
        "\n"
      ],
      "metadata": {
        "id": "YVpbRwJxM2ib"
      },
      "execution_count": 28,
      "outputs": []
    },
    {
      "cell_type": "code",
      "source": [
        "print(maxElement([1, 4, 3, -5, -4, 8, 6]))"
      ],
      "metadata": {
        "colab": {
          "base_uri": "https://localhost:8080/"
        },
        "id": "8XzvVUYlDFnK",
        "outputId": "cc286c11-1da2-4950-e59d-33db1eaa26f7"
      },
      "execution_count": 30,
      "outputs": [
        {
          "output_type": "stream",
          "name": "stdout",
          "text": [
            "8\n"
          ]
        }
      ]
    },
    {
      "cell_type": "code",
      "source": [],
      "metadata": {
        "id": "90ZUaFbqM3Aq"
      },
      "execution_count": null,
      "outputs": []
    },
    {
      "cell_type": "code",
      "source": [],
      "metadata": {
        "id": "FgD38taqM3Lv"
      },
      "execution_count": null,
      "outputs": []
    },
    {
      "cell_type": "markdown",
      "source": [
        "<aside>\n",
        "💡 **Question 6**\n",
        "\n",
        "Given first term (a), common difference (d) and a integer N of the Arithmetic Progression series, the task is to find Nth term of the series.\n",
        "\n",
        "**Example 1:**\n",
        "\n",
        "Input : a = 2 d = 1 N = 5\n",
        "Output : 6\n",
        "The 5th term of the series is : 6\n",
        "\n",
        "**Example 2:**\n",
        "\n",
        "Input : a = 5 d = 2 N = 10\n",
        "Output : 23\n",
        "The 10th term of the series is : 23\n",
        "\n",
        "</aside>"
      ],
      "metadata": {
        "id": "kNOUekKRM3aF"
      }
    },
    {
      "cell_type": "code",
      "source": [
        "def arith_pro(a,d,N):\n",
        "  if N==1:\n",
        "    return a\n",
        "  else:\n",
        "    return a +d *arith_pro(a,d,N-1)\n",
        "def progression(a,d,N):\n",
        "  return arith_pro(a,d,N)"
      ],
      "metadata": {
        "id": "uutJh2UrPDC8"
      },
      "execution_count": 36,
      "outputs": []
    },
    {
      "cell_type": "code",
      "source": [
        "print(progression(2, 1, 5))  # Output: 6\n",
        "print(progression(5, 2, 10))  # Output: 23"
      ],
      "metadata": {
        "id": "NcdM9AuJPDd-",
        "colab": {
          "base_uri": "https://localhost:8080/"
        },
        "outputId": "357575c2-d727-4507-cd02-810349d9345d"
      },
      "execution_count": 37,
      "outputs": [
        {
          "output_type": "stream",
          "name": "stdout",
          "text": [
            "10\n",
            "5115\n"
          ]
        }
      ]
    },
    {
      "cell_type": "code",
      "source": [],
      "metadata": {
        "id": "-_gcqaX6PDgv"
      },
      "execution_count": null,
      "outputs": []
    },
    {
      "cell_type": "code",
      "source": [],
      "metadata": {
        "id": "5x2WUkVOPDmh"
      },
      "execution_count": null,
      "outputs": []
    },
    {
      "cell_type": "markdown",
      "source": [
        "<aside>\n",
        "💡 **Question 7**\n",
        "\n",
        "Given a string S, the task is to write a program to print all permutations of a given string.\n",
        "\n",
        "**Example 1:**\n",
        "\n",
        "***Input:***\n",
        "\n",
        "*S = “ABC”*\n",
        "\n",
        "***Output:***\n",
        "\n",
        "*“ABC”, “ACB”, “BAC”, “BCA”, “CBA”, “CAB”*\n",
        "\n",
        "**Example 2:**\n",
        "\n",
        "***Input:***\n",
        "\n",
        "*S = “XY”*\n",
        "\n",
        "***Output:***\n",
        "\n",
        "*“XY”, “YX”*\n",
        "\n",
        "</aside>"
      ],
      "metadata": {
        "id": "yIiuBKS1PD3W"
      }
    },
    {
      "cell_type": "code",
      "source": [
        "\n",
        "import itertools\n",
        "def permutations(S):\n",
        "    result=['' . join(perm)  for perm in itertools.permutations(S)] \n",
        "    return result"
      ],
      "metadata": {
        "id": "xY_OYdZNR2Pi"
      },
      "execution_count": 15,
      "outputs": []
    },
    {
      "cell_type": "code",
      "source": [
        "print(permutations(\"ABC\"))"
      ],
      "metadata": {
        "id": "xohbpWTlR2yW",
        "colab": {
          "base_uri": "https://localhost:8080/"
        },
        "outputId": "43b3353a-b7ba-463a-bc11-0d631c651dfe"
      },
      "execution_count": 17,
      "outputs": [
        {
          "output_type": "stream",
          "name": "stdout",
          "text": [
            "['ABC', 'ACB', 'BAC', 'BCA', 'CAB', 'CBA']\n"
          ]
        }
      ]
    },
    {
      "cell_type": "code",
      "source": [],
      "metadata": {
        "id": "3B2tJ-lMR22G"
      },
      "execution_count": null,
      "outputs": []
    },
    {
      "cell_type": "markdown",
      "source": [
        "<aside>\n",
        "💡 **Question 8**\n",
        "\n",
        "Given an array, find a product of all array elements.\n",
        "\n",
        "**Example 1:**\n",
        "\n",
        "Input  : arr[] = {1, 2, 3, 4, 5}\n",
        "Output : 120\n",
        "**Example 2:**\n",
        "\n",
        "Input  : arr[] = {1, 6, 3}\n",
        "Output : 18\n",
        "\n",
        "</aside>"
      ],
      "metadata": {
        "id": "lG5TEwLtR3K2"
      }
    },
    {
      "cell_type": "code",
      "source": [
        "\n",
        "arr= {1, 2, 3, 4, 5} \n",
        "product=1\n",
        "for num in arr:\n",
        "  product=product*num\n",
        "print(product)\n",
        "\n",
        " "
      ],
      "metadata": {
        "colab": {
          "base_uri": "https://localhost:8080/"
        },
        "id": "gigxfHcJR6rk",
        "outputId": "5d251d0d-6915-466a-f9ff-c73552d5c181"
      },
      "execution_count": null,
      "outputs": [
        {
          "output_type": "stream",
          "name": "stdout",
          "text": [
            "120\n"
          ]
        }
      ]
    },
    {
      "cell_type": "code",
      "source": [
        "def productOfArrayRecursive(arr, index, length):\n",
        "    if index == length:\n",
        "        return 1\n",
        "    else:\n",
        "        return arr[index] * productOfArrayRecursive(arr, index + 1, length)\n",
        "\n",
        "def productOfArray(arr):\n",
        "    return productOfArrayRecursive(arr, 0, len(arr))"
      ],
      "metadata": {
        "id": "eTctzqs32pml"
      },
      "execution_count": 18,
      "outputs": []
    },
    {
      "cell_type": "code",
      "source": [
        "print(productOfArray([1, 2, 3, 4, 5]))  # Output: 120\n",
        "print(productOfArray([1, 6, 3]))  # Output: 18"
      ],
      "metadata": {
        "colab": {
          "base_uri": "https://localhost:8080/"
        },
        "id": "0ZAkIb3478Ht",
        "outputId": "22d978c9-c55c-4494-81a9-a13cd489b727"
      },
      "execution_count": 19,
      "outputs": [
        {
          "output_type": "stream",
          "name": "stdout",
          "text": [
            "120\n",
            "18\n"
          ]
        }
      ]
    }
  ]
}