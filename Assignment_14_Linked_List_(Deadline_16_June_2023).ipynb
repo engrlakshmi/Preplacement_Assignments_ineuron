{
  "nbformat": 4,
  "nbformat_minor": 0,
  "metadata": {
    "colab": {
      "provenance": []
    },
    "kernelspec": {
      "name": "python3",
      "display_name": "Python 3"
    },
    "language_info": {
      "name": "python"
    }
  },
  "cells": [
    {
      "cell_type": "code",
      "execution_count": null,
      "metadata": {
        "id": "3dMgh76iCPTg"
      },
      "outputs": [],
      "source": []
    },
    {
      "cell_type": "markdown",
      "source": [
        "<aside>\n",
        "💡 **Question 1**\n",
        "\n",
        "Given a linked list of **N** nodes such that it may contain a loop.\n",
        "\n",
        "A loop here means that the last node of the link list is connected to the node at position X(1-based index). If the link list does not have any loop, X=0.\n",
        "\n",
        "Remove the loop from the linked list, if it is present, i.e. unlink the last node which is forming the loop.\n",
        "\n",
        "</aside>"
      ],
      "metadata": {
        "id": "Dc7xZRUCCyzZ"
      }
    },
    {
      "cell_type": "code",
      "source": [
        "class Node:\n",
        "    def __init__(self, data):\n",
        "        self.data = data\n",
        "        self.next = None\n",
        "def detectAndRemoveLoop(head):\n",
        "    # Step 1: Detect the loop using Floyd's cycle-finding algorithm\n",
        "    slow = head\n",
        "    fast = head\n",
        "\n",
        "    while fast is not None and fast.next is not None:\n",
        "        slow = slow.next\n",
        "        fast = fast.next.next\n",
        "\n",
        "        if slow == fast:\n",
        "            break\n",
        "\n",
        "    # If there is no loop, return the original linked list\n",
        "    if slow != fast:\n",
        "        return head\n",
        "\n",
        "    # Step 2: Find the start of the loop\n",
        "    slow = head\n",
        "    while slow.next != fast.next:\n",
        "        slow = slow.next\n",
        "        fast = fast.next\n",
        "\n",
        "    # Step 3: Remove the loop by setting the next pointer of the last node to None\n",
        "    fast.next = None\n",
        "\n",
        "    return head\n",
        "# Example usage\n",
        "# Create a linked list with a loop: 1 -> 2 -> 3 -> 4 -> 5 -> 6\n",
        "head = Node(1)\n",
        "head.next = Node(2)\n",
        "head.next.next = Node(3)\n",
        "head.next.next.next = Node(4)\n",
        "head.next.next.next.next = Node(5)\n",
        "head.next.next.next.next.next = Node(6)\n",
        "head.next.next.next.next.next.next = head.next.next  # Creating a loop: 6 -> 3\n",
        "\n",
        "# Detect and remove the loop\n",
        "result = detectAndRemoveLoop(head)\n",
        "\n",
        "# Print the updated list\n",
        "current = result\n",
        "while current is not None:\n",
        "    print(current.data, end=\" -> \")\n",
        "    current = current.next\n",
        "print(\"None\")\n"
      ],
      "metadata": {
        "colab": {
          "base_uri": "https://localhost:8080/"
        },
        "id": "mnMF9qMMCx8L",
        "outputId": "9a7fe8d1-10ca-435f-a486-6d2417dc425e"
      },
      "execution_count": null,
      "outputs": [
        {
          "output_type": "stream",
          "name": "stdout",
          "text": [
            "1 -> 2 -> 3 -> 4 -> 5 -> 6 -> None\n"
          ]
        }
      ]
    },
    {
      "cell_type": "code",
      "source": [],
      "metadata": {
        "id": "tXCnkBHGCyFS"
      },
      "execution_count": null,
      "outputs": []
    },
    {
      "cell_type": "markdown",
      "source": [
        "<aside>\n",
        "💡 **Question 2**\n",
        "\n",
        "A number **N** is represented in Linked List such that each digit corresponds to a node in linked list. You need to add 1 to it.\n",
        "\n",
        "</aside>"
      ],
      "metadata": {
        "id": "p9hn-tK0DRS5"
      }
    },
    {
      "cell_type": "code",
      "source": [
        "class Node:\n",
        "    def __init__(self, data):\n",
        "        self.data = data\n",
        "        self.next = None\n",
        "def addOne(head):\n",
        "    # Reverse the linked list\n",
        "    prev = None\n",
        "    current = head\n",
        "\n",
        "    while current is not None:\n",
        "        next_node = current.next\n",
        "        current.next = prev\n",
        "        prev = current\n",
        "        current = next_node\n",
        "\n",
        "    head = prev\n",
        "\n",
        "    # Add 1 to the number\n",
        "    carry = 1\n",
        "    current = head\n",
        "\n",
        "    while current is not None:\n",
        "        current.data += carry\n",
        "        carry = current.data // 10\n",
        "        current.data %= 10\n",
        "\n",
        "        if carry == 0:\n",
        "            break\n",
        "\n",
        "        current = current.next\n",
        "\n",
        "    # If there is still a carry left, create a new node for it\n",
        "    if carry > 0:\n",
        "        new_node = Node(carry)\n",
        "        new_node.next = head\n",
        "        head = new_node\n",
        "\n",
        "    # Reverse the linked list again to restore the original order\n",
        "    prev = None\n",
        "    current = head\n",
        "\n",
        "    while current is not None:\n",
        "        next_node = current.next\n",
        "        current.next = prev\n",
        "        prev = current\n",
        "        current = next_node\n",
        "\n",
        "    head = prev\n",
        "\n",
        "    return head\n",
        "# Example usage\n",
        "# Create the linked list: 1 -> 2 -> 3\n",
        "head = Node(1)\n",
        "head.next = Node(2)\n",
        "head.next.next = Node(3)\n",
        "\n",
        "# Add 1 to the number\n",
        "result = addOne(head)\n",
        "\n",
        "# Print the updated list\n",
        "current = result\n",
        "while current is not None:\n",
        "    print(current.data, end=\" -> \")\n",
        "    current = current.next\n",
        "print(\"None\")\n"
      ],
      "metadata": {
        "colab": {
          "base_uri": "https://localhost:8080/"
        },
        "id": "1G0S0NdjDUMc",
        "outputId": "68a72c9a-2319-4f4a-d665-ef2af371da98"
      },
      "execution_count": null,
      "outputs": [
        {
          "output_type": "stream",
          "name": "stdout",
          "text": [
            "1 -> 2 -> 4 -> None\n"
          ]
        }
      ]
    },
    {
      "cell_type": "markdown",
      "source": [
        "<aside>\n",
        "💡 **Question 3**\n",
        "\n",
        "Given a Linked List of size N, where every node represents a sub-linked-list and contains two pointers:(i) a **next** pointer to the next node,(ii) a **bottom** pointer to a linked list where this node is head.Each of the sub-linked-list is in sorted order.Flatten the Link List such that all the nodes appear in a single level while maintaining the sorted order. **Note:** The flattened list will be printed using the bottom pointer instead of next pointer.\n",
        "\n",
        "</aside>"
      ],
      "metadata": {
        "id": "jWPHJwfXpBKP"
      }
    },
    {
      "cell_type": "code",
      "source": [
        "class Node:\n",
        "    def __init__(self, data):\n",
        "        self.data = data\n",
        "        self.next = None\n",
        "        self.bottom = None\n",
        "\n",
        "def mergeLists(list1, list2):\n",
        "    # Base cases: If either list is empty, return the other list\n",
        "    if list1 is None:\n",
        "        return list2\n",
        "    if list2 is None:\n",
        "        return list1\n",
        "\n",
        "    # Compare the nodes of the two lists and merge them in sorted order\n",
        "    if list1.data < list2.data:\n",
        "        result = list1\n",
        "        result.bottom = mergeLists(list1.bottom, list2)\n",
        "    else:\n",
        "        result = list2\n",
        "        result.bottom = mergeLists(list1, list2.bottom)\n",
        "\n",
        "    return result\n",
        "def flattenLinkedList(head):\n",
        "    # Base case: If the list is empty or has only one node, return the list\n",
        "    if head is None or head.next is None:\n",
        "        return head\n",
        "\n",
        "    # Recursively flatten the remaining list after the current node\n",
        "    head.next = flattenLinkedList(head.next)\n",
        "\n",
        "    # Merge the current list with the flattened list\n",
        "    head = mergeLists(head, head.next)\n",
        "\n",
        "    return head\n",
        "# Example usage\n",
        "# Create the linked list: 5 -> 7 -> 8 -> 30\n",
        "head = Node(5)\n",
        "head.next = Node(7)\n",
        "head.next.next = Node(8)\n",
        "head.next.next.next = Node(30)\n",
        "\n",
        "# Create the sub-linked lists\n",
        "head.bottom = Node(10)\n",
        "head.bottom.bottom = Node(20)\n",
        "head.next.bottom = Node(19)\n",
        "head.next.bottom.bottom = Node(22)\n",
        "head.next.next.bottom = Node(50)\n",
        "head.next.next.bottom.bottom = Node(35)\n",
        "head.next.next.next.bottom = Node(40)\n",
        "head.next.next.next.bottom.bottom = Node(45)\n",
        "\n",
        "# Flatten the linked list\n",
        "result = flattenLinkedList(head)\n",
        "\n",
        "# Print the flattened list using the bottom pointer\n",
        "current = result\n",
        "while current is not None:\n",
        "    print(current.data, end=\" -> \")\n",
        "    current = current.bottom\n",
        "print(\"None\")\n"
      ],
      "metadata": {
        "colab": {
          "base_uri": "https://localhost:8080/"
        },
        "id": "XaYReNo7DUpn",
        "outputId": "036ec4bb-89b2-4190-c1c4-6c51e6b1ac46"
      },
      "execution_count": null,
      "outputs": [
        {
          "output_type": "stream",
          "name": "stdout",
          "text": [
            "5 -> 7 -> 8 -> 10 -> 19 -> 20 -> 22 -> 30 -> 40 -> 45 -> 50 -> 35 -> None\n"
          ]
        }
      ]
    },
    {
      "cell_type": "code",
      "source": [],
      "metadata": {
        "id": "YTMiWv08DUsw"
      },
      "execution_count": null,
      "outputs": []
    },
    {
      "cell_type": "markdown",
      "source": [
        "<aside>\n",
        "💡 **Question 4**\n",
        "\n",
        "You are given a special linked list with **N** nodes where each node has a next pointer pointing to its next node. You are also given **M** random pointers, where you will be given **M** number of pairs denoting two nodes **a** and **b**  **i.e. a->arb = b** (arb is pointer to random node)**.**\n",
        "\n",
        "Construct a copy of the given list. The copy should consist of exactly **N** new nodes, where each new node has its value set to the value of its corresponding original node. Both the next and random pointer of the new nodes should point to new nodes in the copied list such that the pointers in the original list and copied list represent the same list state. None of the pointers in the new list should point to nodes in the original list.\n",
        "\n",
        "For example, if there are two nodes **X** and **Y** in the original list, where **X.arb** **-->** **Y**, then for the corresponding two nodes **x** and **y** in the copied list, **x.arb --> y.**\n",
        "\n",
        "Return the head of the copied linked list.\n",
        "\n",
        "</aside>"
      ],
      "metadata": {
        "id": "oXJrcHCqHmAC"
      }
    },
    {
      "cell_type": "markdown",
      "source": [],
      "metadata": {
        "id": "6tgyfs_nDU1Z"
      }
    },
    {
      "cell_type": "markdown",
      "source": [],
      "metadata": {
        "id": "WA1ejkEd9RW5"
      }
    },
    {
      "cell_type": "code",
      "source": [
        "class Node:\n",
        "    def __init__(self, data):\n",
        "        self.data = data\n",
        "        self.next = None\n",
        "        self.random = None\n",
        "def cloneLinkedList(head):\n",
        "    if head is None:\n",
        "        return None\n",
        "\n",
        "    # Step 1: Create a copy of each node and insert it between the original nodes\n",
        "    current = head\n",
        "    while current:\n",
        "        copied_node = Node(current.data)\n",
        "        copied_node.next = current.next\n",
        "        current.next = copied_node\n",
        "        current = copied_node.next\n",
        "\n",
        "    # Step 2: Assign random pointers to the copied nodes\n",
        "    current = head\n",
        "    while current:\n",
        "        if current.random:\n",
        "            current.next.random = current.random.next\n",
        "        current = current.next.next\n",
        "\n",
        "    # Step 3: Separate the original and copied linked lists\n",
        "    original_head = head\n",
        "    copied_head = head.next\n",
        "    current = copied_head\n",
        "\n",
        "    while current.next:\n",
        "        original_head.next = original_head.next.next\n",
        "        current.next = current.next.next\n",
        "        original_head = original_head.next\n",
        "        current = current.next\n",
        "\n",
        "    original_head.next = None  # Set the next pointer of the last node in the original list to None\n",
        "\n",
        "    return copied_head\n",
        "# Example usage\n",
        "# Create the linked list: 1 -> 2 -> 3 -> 4 -> 5\n",
        "head = Node(1)\n",
        "head.next = Node(2)\n",
        "head.next.next = Node(3)\n",
        "head.next.next.next = Node(4)\n",
        "head.next.next.next.next = Node(5)\n",
        "\n",
        "# Set random pointers\n",
        "head.random = head.next.next\n",
        "head.next.random = head.next.next.next.next\n",
        "head.next.next.random = head.next.next.next\n",
        "head.next.next.next.random = head.next\n",
        "head.next.next.next.next.random = head\n",
        "\n",
        "# Clone the linked list\n",
        "result = cloneLinkedList(head)\n",
        "\n",
        "# Print the copied linked list\n",
        "current = result\n",
        "while current:\n",
        "    print(f\"Node: {current.data}, Random: {current.random.data if current.random else None}\")\n",
        "    current = current.next\n"
      ],
      "metadata": {
        "colab": {
          "base_uri": "https://localhost:8080/"
        },
        "id": "7tV6jIqCTEaJ",
        "outputId": "790c4b30-af2a-419e-cbf4-a184aa568469"
      },
      "execution_count": null,
      "outputs": [
        {
          "output_type": "stream",
          "name": "stdout",
          "text": [
            "Node: 1, Random: 3\n",
            "Node: 2, Random: 5\n",
            "Node: 3, Random: 4\n",
            "Node: 4, Random: 2\n",
            "Node: 5, Random: 1\n"
          ]
        }
      ]
    },
    {
      "cell_type": "code",
      "source": [],
      "metadata": {
        "id": "ra9ljaMJTQWC"
      },
      "execution_count": null,
      "outputs": []
    },
    {
      "cell_type": "markdown",
      "source": [
        "<aside>\n",
        "💡 **Question 5**\n",
        "\n",
        "Given the `head` of a singly linked list, group all the nodes with odd indices together followed by the nodes with even indices, and return *the reordered list*.\n",
        "\n",
        "The **first** node is considered **odd**, and the **second** node is **even**, and so on.\n",
        "\n",
        "Note that the relative order inside both the even and odd groups should remain as it was in the input.\n",
        "\n",
        "You must solve the problem in `O(1)` extra space complexity and `O(n)` time complexity.\n",
        "\n",
        "</aside>"
      ],
      "metadata": {
        "id": "mmqX3usvTQlP"
      }
    },
    {
      "cell_type": "code",
      "source": [
        "class ListNode:\n",
        "    def __init__(self, val=0, next=None):\n",
        "        self.val = val\n",
        "        self.next = next\n",
        "\n",
        "def oddEvenList(head):\n",
        "    if not head or not head.next:\n",
        "        return head\n",
        "\n",
        "    odd_head = odd = head\n",
        "    even_head = even = head.next\n",
        "\n",
        "    while even and even.next:\n",
        "        odd.next = even.next\n",
        "        odd = odd.next\n",
        "        even.next = odd.next\n",
        "        even = even.next\n",
        "\n",
        "    odd.next = even_head\n",
        "\n",
        "    return odd_head\n",
        "# Example usage\n",
        "# Create the linked list: 1 -> 2 -> 3 -> 4 -> 5\n",
        "head = ListNode(1)\n",
        "head.next = ListNode(2)\n",
        "head.next.next = ListNode(3)\n",
        "head.next.next.next = ListNode(4)\n",
        "head.next.next.next.next = ListNode(5)\n",
        "\n",
        "# Reorder the list\n",
        "reordered_list = oddEvenList(head)\n",
        "\n",
        "# Print the reordered list\n",
        "current = reordered_list\n",
        "while current:\n",
        "    print(current.val, end=\" -> \")\n",
        "    current = current.next\n",
        "print(\"None\")\n"
      ],
      "metadata": {
        "colab": {
          "base_uri": "https://localhost:8080/"
        },
        "id": "o2vT9a1jTUcq",
        "outputId": "a7e32c81-4c67-4aee-89a5-23678f559b3f"
      },
      "execution_count": null,
      "outputs": [
        {
          "output_type": "stream",
          "name": "stdout",
          "text": [
            "1 -> 3 -> 5 -> 2 -> 4 -> None\n"
          ]
        }
      ]
    },
    {
      "cell_type": "code",
      "source": [],
      "metadata": {
        "id": "ty1XUpB4TdNq"
      },
      "execution_count": null,
      "outputs": []
    },
    {
      "cell_type": "markdown",
      "source": [
        "<aside>\n",
        "💡 **Question 6**\n",
        "\n",
        "Given a singly linked list of size **N**. The task is to **left-shift** the linked list by **k** nodes, where **k** is a given positive integer smaller than or equal to length of the linked list.\n",
        "\n",
        "</aside>\n"
      ],
      "metadata": {
        "id": "hMDi6WMWTdZ6"
      }
    },
    {
      "cell_type": "code",
      "source": [
        "class ListNode:\n",
        "    def __init__(self, val=0, next=None):\n",
        "        self.val = val\n",
        "        self.next = next\n",
        "\n",
        "def leftShiftLinkedList(head, k):\n",
        "    if not head or not head.next:\n",
        "        return head\n",
        "\n",
        "    # Step 1: Compute the length of the linked list\n",
        "    length = 0\n",
        "    current = head\n",
        "    while current:\n",
        "        length += 1\n",
        "        current = current.next\n",
        "\n",
        "    # Step 2: Compute the effective shift count\n",
        "    k %= length\n",
        "\n",
        "    # Step 3: Check if shifting is needed\n",
        "    if k == 0:\n",
        "        return head\n",
        "\n",
        "    # Step 4: Initialize pointers\n",
        "    fast = slow = head\n",
        "\n",
        "    # Step 5: Move the fast pointer k steps ahead\n",
        "    while k > 0:\n",
        "        fast = fast.next\n",
        "        k -= 1\n",
        "\n",
        "    # Step 6: Traverse the list\n",
        "    while fast.next:\n",
        "        fast = fast.next\n",
        "        slow = slow.next\n",
        "\n",
        "    # Step 7: Set the new head and tail\n",
        "    new_head = slow.next\n",
        "    slow.next = None\n",
        "    fast.next = head\n",
        "\n",
        "    # Step 11: Return the new head\n",
        "    return new_head\n",
        "# Example usage\n",
        "# Create the linked list: 1 -> 2 -> 3 -> 4 -> 5\n",
        "head = ListNode(1)\n",
        "head.next = ListNode(2)\n",
        "head.next.next = ListNode(3)\n",
        "head.next.next.next = ListNode(4)\n",
        "head.next.next.next.next = ListNode(5)\n",
        "\n",
        "# Left-shift the list by 2 nodes\n",
        "new_head = leftShiftLinkedList(head, 2)\n",
        "\n",
        "# Print the left-shifted list\n",
        "current = new_head\n",
        "while current:\n",
        "    print(current.val, end=\" -> \")\n",
        "    current = current.next\n",
        "print(\"None\")\n"
      ],
      "metadata": {
        "colab": {
          "base_uri": "https://localhost:8080/"
        },
        "id": "f4cQ-yQDTgwF",
        "outputId": "c3f0fa2c-891c-422e-d98e-c4af6d149f8b"
      },
      "execution_count": null,
      "outputs": [
        {
          "output_type": "stream",
          "name": "stdout",
          "text": [
            "4 -> 5 -> 1 -> 2 -> 3 -> None\n"
          ]
        }
      ]
    },
    {
      "cell_type": "code",
      "source": [],
      "metadata": {
        "id": "QSawcRFcTt8T"
      },
      "execution_count": null,
      "outputs": []
    },
    {
      "cell_type": "markdown",
      "source": [
        "<aside>\n",
        "💡 **Question 7**\n",
        "\n",
        "You are given the `head` of a linked list with `n` nodes.\n",
        "\n",
        "For each node in the list, find the value of the **next greater node**. That is, for each node, find the value of the first node that is next to it and has a **strictly larger** value than it.\n",
        "\n",
        "Return an integer array `answer` where `answer[i]` is the value of the next greater node of the `ith` node (**1-indexed**). If the `ith` node does not have a next greater node, set `answer[i] = 0`.\n",
        "\n",
        "</aside>\n"
      ],
      "metadata": {
        "id": "xZKIIQmsTuLc"
      }
    },
    {
      "cell_type": "code",
      "source": [
        "class ListNode:\n",
        "    def __init__(self, val=0, next=None):\n",
        "        self.val = val\n",
        "        self.next = next\n",
        "\n",
        "def nextLargerNodes(head):\n",
        "    # Step 1: Store node values in a list\n",
        "    values = []\n",
        "    current = head\n",
        "    while current:\n",
        "        values.append(current.val)\n",
        "        current = current.next\n",
        "\n",
        "    # Step 2: Initialize answer array\n",
        "    n = len(values)\n",
        "    answer = [0] * n\n",
        "\n",
        "    # Step 3: Initialize stack\n",
        "    stack = []\n",
        "\n",
        "    # Step 4: Traverse the linked list in reverse order\n",
        "    for i in range(n - 1, -1, -1):\n",
        "        # Step 5: Pop elements from the stack\n",
        "        while stack and stack[-1] <= values[i]:\n",
        "            stack.pop()\n",
        "\n",
        "        # Step 6: Set answer value\n",
        "        if stack:\n",
        "            answer[i] = stack[-1]\n",
        "\n",
        "        # Step 7: Push current value onto stack\n",
        "        stack.append(values[i])\n",
        "\n",
        "    # Step 9: Return the answer array\n",
        "    return answer\n",
        "# Example usage\n",
        "# Create the linked list: 2 -> 7 -> 4 -> 3 -> 5\n",
        "head = ListNode(2)\n",
        "head.next = ListNode(7)\n",
        "head.next.next = ListNode(4)\n",
        "head.next.next.next = ListNode(3)\n",
        "head.next.next.next.next = ListNode(5)\n",
        "\n",
        "# Find the next greater nodes\n",
        "result = nextLargerNodes(head)\n",
        "\n",
        "# Print the result\n",
        "print(result)\n"
      ],
      "metadata": {
        "colab": {
          "base_uri": "https://localhost:8080/"
        },
        "id": "K6gKj9HP3MH_",
        "outputId": "7a8d5f87-3814-4c4a-f312-ed223054af83"
      },
      "execution_count": 3,
      "outputs": [
        {
          "output_type": "stream",
          "name": "stdout",
          "text": [
            "[7, 0, 5, 5, 0]\n"
          ]
        }
      ]
    },
    {
      "cell_type": "markdown",
      "source": [
        "<aside>\n",
        "💡 **Question 8**\n",
        "\n",
        "Given the `head` of a linked list, we repeatedly delete consecutive sequences of nodes that sum to `0` until there are no such sequences.\n",
        "\n",
        "After doing so, return the head of the final linked list.  You may return any such answer.\n",
        "\n",
        "(Note that in the examples below, all sequences are serializations of `ListNode` objects.)\n",
        "\n",
        "</aside>"
      ],
      "metadata": {
        "id": "FeW8dEP_UBYG"
      }
    },
    {
      "cell_type": "code",
      "source": [
        "class ListNode:\n",
        "    def __init__(self, val=0, next=None):\n",
        "        self.val = val\n",
        "        self.next = next\n",
        "\n",
        "def removeZeroSumSublists(head):\n",
        "    # Step 1: Create a dummy node\n",
        "    dummy = ListNode(0)\n",
        "    dummy.next = head\n",
        "\n",
        "    # Step 2: Initialize a hashmap\n",
        "    hashmap = {}\n",
        "\n",
        "    # Step 3: Traverse the linked list to calculate running sum\n",
        "    current = dummy\n",
        "    running_sum = 0\n",
        "    while current:\n",
        "        running_sum += current.val\n",
        "\n",
        "        # Step 4: Check if running sum exists in the hashmap\n",
        "        if running_sum in hashmap:\n",
        "            # Step 5: Update the next pointer to skip the nodes\n",
        "            prev = hashmap[running_sum]\n",
        "            prev.next = current.next\n",
        "\n",
        "            # Step 6: Remove entries from hashmap\n",
        "            key = running_sum\n",
        "            while key != current:\n",
        "                key = key.next\n",
        "                del hashmap[key]\n",
        "\n",
        "        else:\n",
        "            # Step 6: Add running sum and node to the hashmap\n",
        "            hashmap[running_sum] = current\n",
        "\n",
        "        # Step 7: Move to the next node\n",
        "        current = current.next\n",
        "\n",
        "    # Return the head of the modified linked list\n",
        "    return dummy.next\n",
        "# Example usage\n",
        "# Create the linked list: 1 -> 2 -> -3 -> 3 -> 1\n",
        "head = ListNode(1)\n",
        "head.next = ListNode(2)\n",
        "head.next.next = ListNode(-3)\n",
        "head.next.next.next = ListNode(3)\n",
        "head.next.next.next.next = ListNode(1)\n",
        "\n",
        "# Remove consecutive sequences that sum to 0\n",
        "modified_head = removeZeroSumSublists(head)\n",
        "\n",
        "# Print the modified linked list\n",
        "current = modified_head\n",
        "while current:\n",
        "    print(current.val, end=\" -> \")\n",
        "    current = current.next\n",
        "print(\"None\")\n"
      ],
      "metadata": {
        "colab": {
          "base_uri": "https://localhost:8080/",
          "height": 357
        },
        "id": "H2MI0WSL3Dh1",
        "outputId": "6f17ffdd-438b-4d86-d3ae-6a3070296abf"
      },
      "execution_count": 2,
      "outputs": [
        {
          "output_type": "error",
          "ename": "AttributeError",
          "evalue": "ignored",
          "traceback": [
            "\u001b[0;31m---------------------------------------------------------------------------\u001b[0m",
            "\u001b[0;31mAttributeError\u001b[0m                            Traceback (most recent call last)",
            "\u001b[0;32m<ipython-input-2-fde81988a3bd>\u001b[0m in \u001b[0;36m<cell line: 50>\u001b[0;34m()\u001b[0m\n\u001b[1;32m     48\u001b[0m \u001b[0;34m\u001b[0m\u001b[0m\n\u001b[1;32m     49\u001b[0m \u001b[0;31m# Remove consecutive sequences that sum to 0\u001b[0m\u001b[0;34m\u001b[0m\u001b[0;34m\u001b[0m\u001b[0m\n\u001b[0;32m---> 50\u001b[0;31m \u001b[0mmodified_head\u001b[0m \u001b[0;34m=\u001b[0m \u001b[0mremoveZeroSumSublists\u001b[0m\u001b[0;34m(\u001b[0m\u001b[0mhead\u001b[0m\u001b[0;34m)\u001b[0m\u001b[0;34m\u001b[0m\u001b[0;34m\u001b[0m\u001b[0m\n\u001b[0m\u001b[1;32m     51\u001b[0m \u001b[0;34m\u001b[0m\u001b[0m\n\u001b[1;32m     52\u001b[0m \u001b[0;31m# Print the modified linked list\u001b[0m\u001b[0;34m\u001b[0m\u001b[0;34m\u001b[0m\u001b[0m\n",
            "\u001b[0;32m<ipython-input-2-fde81988a3bd>\u001b[0m in \u001b[0;36mremoveZeroSumSublists\u001b[0;34m(head)\u001b[0m\n\u001b[1;32m     27\u001b[0m             \u001b[0mkey\u001b[0m \u001b[0;34m=\u001b[0m \u001b[0mrunning_sum\u001b[0m\u001b[0;34m\u001b[0m\u001b[0;34m\u001b[0m\u001b[0m\n\u001b[1;32m     28\u001b[0m             \u001b[0;32mwhile\u001b[0m \u001b[0mkey\u001b[0m \u001b[0;34m!=\u001b[0m \u001b[0mcurrent\u001b[0m\u001b[0;34m:\u001b[0m\u001b[0;34m\u001b[0m\u001b[0;34m\u001b[0m\u001b[0m\n\u001b[0;32m---> 29\u001b[0;31m                 \u001b[0mkey\u001b[0m \u001b[0;34m=\u001b[0m \u001b[0mkey\u001b[0m\u001b[0;34m.\u001b[0m\u001b[0mnext\u001b[0m\u001b[0;34m\u001b[0m\u001b[0;34m\u001b[0m\u001b[0m\n\u001b[0m\u001b[1;32m     30\u001b[0m                 \u001b[0;32mdel\u001b[0m \u001b[0mhashmap\u001b[0m\u001b[0;34m[\u001b[0m\u001b[0mkey\u001b[0m\u001b[0;34m]\u001b[0m\u001b[0;34m\u001b[0m\u001b[0;34m\u001b[0m\u001b[0m\n\u001b[1;32m     31\u001b[0m \u001b[0;34m\u001b[0m\u001b[0m\n",
            "\u001b[0;31mAttributeError\u001b[0m: 'int' object has no attribute 'next'"
          ]
        }
      ]
    },
    {
      "cell_type": "code",
      "source": [],
      "metadata": {
        "id": "2sOQ-NNm3HLT"
      },
      "execution_count": null,
      "outputs": []
    }
  ]
}