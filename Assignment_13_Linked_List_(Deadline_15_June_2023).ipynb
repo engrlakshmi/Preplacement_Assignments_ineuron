{
  "nbformat": 4,
  "nbformat_minor": 0,
  "metadata": {
    "colab": {
      "provenance": []
    },
    "kernelspec": {
      "name": "python3",
      "display_name": "Python 3"
    },
    "language_info": {
      "name": "python"
    }
  },
  "cells": [
    {
      "cell_type": "code",
      "execution_count": null,
      "metadata": {
        "id": "xov57ZP9uuBd"
      },
      "outputs": [],
      "source": []
    },
    {
      "cell_type": "markdown",
      "source": [
        "<aside>\n",
        "💡 **Question 1**\n",
        "\n",
        "Given two linked list of the same size, the task is to create a new linked list using those linked lists. The condition is that the greater node among both linked list will be added to the new linked list.\n",
        "\n",
        "**Examples:**\n",
        "\n",
        "</aside>"
      ],
      "metadata": {
        "id": "8aLEkV-Yuu6L"
      }
    },
    {
      "cell_type": "code",
      "source": [
        "class Node:\n",
        "    def __init__(self, data):\n",
        "        self.data = data\n",
        "        self.next = None\n",
        "\n",
        "def insertEnd(head, data):\n",
        "    newNode = Node(data)\n",
        "\n",
        "    if head is None:\n",
        "        head = newNode\n",
        "    else:\n",
        "        current = head\n",
        "        while current.next is not None:\n",
        "            current = current.next\n",
        "        current.next = newNode\n",
        "\n",
        "    return head\n",
        "def createNewLinkedList(list1, list2):\n",
        "    if list1 is None or list2 is None:\n",
        "        return None\n",
        "\n",
        "    head = None\n",
        "    current1 = list1\n",
        "    current2 = list2\n",
        "\n",
        "    while current1 is not None and current2 is not None:\n",
        "        if current1.data >= current2.data:\n",
        "            head = insertEnd(head, current1.data)\n",
        "        else:\n",
        "            head = insertEnd(head, current2.data)\n",
        "\n",
        "        current1 = current1.next\n",
        "        current2 = current2.next\n",
        "\n",
        "    return head\n",
        "# Example usage\n",
        "# Create the first linked list: 1 -> 3 -> 5 -> None\n",
        "list1 = Node(1)\n",
        "list1.next = Node(3)\n",
        "list1.next.next = Node(5)\n",
        "\n",
        "# Create the second linked list: 2 -> 4 -> 6 -> None\n",
        "list2 = Node(2)\n",
        "list2.next = Node(4)\n",
        "list2.next.next = Node(6)\n",
        "\n",
        "# Create the new linked list using the greater nodes: 2 -> 4 -> 6 -> None\n",
        "result = createNewLinkedList(list1, list2)\n",
        "\n",
        "# Print the new linked list\n",
        "current = result\n",
        "while current is not None:\n",
        "    print(current.data, end=\" -> \")\n",
        "    current = current.next\n",
        "print(\"None\")\n"
      ],
      "metadata": {
        "colab": {
          "base_uri": "https://localhost:8080/"
        },
        "id": "O9cMas1nuv9O",
        "outputId": "b0ed881d-ddca-4d81-cbdd-17cb195103e3"
      },
      "execution_count": 1,
      "outputs": [
        {
          "output_type": "stream",
          "name": "stdout",
          "text": [
            "2 -> 4 -> 6 -> None\n"
          ]
        }
      ]
    },
    {
      "cell_type": "code",
      "source": [],
      "metadata": {
        "id": "keHgh9dCuwh8"
      },
      "execution_count": null,
      "outputs": []
    },
    {
      "cell_type": "markdown",
      "source": [
        "<aside>\n",
        "💡 **Question 2**\n",
        "\n",
        "Write a function that takes a list sorted in non-decreasing order and deletes any duplicate nodes from the list. The list should only be traversed once.\n",
        "\n",
        "For example if the linked list is 11->11->11->21->43->43->60 then removeDuplicates() should convert the list to 11->21->43->60.\n",
        "\n",
        "**Example 1:**\n",
        "\n",
        "</aside>"
      ],
      "metadata": {
        "id": "m7sxmlZku2da"
      }
    },
    {
      "cell_type": "code",
      "source": [
        "class Node:\n",
        "    def __init__(self, data):\n",
        "        self.data = data\n",
        "        self.next = None\n",
        "def removeDuplicates(head):\n",
        "    if head is None:\n",
        "        return head\n",
        "\n",
        "    current = head\n",
        "    while current.next is not None:\n",
        "        if current.data == current.next.data:\n",
        "            current.next = current.next.next\n",
        "        else:\n",
        "            current = current.next\n",
        "\n",
        "    return head\n"
      ],
      "metadata": {
        "id": "dY2mAVwSu2_Q"
      },
      "execution_count": 2,
      "outputs": []
    },
    {
      "cell_type": "code",
      "source": [],
      "metadata": {
        "id": "crYP8Xwzu3nZ"
      },
      "execution_count": null,
      "outputs": []
    },
    {
      "cell_type": "code",
      "source": [],
      "metadata": {
        "id": "fNsKsUHRu3xb"
      },
      "execution_count": null,
      "outputs": []
    },
    {
      "cell_type": "markdown",
      "source": [
        "<aside>\n",
        "💡 **Question 3**\n",
        "\n",
        "Given a linked list of size **N**. The task is to reverse every **k** nodes (where k is an input to the function) in the linked list. If the number of nodes is not a multiple of *k* then left-out nodes, in the end, should be considered as a group and must be reversed (See Example 2 for clarification).\n",
        "\n",
        "</aside>"
      ],
      "metadata": {
        "id": "QxvSJvOfu783"
      }
    },
    {
      "cell_type": "code",
      "source": [
        "class Node:\n",
        "    def __init__(self, data):\n",
        "        self.data = data\n",
        "        self.next = None\n",
        "def reverseLinkedList(head):\n",
        "    prev = None\n",
        "    current = head\n",
        "\n",
        "    while current is not None:\n",
        "        next_node = current.next\n",
        "        current.next = prev\n",
        "        prev = current\n",
        "        current = next_node\n",
        "\n",
        "    return prev\n",
        "def reverseKNodes(head, k):\n",
        "    if head is None:\n",
        "        return None\n",
        "\n",
        "    current = head\n",
        "    next_node = None\n",
        "    prev = None\n",
        "    count = 0\n",
        "\n",
        "    # Reverse the first k nodes\n",
        "    while current is not None and count < k:\n",
        "        next_node = current.next\n",
        "        current.next = prev\n",
        "        prev = current\n",
        "        current = next_node\n",
        "        count += 1\n",
        "\n",
        "    # Recursively reverse the remaining nodes\n",
        "    if next_node is not None:\n",
        "        head.next = reverseKNodes(next_node, k)\n",
        "\n",
        "    return prev\n",
        "# Example usage\n",
        "# Create the linked list: 1 -> 2 -> 3 -> 4 -> 5 -> 6 -> 7 -> 8 -> None\n",
        "head = Node(1)\n",
        "head.next = Node(2)\n",
        "head.next.next = Node(3)\n",
        "head.next.next.next = Node(4)\n",
        "head.next.next.next.next = Node(5)\n",
        "head.next.next.next.next.next = Node(6)\n",
        "head.next.next.next.next.next.next = Node(7)\n",
        "head.next.next.next.next.next.next.next = Node(8)\n",
        "\n",
        "# Reverse every 3 nodes: 3 -> 2 -> 1 -> 6 -> 5 -> 4 -> 8 -> 7 -> None\n",
        "k = 3\n",
        "result = reverseKNodes(head, k)\n",
        "\n",
        "# Print the reversed list\n",
        "current = result\n",
        "while current is not None:\n",
        "    print(current.data, end=\" -> \")\n",
        "    current = current.next\n",
        "print(\"None\")\n"
      ],
      "metadata": {
        "colab": {
          "base_uri": "https://localhost:8080/"
        },
        "id": "Va5IFJDgu8kH",
        "outputId": "6d333934-d8a0-4b47-dbf7-4807541f0c01"
      },
      "execution_count": 3,
      "outputs": [
        {
          "output_type": "stream",
          "name": "stdout",
          "text": [
            "3 -> 2 -> 1 -> 6 -> 5 -> 4 -> 8 -> 7 -> None\n"
          ]
        }
      ]
    },
    {
      "cell_type": "code",
      "source": [],
      "metadata": {
        "id": "grlsk5oJvBLT"
      },
      "execution_count": null,
      "outputs": []
    },
    {
      "cell_type": "code",
      "source": [],
      "metadata": {
        "id": "u4RzJP04vBS5"
      },
      "execution_count": null,
      "outputs": []
    },
    {
      "cell_type": "code",
      "source": [],
      "metadata": {
        "id": "-bdA8pplvBcR"
      },
      "execution_count": null,
      "outputs": []
    },
    {
      "cell_type": "markdown",
      "source": [
        "<aside>\n",
        "💡 **Question 4**\n",
        "\n",
        "Given a linked list, write a function to reverse every alternate k nodes (where k is an input to the function) in an efficient way. Give the complexity of your algorithm.\n",
        "\n",
        "</aside>"
      ],
      "metadata": {
        "id": "IzYSq0u4vBr_"
      }
    },
    {
      "cell_type": "code",
      "source": [
        "class Node:\n",
        "    def __init__(self, data):\n",
        "        self.data = data\n",
        "        self.next = None\n",
        "def reverseLinkedList(head):\n",
        "    prev = None\n",
        "    current = head\n",
        "\n",
        "    while current is not None:\n",
        "        next_node = current.next\n",
        "        current.next = prev\n",
        "        prev = current\n",
        "        current = next_node\n",
        "\n",
        "    return prev\n",
        "def reverseKNodes(head, k):\n",
        "    if head is None:\n",
        "        return None\n",
        "\n",
        "    current = head\n",
        "    next_node = None\n",
        "    prev = None\n",
        "    count = 0\n",
        "\n",
        "    # Reverse the first k nodes\n",
        "    while current is not None and count < k:\n",
        "        next_node = current.next\n",
        "        current.next = prev\n",
        "        prev = current\n",
        "        current = next_node\n",
        "        count += 1\n",
        "\n",
        "    # Recursively reverse the remaining nodes\n",
        "    if next_node is not None:\n",
        "        head.next = reverseKNodes(next_node, k)\n",
        "\n",
        "    return prev\n",
        "# Example usage\n",
        "# Create the linked list: 1 -> 2 -> 3 -> 4 -> 5 -> 6 -> 7 -> 8 -> None\n",
        "head = Node(1)\n",
        "head.next = Node(2)\n",
        "head.next.next = Node(3)\n",
        "head.next.next.next = Node(4)\n",
        "head.next.next.next.next = Node(5)\n",
        "head.next.next.next.next.next = Node(6)\n",
        "head.next.next.next.next.next.next = Node(7)\n",
        "head.next.next.next.next.next.next.next = Node(8)\n",
        "\n",
        "# Reverse every 3 nodes: 3 -> 2 -> 1 -> 6 -> 5 -> 4 -> 8 -> 7 -> None\n",
        "k = 3\n",
        "result = reverseKNodes(head, k)\n",
        "\n",
        "# Print the reversed list\n",
        "current = result\n",
        "while current is not None:\n",
        "    print(current.data, end=\" -> \")\n",
        "    current = current.next\n",
        "print(\"None\")\n"
      ],
      "metadata": {
        "colab": {
          "base_uri": "https://localhost:8080/"
        },
        "id": "fAxIjQVywI7I",
        "outputId": "37b88283-1aa0-48c4-cdce-2cb6d8f4d411"
      },
      "execution_count": 1,
      "outputs": [
        {
          "output_type": "stream",
          "name": "stdout",
          "text": [
            "3 -> 2 -> 1 -> 6 -> 5 -> 4 -> 8 -> 7 -> None\n"
          ]
        }
      ]
    },
    {
      "cell_type": "code",
      "source": [],
      "metadata": {
        "id": "gfDFwlcQwKAm"
      },
      "execution_count": null,
      "outputs": []
    },
    {
      "cell_type": "code",
      "source": [],
      "metadata": {
        "id": "KcXIvmRCwKDe"
      },
      "execution_count": null,
      "outputs": []
    },
    {
      "cell_type": "markdown",
      "source": [
        "<aside>\n",
        "💡 **Question 5**\n",
        "\n",
        "Given a linked list and a key to be deleted. Delete last occurrence of key from linked. The list may have duplicates.\n",
        "\n",
        "</aside>"
      ],
      "metadata": {
        "id": "JiCW7f5UwKXF"
      }
    },
    {
      "cell_type": "code",
      "source": [
        "class Node:\n",
        "    def __init__(self, data):\n",
        "        self.data = data\n",
        "        self.next = None\n",
        "def deleteLastOccurrence(head, key):\n",
        "    if head is None:\n",
        "        return None\n",
        "\n",
        "    prev = None\n",
        "    current = head\n",
        "    target = None\n",
        "    target_prev = None\n",
        "\n",
        "    # Traverse the list to find the last occurrence of the key\n",
        "    while current is not None:\n",
        "        if current.data == key:\n",
        "            target = current\n",
        "            target_prev = prev\n",
        "        prev = current\n",
        "        current = current.next\n",
        "\n",
        "    # If the key is not found, return the original list\n",
        "    if target is None:\n",
        "        return head\n",
        "\n",
        "    # If the target is the first node, update the head\n",
        "    if target_prev is None:\n",
        "        head = target.next\n",
        "    else:\n",
        "        target_prev.next = target.next\n",
        "\n",
        "    return head\n",
        "# Example usage\n",
        "# Create the linked list: 1 -> 2 -> 3 -> 2 -> 4 -> 2 -> 5 -> None\n",
        "head = Node(1)\n",
        "head.next = Node(2)\n",
        "head.next.next = Node(3)\n",
        "head.next.next.next = Node(2)\n",
        "head.next.next.next.next = Node(4)\n",
        "head.next.next.next.next.next = Node(2)\n",
        "head.next.next.next.next.next.next = Node(5)\n",
        "\n",
        "# Delete the last occurrence of key 2: 1 -> 2 -> 3 -> 2 -> 4 -> 5 -> None\n",
        "key = 2\n",
        "result = deleteLastOccurrence(head, key)\n",
        "\n",
        "# Print the updated list\n",
        "current = result\n",
        "while current is not None:\n",
        "    print(current.data, end=\" -> \")\n",
        "    current = current.next\n",
        "print(\"None\")\n"
      ],
      "metadata": {
        "colab": {
          "base_uri": "https://localhost:8080/"
        },
        "id": "D47Z0CB6wOTc",
        "outputId": "5f455da7-cd3f-48f1-9c01-3496b4375b90"
      },
      "execution_count": 2,
      "outputs": [
        {
          "output_type": "stream",
          "name": "stdout",
          "text": [
            "1 -> 2 -> 3 -> 2 -> 4 -> 5 -> None\n"
          ]
        }
      ]
    },
    {
      "cell_type": "code",
      "source": [],
      "metadata": {
        "id": "ydu6gI45wOxe"
      },
      "execution_count": null,
      "outputs": []
    },
    {
      "cell_type": "code",
      "source": [],
      "metadata": {
        "id": "yQVIV-L7wO1x"
      },
      "execution_count": null,
      "outputs": []
    },
    {
      "cell_type": "code",
      "source": [],
      "metadata": {
        "id": "tIGSlCs6wO5g"
      },
      "execution_count": null,
      "outputs": []
    },
    {
      "cell_type": "code",
      "source": [],
      "metadata": {
        "id": "jPSwjL7bwO9U"
      },
      "execution_count": null,
      "outputs": []
    },
    {
      "cell_type": "markdown",
      "source": [
        "<aside>\n",
        "💡 **Question 6**\n",
        "\n",
        "Given two sorted linked lists consisting of **N** and **M** nodes respectively. The task is to merge both of the lists (in place) and return the head of the merged list.\n",
        "\n",
        "</aside>"
      ],
      "metadata": {
        "id": "xIeWf8Z0wRtX"
      }
    },
    {
      "cell_type": "code",
      "source": [
        "class Node:\n",
        "    def __init__(self, data):\n",
        "        self.data = data\n",
        "        self.next = None\n",
        "def mergeSortedLists(head1, head2):\n",
        "    # Create a dummy node to serve as the head of the merged list\n",
        "    dummy = Node(0)\n",
        "    current = dummy\n",
        "\n",
        "    # Merge the lists until one of them becomes empty\n",
        "    while head1 is not None and head2 is not None:\n",
        "        if head1.data <= head2.data:\n",
        "            current.next = head1\n",
        "            head1 = head1.next\n",
        "        else:\n",
        "            current.next = head2\n",
        "            head2 = head2.next\n",
        "        current = current.next\n",
        "\n",
        "    # Attach the remaining nodes of the non-empty list, if any\n",
        "    if head1 is not None:\n",
        "        current.next = head1\n",
        "    if head2 is not None:\n",
        "        current.next = head2\n",
        "\n",
        "    # Return the head of the merged list\n",
        "    return dummy.next\n",
        "# Example usage\n",
        "# Create the first sorted linked list: 1 -> 3 -> 5 -> None\n",
        "head1 = Node(1)\n",
        "head1.next = Node(3)\n",
        "head1.next.next = Node(5)\n",
        "\n",
        "# Create the second sorted linked list: 2 -> 4 -> 6 -> None\n",
        "head2 = Node(2)\n",
        "head2.next = Node(4)\n",
        "head2.next.next = Node(6)\n",
        "\n",
        "# Merge the two lists: 1 -> 2 -> 3 -> 4 -> 5 -> 6 -> None\n",
        "result = mergeSortedLists(head1, head2)\n",
        "\n",
        "# Print the merged list\n",
        "current = result\n",
        "while current is not None:\n",
        "    print(current.data, end=\" -> \")\n",
        "    current = current.next\n",
        "print(\"None\")\n"
      ],
      "metadata": {
        "colab": {
          "base_uri": "https://localhost:8080/"
        },
        "id": "oxmEAqdSwSXh",
        "outputId": "d97aee73-958c-412e-a378-6a0806072860"
      },
      "execution_count": 3,
      "outputs": [
        {
          "output_type": "stream",
          "name": "stdout",
          "text": [
            "1 -> 2 -> 3 -> 4 -> 5 -> 6 -> None\n"
          ]
        }
      ]
    },
    {
      "cell_type": "markdown",
      "source": [
        "<aside>\n",
        "💡 **Question 7**\n",
        "\n",
        "Given a **Doubly Linked List**, the task is to reverse the given Doubly Linked List.\n",
        "\n",
        "</aside>"
      ],
      "metadata": {
        "id": "sRF18Mw_wS4K"
      }
    },
    {
      "cell_type": "code",
      "source": [
        "class Node:\n",
        "    def __init__(self, data):\n",
        "        self.data = data\n",
        "        self.prev = None\n",
        "        self.next = None\n",
        "def reverseDoublyLinkedList(head):\n",
        "    if head is None:\n",
        "        return None\n",
        "\n",
        "    current = head\n",
        "    prev = None\n",
        "\n",
        "    # Swap the prev and next pointers of each node\n",
        "    while current is not None:\n",
        "        temp = current.next\n",
        "        current.next = current.prev\n",
        "        current.prev = temp\n",
        "        prev = current\n",
        "        current = temp\n",
        "\n",
        "    # Update the head pointer\n",
        "    head = prev\n",
        "\n",
        "    return head\n",
        "# Example usage\n",
        "# Create the doubly linked list: 1 -> 2 -> 3 -> 4 -> None\n",
        "head = Node(1)\n",
        "head.next = Node(2)\n",
        "head.next.prev = head\n",
        "head.next.next = Node(3)\n",
        "head.next.next.prev = head.next\n",
        "head.next.next.next = Node(4)\n",
        "head.next.next.next.prev = head.next.next\n",
        "\n",
        "# Reverse the doubly linked list: 4 -> 3 -> 2 -> 1 -> None\n",
        "result = reverseDoublyLinkedList(head)\n",
        "\n",
        "# Print the reversed list\n",
        "current = result\n",
        "while current is not None:\n",
        "    print(current.data, end=\" -> \")\n",
        "    current = current.next\n",
        "print(\"None\")\n"
      ],
      "metadata": {
        "id": "sLcT_4VUwX-1"
      },
      "execution_count": null,
      "outputs": []
    },
    {
      "cell_type": "code",
      "source": [],
      "metadata": {
        "id": "hn6Q8TP3wYoW"
      },
      "execution_count": null,
      "outputs": []
    },
    {
      "cell_type": "markdown",
      "source": [
        "<aside>\n",
        "💡 **Question 8**\n",
        "\n",
        "Given a doubly linked list and a position. The task is to delete a node from given position in a doubly linked list.\n",
        "\n",
        "</aside>"
      ],
      "metadata": {
        "id": "mBnTa4uwwY4b"
      }
    },
    {
      "cell_type": "code",
      "source": [
        "class Node:\n",
        "    def __init__(self, data):\n",
        "        self.data = data\n",
        "        self.prev = None\n",
        "        self.next = None\n",
        "def deleteNode(head, position):\n",
        "    # If the list is empty, return\n",
        "    if head is None:\n",
        "        return None\n",
        "\n",
        "    # If the node to be deleted is the head node, update the head pointer\n",
        "    if position == 1:\n",
        "        head = head.next\n",
        "        if head is not None:\n",
        "            head.prev = None\n",
        "        return head\n",
        "\n",
        "    # Traverse to the node at the given position\n",
        "    current = head\n",
        "    count = 1\n",
        "    while current is not None and count < position:\n",
        "        current = current.next\n",
        "        count += 1\n",
        "\n",
        "    # If the given position is greater than the number of nodes, return\n",
        "    if current is None:\n",
        "        return head\n",
        "\n",
        "    # Update the pointers of the surrounding nodes\n",
        "    if current.prev is not None:\n",
        "        current.prev.next = current.next\n",
        "    if current.next is not None:\n",
        "        current.next.prev = current.prev\n",
        "\n",
        "    return head\n",
        "# Example usage\n",
        "# Create the doubly linked list: 1 <-> 2 <-> 3 <-> 4 <-> None\n",
        "head = Node(1)\n",
        "node2 = Node(2)\n",
        "node3 = Node(3)\n",
        "node4 = Node(4)\n",
        "\n",
        "head.next = node2\n",
        "node2.prev = head\n",
        "node2.next = node3\n",
        "node3.prev = node2\n",
        "node3.next = node4\n",
        "node4.prev = node3\n",
        "\n",
        "# Delete node at position 2: 1 <-> 3 <-> 4 <-> None\n",
        "position = 2\n",
        "result = deleteNode(head, position)\n",
        "\n",
        "# Print the updated list\n",
        "current = result\n",
        "while current is not None:\n",
        "    print(current.data, end=\" <-> \")\n",
        "    current = current.next\n",
        "print(\"None\")\n"
      ],
      "metadata": {
        "colab": {
          "base_uri": "https://localhost:8080/"
        },
        "id": "Xl3h2dwjwbkm",
        "outputId": "9a1e9e74-3be8-4a54-ef14-a282ba8aac61"
      },
      "execution_count": 4,
      "outputs": [
        {
          "output_type": "stream",
          "name": "stdout",
          "text": [
            "1 <-> 3 <-> 4 <-> None\n"
          ]
        }
      ]
    }
  ]
}